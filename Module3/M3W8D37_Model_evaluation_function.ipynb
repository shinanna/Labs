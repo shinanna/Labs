{
 "cells": [
  {
   "cell_type": "code",
   "execution_count": 6,
   "id": "54403026",
   "metadata": {},
   "outputs": [],
   "source": [
    "from sklearn import metrics\n",
    "from sklearn.cluster import AffinityPropagation\n",
    "from sklearn import datasets\n",
    "import pandas as pd"
   ]
  },
  {
   "cell_type": "code",
   "execution_count": 7,
   "id": "b09e72d1",
   "metadata": {},
   "outputs": [],
   "source": [
    "iris = datasets.load_iris()"
   ]
  },
  {
   "cell_type": "code",
   "execution_count": 9,
   "id": "a0f7ec73",
   "metadata": {
    "scrolled": true
   },
   "outputs": [
    {
     "data": {
      "text/html": [
       "<div>\n",
       "<style scoped>\n",
       "    .dataframe tbody tr th:only-of-type {\n",
       "        vertical-align: middle;\n",
       "    }\n",
       "\n",
       "    .dataframe tbody tr th {\n",
       "        vertical-align: top;\n",
       "    }\n",
       "\n",
       "    .dataframe thead th {\n",
       "        text-align: right;\n",
       "    }\n",
       "</style>\n",
       "<table border=\"1\" class=\"dataframe\">\n",
       "  <thead>\n",
       "    <tr style=\"text-align: right;\">\n",
       "      <th></th>\n",
       "      <th>sepal length (cm)</th>\n",
       "      <th>sepal width (cm)</th>\n",
       "      <th>petal length (cm)</th>\n",
       "      <th>petal width (cm)</th>\n",
       "    </tr>\n",
       "  </thead>\n",
       "  <tbody>\n",
       "    <tr>\n",
       "      <th>0</th>\n",
       "      <td>5.1</td>\n",
       "      <td>3.5</td>\n",
       "      <td>1.4</td>\n",
       "      <td>0.2</td>\n",
       "    </tr>\n",
       "    <tr>\n",
       "      <th>1</th>\n",
       "      <td>4.9</td>\n",
       "      <td>3.0</td>\n",
       "      <td>1.4</td>\n",
       "      <td>0.2</td>\n",
       "    </tr>\n",
       "    <tr>\n",
       "      <th>2</th>\n",
       "      <td>4.7</td>\n",
       "      <td>3.2</td>\n",
       "      <td>1.3</td>\n",
       "      <td>0.2</td>\n",
       "    </tr>\n",
       "    <tr>\n",
       "      <th>3</th>\n",
       "      <td>4.6</td>\n",
       "      <td>3.1</td>\n",
       "      <td>1.5</td>\n",
       "      <td>0.2</td>\n",
       "    </tr>\n",
       "    <tr>\n",
       "      <th>4</th>\n",
       "      <td>5.0</td>\n",
       "      <td>3.6</td>\n",
       "      <td>1.4</td>\n",
       "      <td>0.2</td>\n",
       "    </tr>\n",
       "    <tr>\n",
       "      <th>...</th>\n",
       "      <td>...</td>\n",
       "      <td>...</td>\n",
       "      <td>...</td>\n",
       "      <td>...</td>\n",
       "    </tr>\n",
       "    <tr>\n",
       "      <th>145</th>\n",
       "      <td>6.7</td>\n",
       "      <td>3.0</td>\n",
       "      <td>5.2</td>\n",
       "      <td>2.3</td>\n",
       "    </tr>\n",
       "    <tr>\n",
       "      <th>146</th>\n",
       "      <td>6.3</td>\n",
       "      <td>2.5</td>\n",
       "      <td>5.0</td>\n",
       "      <td>1.9</td>\n",
       "    </tr>\n",
       "    <tr>\n",
       "      <th>147</th>\n",
       "      <td>6.5</td>\n",
       "      <td>3.0</td>\n",
       "      <td>5.2</td>\n",
       "      <td>2.0</td>\n",
       "    </tr>\n",
       "    <tr>\n",
       "      <th>148</th>\n",
       "      <td>6.2</td>\n",
       "      <td>3.4</td>\n",
       "      <td>5.4</td>\n",
       "      <td>2.3</td>\n",
       "    </tr>\n",
       "    <tr>\n",
       "      <th>149</th>\n",
       "      <td>5.9</td>\n",
       "      <td>3.0</td>\n",
       "      <td>5.1</td>\n",
       "      <td>1.8</td>\n",
       "    </tr>\n",
       "  </tbody>\n",
       "</table>\n",
       "<p>150 rows × 4 columns</p>\n",
       "</div>"
      ],
      "text/plain": [
       "     sepal length (cm)  sepal width (cm)  petal length (cm)  petal width (cm)\n",
       "0                  5.1               3.5                1.4               0.2\n",
       "1                  4.9               3.0                1.4               0.2\n",
       "2                  4.7               3.2                1.3               0.2\n",
       "3                  4.6               3.1                1.5               0.2\n",
       "4                  5.0               3.6                1.4               0.2\n",
       "..                 ...               ...                ...               ...\n",
       "145                6.7               3.0                5.2               2.3\n",
       "146                6.3               2.5                5.0               1.9\n",
       "147                6.5               3.0                5.2               2.0\n",
       "148                6.2               3.4                5.4               2.3\n",
       "149                5.9               3.0                5.1               1.8\n",
       "\n",
       "[150 rows x 4 columns]"
      ]
     },
     "execution_count": 9,
     "metadata": {},
     "output_type": "execute_result"
    }
   ],
   "source": [
    "iris_pd = pd.DataFrame(iris['data'], columns=['sepal length (cm)', 'sepal width (cm)', 'petal length (cm)', 'petal width (cm)'])\n",
    "iris_pd"
   ]
  },
  {
   "cell_type": "code",
   "execution_count": 10,
   "id": "2a30c475",
   "metadata": {},
   "outputs": [
    {
     "data": {
      "text/plain": [
       "array([0, 0, 0, 0, 0, 0, 0, 0, 0, 0, 0, 0, 0, 0, 0, 0, 0, 0, 0, 0, 0, 0,\n",
       "       0, 0, 0, 0, 0, 0, 0, 0, 0, 0, 0, 0, 0, 0, 0, 0, 0, 0, 0, 0, 0, 0,\n",
       "       0, 0, 0, 0, 0, 0, 1, 1, 1, 1, 1, 1, 1, 1, 1, 1, 1, 1, 1, 1, 1, 1,\n",
       "       1, 1, 1, 1, 1, 1, 1, 1, 1, 1, 1, 1, 1, 1, 1, 1, 1, 1, 1, 1, 1, 1,\n",
       "       1, 1, 1, 1, 1, 1, 1, 1, 1, 1, 1, 1, 2, 2, 2, 2, 2, 2, 2, 2, 2, 2,\n",
       "       2, 2, 2, 2, 2, 2, 2, 2, 2, 2, 2, 2, 2, 2, 2, 2, 2, 2, 2, 2, 2, 2,\n",
       "       2, 2, 2, 2, 2, 2, 2, 2, 2, 2, 2, 2, 2, 2, 2, 2, 2, 2])"
      ]
     },
     "execution_count": 10,
     "metadata": {},
     "output_type": "execute_result"
    }
   ],
   "source": [
    "y_true = iris.target\n",
    "y_true"
   ]
  },
  {
   "cell_type": "code",
   "execution_count": 13,
   "id": "4cfea4d3",
   "metadata": {},
   "outputs": [],
   "source": [
    "def unsupervised_metrics(X, y_true, y_pred):\n",
    "    \"\"\"\n",
    "    Function to evaluate models based on different metrics:\n",
    "    Homogeneity, Completeness, V-measure, Silhouette Coefficient, Variance Ratio Criterion\n",
    "    \n",
    "    \"\"\"\n",
    "    from sklearn.metrics import silhouette_score, calinski_harabasz_score, adjusted_mutual_info_score, completeness_score, homogeneity_score, adjusted_rand_score, fowlkes_mallows_score\n",
    "\n",
    "    score_hg = metrics.homogeneity_score(y_true, y_pred)\n",
    "    score_cp = metrics.completeness_score(y_true, y_pred)\n",
    "    score_vm = metrics.v_measure_score(y_true, y_pred)\n",
    "    score_ar = metrics.adjusted_rand_score(y_true, y_pred)\n",
    "    score_ami = metrics.adjusted_mutual_info_score(y_true, y_pred)\n",
    "    score_ss = metrics.silhouette_score(X, y_pred)\n",
    "    score_vrc = metrics.calinski_harabasz_score(X, y_pred)\n",
    "    score_fm = fowlkes_mallows_score(y_true, y_pred)\n",
    "    \n",
    "    print(\"Estimated number of clusters: %d\" % n_clusters_)\n",
    "    print(\"Homogeneity: %0.3f\" % score_hg)\n",
    "    print(\"Completeness: %0.3f\" % score_cp)\n",
    "    print(\"V-measure: %0.3f\" % score_vm)\n",
    "    print(\"Adjusted Rand Index: %0.3f\" % score_ar)\n",
    "    print(\"Adjusted Mutual Information: %0.3f\" % score_ami)\n",
    "    print(\"Silhouette Coefficient: %0.3f\" % score_ss)\n",
    "    print('Variance Ratio Criterion: %0.3f' % score_vrc)\n",
    "    print('Fowlkes Mallow: %0.3f' % score_fm)"
   ]
  },
  {
   "cell_type": "code",
   "execution_count": null,
   "id": "66fb4dd7",
   "metadata": {},
   "outputs": [],
   "source": [
    "from sklearn.cluster import KMeans\n",
    "from sklearn.cluster import AgglomerativeClustering"
   ]
  },
  {
   "cell_type": "code",
   "execution_count": 11,
   "id": "df529a80",
   "metadata": {},
   "outputs": [],
   "source": [
    "# KMeans & hierarchical clustering\n",
    "kmeans_dict = {}\n",
    "\n",
    "for i in range (2, 5):\n",
    "    kmeans = KMeans(n_clusters=i, random_state=0)\n",
    "    kmeans.fit(iris_pd)\n",
    "    key1 = 'kmeans' + str(i)\n",
    "    kmeans_dict[i] = kmeans.labels_\n",
    "    hc = AgglomerativeClustering(n_clusters=i)"
   ]
  },
  {
   "cell_type": "code",
   "execution_count": null,
   "id": "18a64e3d",
   "metadata": {},
   "outputs": [],
   "source": [
    "from sklearn.metrics import silhouette_score, calinski_harabasz_score, adjusted_mutual_info_score, completeness_score, homogeneity_score, adjusted_rand_score, fowlkes_mallows_score\n",
    "def unsupervised_metrics(X, y_true, y_pred):\n",
    "\tprint(\"Silhouette Coefficient is equal to:\")\n",
    "\tprint(silhouette_score(X,y_pred))\n",
    "\tprint(\"\\nVariance Ratio Craterion is equal to:\")\n",
    "\tprint(calinski_harabasz_score(X, y_pred))\n",
    "\tprint(\"\\nAdjusted mutual Information is equal to:\")\n",
    "\tprint(adjusted_mutual_info_score(y_true,y_pred))\n",
    "\tprint(\"\\nCompleteness is equal to:\")\n",
    "\tprint(completeness_score(y_true,y_pred))\n",
    "\tprint(\"\\nHomogeneity is equal to:\")\n",
    "\tprint(homogeneity_score(y_true,y_pred))\n",
    "\tprint(\"\\nAdjusted Rand Index is equal to:\")\n",
    "\tprint(adjusted_rand_score(y_true,y_pred))\n",
    "\tprint(\"\\nFowlkes Mallow Scorex is equal to:\")\n",
    "\tprint(fowlkes_mallows_score(y_true,y_pred))\n",
    "11 h 03\n",
    "for key in output_dict:\n",
    "\tprint(key)\n",
    "\tunsupervised_metrics(X=iris_pd, y_true=iris['target'], y_pred=output_dict[key])"
   ]
  }
 ],
 "metadata": {
  "kernelspec": {
   "display_name": "Python 3 (ipykernel)",
   "language": "python",
   "name": "python3"
  },
  "language_info": {
   "codemirror_mode": {
    "name": "ipython",
    "version": 3
   },
   "file_extension": ".py",
   "mimetype": "text/x-python",
   "name": "python",
   "nbconvert_exporter": "python",
   "pygments_lexer": "ipython3",
   "version": "3.8.12"
  }
 },
 "nbformat": 4,
 "nbformat_minor": 5
}
