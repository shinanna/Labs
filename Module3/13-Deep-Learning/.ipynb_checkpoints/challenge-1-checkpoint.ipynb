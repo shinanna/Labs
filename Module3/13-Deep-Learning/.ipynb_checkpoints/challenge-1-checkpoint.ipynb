{
 "cells": [
  {
   "cell_type": "markdown",
   "metadata": {},
   "source": [
    "# Challenge 1 - Tic Tac Toe\n",
    "\n",
    "In this lab you will perform deep learning analysis on a dataset of playing [Tic Tac Toe](https://en.wikipedia.org/wiki/Tic-tac-toe).\n",
    "\n",
    "There are 9 grids in Tic Tac Toe that are coded as the following picture shows:\n",
    "\n",
    "![Tic Tac Toe Grids](tttboard.jpg)\n",
    "\n",
    "In the first 9 columns of the dataset you can find which marks (`x` or `o`) exist in the grids. If there is no mark in a certain grid, it is labeled as `b`. The last column is `class` which tells you whether Player X (who always moves first in Tic Tac Toe) wins in this configuration. Note that when `class` has the value `False`, it means either Player O wins the game or it ends up as a draw."
   ]
  },
  {
   "cell_type": "markdown",
   "metadata": {},
   "source": [
    "Follow the steps suggested below to conduct a neural network analysis using Tensorflow and Keras. You will build a deep learning model to predict whether Player X wins the game or not.\n",
    "\n",
    "## Step 1: Data Engineering\n",
    "\n",
    "This dataset is almost in the ready-to-use state so you do not need to worry about missing values and so on. Still, some simple data engineering is needed.\n",
    "\n",
    "1. Read `tic-tac-toe.csv` into a dataframe.\n",
    "1. Inspect the dataset. Determine if the dataset is reliable by eyeballing the data.\n",
    "1. Convert the categorical values to numeric in all columns.\n",
    "1. Separate the inputs and output.\n",
    "1. Normalize the input data."
   ]
  },
  {
   "cell_type": "code",
   "execution_count": 1,
   "metadata": {},
   "outputs": [],
   "source": [
    "import numpy as np\n",
    "import pandas as pd\n",
    "from tensorflow import keras"
   ]
  },
  {
   "cell_type": "code",
   "execution_count": 2,
   "metadata": {},
   "outputs": [],
   "source": [
    "data = pd.read_csv(r\"C:\\Users\\Shinemet\\Ironhack\\Labs\\Module3\\13-Deep-Learning\\tic-tac-toe.csv\")"
   ]
  },
  {
   "cell_type": "code",
   "execution_count": 3,
   "metadata": {},
   "outputs": [
    {
     "data": {
      "text/html": [
       "<div>\n",
       "<style scoped>\n",
       "    .dataframe tbody tr th:only-of-type {\n",
       "        vertical-align: middle;\n",
       "    }\n",
       "\n",
       "    .dataframe tbody tr th {\n",
       "        vertical-align: top;\n",
       "    }\n",
       "\n",
       "    .dataframe thead th {\n",
       "        text-align: right;\n",
       "    }\n",
       "</style>\n",
       "<table border=\"1\" class=\"dataframe\">\n",
       "  <thead>\n",
       "    <tr style=\"text-align: right;\">\n",
       "      <th></th>\n",
       "      <th>TL</th>\n",
       "      <th>TM</th>\n",
       "      <th>TR</th>\n",
       "      <th>ML</th>\n",
       "      <th>MM</th>\n",
       "      <th>MR</th>\n",
       "      <th>BL</th>\n",
       "      <th>BM</th>\n",
       "      <th>BR</th>\n",
       "      <th>class</th>\n",
       "    </tr>\n",
       "  </thead>\n",
       "  <tbody>\n",
       "    <tr>\n",
       "      <th>0</th>\n",
       "      <td>x</td>\n",
       "      <td>x</td>\n",
       "      <td>x</td>\n",
       "      <td>x</td>\n",
       "      <td>o</td>\n",
       "      <td>o</td>\n",
       "      <td>x</td>\n",
       "      <td>o</td>\n",
       "      <td>o</td>\n",
       "      <td>True</td>\n",
       "    </tr>\n",
       "    <tr>\n",
       "      <th>1</th>\n",
       "      <td>x</td>\n",
       "      <td>x</td>\n",
       "      <td>x</td>\n",
       "      <td>x</td>\n",
       "      <td>o</td>\n",
       "      <td>o</td>\n",
       "      <td>o</td>\n",
       "      <td>x</td>\n",
       "      <td>o</td>\n",
       "      <td>True</td>\n",
       "    </tr>\n",
       "    <tr>\n",
       "      <th>2</th>\n",
       "      <td>x</td>\n",
       "      <td>x</td>\n",
       "      <td>x</td>\n",
       "      <td>x</td>\n",
       "      <td>o</td>\n",
       "      <td>o</td>\n",
       "      <td>o</td>\n",
       "      <td>o</td>\n",
       "      <td>x</td>\n",
       "      <td>True</td>\n",
       "    </tr>\n",
       "    <tr>\n",
       "      <th>3</th>\n",
       "      <td>x</td>\n",
       "      <td>x</td>\n",
       "      <td>x</td>\n",
       "      <td>x</td>\n",
       "      <td>o</td>\n",
       "      <td>o</td>\n",
       "      <td>o</td>\n",
       "      <td>b</td>\n",
       "      <td>b</td>\n",
       "      <td>True</td>\n",
       "    </tr>\n",
       "    <tr>\n",
       "      <th>4</th>\n",
       "      <td>x</td>\n",
       "      <td>x</td>\n",
       "      <td>x</td>\n",
       "      <td>x</td>\n",
       "      <td>o</td>\n",
       "      <td>o</td>\n",
       "      <td>b</td>\n",
       "      <td>o</td>\n",
       "      <td>b</td>\n",
       "      <td>True</td>\n",
       "    </tr>\n",
       "  </tbody>\n",
       "</table>\n",
       "</div>"
      ],
      "text/plain": [
       "  TL TM TR ML MM MR BL BM BR  class\n",
       "0  x  x  x  x  o  o  x  o  o   True\n",
       "1  x  x  x  x  o  o  o  x  o   True\n",
       "2  x  x  x  x  o  o  o  o  x   True\n",
       "3  x  x  x  x  o  o  o  b  b   True\n",
       "4  x  x  x  x  o  o  b  o  b   True"
      ]
     },
     "execution_count": 3,
     "metadata": {},
     "output_type": "execute_result"
    }
   ],
   "source": [
    "data.head()"
   ]
  },
  {
   "cell_type": "code",
   "execution_count": 4,
   "metadata": {},
   "outputs": [
    {
     "data": {
      "text/plain": [
       "TL       0\n",
       "TM       0\n",
       "TR       0\n",
       "ML       0\n",
       "MM       0\n",
       "MR       0\n",
       "BL       0\n",
       "BM       0\n",
       "BR       0\n",
       "class    0\n",
       "dtype: int64"
      ]
     },
     "execution_count": 4,
     "metadata": {},
     "output_type": "execute_result"
    }
   ],
   "source": [
    "data.isna().sum()"
   ]
  },
  {
   "cell_type": "code",
   "execution_count": 5,
   "metadata": {},
   "outputs": [],
   "source": [
    "# convert categorical values to numeric\n",
    "data = data.replace('b', 0)\n",
    "data = data.replace('x', -1)\n",
    "data = data.replace('o', 1)\n",
    "data = data.replace(True, 1)\n",
    "data = data.replace(False, 0)"
   ]
  },
  {
   "cell_type": "code",
   "execution_count": 6,
   "metadata": {},
   "outputs": [
    {
     "data": {
      "text/html": [
       "<div>\n",
       "<style scoped>\n",
       "    .dataframe tbody tr th:only-of-type {\n",
       "        vertical-align: middle;\n",
       "    }\n",
       "\n",
       "    .dataframe tbody tr th {\n",
       "        vertical-align: top;\n",
       "    }\n",
       "\n",
       "    .dataframe thead th {\n",
       "        text-align: right;\n",
       "    }\n",
       "</style>\n",
       "<table border=\"1\" class=\"dataframe\">\n",
       "  <thead>\n",
       "    <tr style=\"text-align: right;\">\n",
       "      <th></th>\n",
       "      <th>TL</th>\n",
       "      <th>TM</th>\n",
       "      <th>TR</th>\n",
       "      <th>ML</th>\n",
       "      <th>MM</th>\n",
       "      <th>MR</th>\n",
       "      <th>BL</th>\n",
       "      <th>BM</th>\n",
       "      <th>BR</th>\n",
       "      <th>class</th>\n",
       "    </tr>\n",
       "  </thead>\n",
       "  <tbody>\n",
       "    <tr>\n",
       "      <th>0</th>\n",
       "      <td>-1</td>\n",
       "      <td>-1</td>\n",
       "      <td>-1</td>\n",
       "      <td>-1</td>\n",
       "      <td>1</td>\n",
       "      <td>1</td>\n",
       "      <td>-1</td>\n",
       "      <td>1</td>\n",
       "      <td>1</td>\n",
       "      <td>1</td>\n",
       "    </tr>\n",
       "    <tr>\n",
       "      <th>1</th>\n",
       "      <td>-1</td>\n",
       "      <td>-1</td>\n",
       "      <td>-1</td>\n",
       "      <td>-1</td>\n",
       "      <td>1</td>\n",
       "      <td>1</td>\n",
       "      <td>1</td>\n",
       "      <td>-1</td>\n",
       "      <td>1</td>\n",
       "      <td>1</td>\n",
       "    </tr>\n",
       "    <tr>\n",
       "      <th>2</th>\n",
       "      <td>-1</td>\n",
       "      <td>-1</td>\n",
       "      <td>-1</td>\n",
       "      <td>-1</td>\n",
       "      <td>1</td>\n",
       "      <td>1</td>\n",
       "      <td>1</td>\n",
       "      <td>1</td>\n",
       "      <td>-1</td>\n",
       "      <td>1</td>\n",
       "    </tr>\n",
       "    <tr>\n",
       "      <th>3</th>\n",
       "      <td>-1</td>\n",
       "      <td>-1</td>\n",
       "      <td>-1</td>\n",
       "      <td>-1</td>\n",
       "      <td>1</td>\n",
       "      <td>1</td>\n",
       "      <td>1</td>\n",
       "      <td>0</td>\n",
       "      <td>0</td>\n",
       "      <td>1</td>\n",
       "    </tr>\n",
       "    <tr>\n",
       "      <th>4</th>\n",
       "      <td>-1</td>\n",
       "      <td>-1</td>\n",
       "      <td>-1</td>\n",
       "      <td>-1</td>\n",
       "      <td>1</td>\n",
       "      <td>1</td>\n",
       "      <td>0</td>\n",
       "      <td>1</td>\n",
       "      <td>0</td>\n",
       "      <td>1</td>\n",
       "    </tr>\n",
       "  </tbody>\n",
       "</table>\n",
       "</div>"
      ],
      "text/plain": [
       "   TL  TM  TR  ML  MM  MR  BL  BM  BR  class\n",
       "0  -1  -1  -1  -1   1   1  -1   1   1      1\n",
       "1  -1  -1  -1  -1   1   1   1  -1   1      1\n",
       "2  -1  -1  -1  -1   1   1   1   1  -1      1\n",
       "3  -1  -1  -1  -1   1   1   1   0   0      1\n",
       "4  -1  -1  -1  -1   1   1   0   1   0      1"
      ]
     },
     "execution_count": 6,
     "metadata": {},
     "output_type": "execute_result"
    }
   ],
   "source": [
    "data.head()"
   ]
  },
  {
   "cell_type": "code",
   "execution_count": 7,
   "metadata": {},
   "outputs": [
    {
     "data": {
      "text/plain": [
       "TL       int64\n",
       "TM       int64\n",
       "TR       int64\n",
       "ML       int64\n",
       "MM       int64\n",
       "MR       int64\n",
       "BL       int64\n",
       "BM       int64\n",
       "BR       int64\n",
       "class    int64\n",
       "dtype: object"
      ]
     },
     "execution_count": 7,
     "metadata": {},
     "output_type": "execute_result"
    }
   ],
   "source": [
    "# check dtypes as int\n",
    "data.dtypes"
   ]
  },
  {
   "cell_type": "code",
   "execution_count": 8,
   "metadata": {},
   "outputs": [],
   "source": [
    "# split X and y\n",
    "X = data.drop('class', axis=1)\n",
    "y = data['class']"
   ]
  },
  {
   "cell_type": "code",
   "execution_count": 9,
   "metadata": {},
   "outputs": [],
   "source": [
    "# normalize data\n",
    "from sklearn.preprocessing import normalize\n",
    "\n",
    "X_scaled = normalize(X)"
   ]
  },
  {
   "cell_type": "markdown",
   "metadata": {},
   "source": [
    "## Step 2: Build Neural Network\n",
    "\n",
    "To build the neural network, you can refer to your own codes you wrote while following the [Deep Learning with Python, TensorFlow, and Keras tutorial](https://www.youtube.com/watch?v=wQ8BIBpya2k) in the lesson. It's pretty similar to what you will be doing in this lab.\n",
    "\n",
    "1. Split the training and test data.\n",
    "1. Create a `Sequential` model.\n",
    "1. Add several layers to your model. Make sure you use ReLU as the activation function for the middle layers. Use Softmax for the output layer because each output has a single lable and all the label probabilities add up to 1.\n",
    "1. Compile the model using `adam` as the optimizer and `sparse_categorical_crossentropy` as the loss function. For metrics, use `accuracy` for now.\n",
    "1. Fit the training data.\n",
    "1. Evaluate your neural network model with the test data.\n",
    "1. Save your model as `tic-tac-toe.model`."
   ]
  },
  {
   "cell_type": "code",
   "execution_count": 10,
   "metadata": {},
   "outputs": [],
   "source": [
    "# test-train split\n",
    "from sklearn.model_selection import train_test_split\n",
    "\n",
    "X_train, X_test, y_train, y_test = train_test_split(X_scaled, y, test_size=.2, random_state=0)"
   ]
  },
  {
   "cell_type": "markdown",
   "metadata": {},
   "source": [
    "*No need to encode to categorical for sparse_categorical_crossentropy.*"
   ]
  },
  {
   "cell_type": "code",
   "execution_count": 11,
   "metadata": {},
   "outputs": [
    {
     "name": "stdout",
     "output_type": "stream",
     "text": [
      "(958, 9)\n",
      "(958,)\n"
     ]
    }
   ],
   "source": [
    "# check dataset shape to define number of layers\n",
    "print(X.shape)\n",
    "print(y.shape)"
   ]
  },
  {
   "cell_type": "code",
   "execution_count": 12,
   "metadata": {},
   "outputs": [],
   "source": [
    "# build model\n",
    "from keras.models import Sequential\n",
    "from keras.layers import Dense\n",
    "\n",
    "model = Sequential()\n",
    "\n",
    "model.add(Dense(500, activation='relu', input_dim=9))\n",
    "model.add(Dense(100, activation='relu'))\n",
    "model.add(Dense(50, activation='relu'))\n",
    "model.add(Dense(2, activation='softmax'))\n",
    "\n",
    "# compile model\n",
    "model.compile(optimizer='adam', \n",
    "              loss='sparse_categorical_crossentropy', \n",
    "              metrics=['accuracy'])"
   ]
  },
  {
   "cell_type": "code",
   "execution_count": 13,
   "metadata": {},
   "outputs": [
    {
     "name": "stdout",
     "output_type": "stream",
     "text": [
      "4\n"
     ]
    }
   ],
   "source": [
    "len(model.layers)"
   ]
  },
  {
   "cell_type": "code",
   "execution_count": 14,
   "metadata": {
    "scrolled": false
   },
   "outputs": [
    {
     "name": "stdout",
     "output_type": "stream",
     "text": [
      "Epoch 1/20\n",
      "24/24 [==============================] - 2s 4ms/step - loss: 0.5837 - accuracy: 0.6841\n",
      "Epoch 2/20\n",
      "24/24 [==============================] - 0s 3ms/step - loss: 0.4688 - accuracy: 0.7833\n",
      "Epoch 3/20\n",
      "24/24 [==============================] - 0s 3ms/step - loss: 0.3356 - accuracy: 0.8786\n",
      "Epoch 4/20\n",
      "24/24 [==============================] - 0s 4ms/step - loss: 0.1580 - accuracy: 0.9765\n",
      "Epoch 5/20\n",
      "24/24 [==============================] - 0s 4ms/step - loss: 0.0583 - accuracy: 0.9896\n",
      "Epoch 6/20\n",
      "24/24 [==============================] - 0s 4ms/step - loss: 0.0238 - accuracy: 0.9974\n",
      "Epoch 7/20\n",
      "24/24 [==============================] - 0s 4ms/step - loss: 0.0118 - accuracy: 0.9987\n",
      "Epoch 8/20\n",
      "24/24 [==============================] - 0s 4ms/step - loss: 0.0073 - accuracy: 1.0000\n",
      "Epoch 9/20\n",
      "24/24 [==============================] - ETA: 0s - loss: 0.0044 - accuracy: 1.00 - 0s 4ms/step - loss: 0.0043 - accuracy: 1.0000\n",
      "Epoch 10/20\n",
      "24/24 [==============================] - 0s 5ms/step - loss: 0.0028 - accuracy: 1.0000\n",
      "Epoch 11/20\n",
      "24/24 [==============================] - 0s 5ms/step - loss: 0.0019 - accuracy: 1.0000\n",
      "Epoch 12/20\n",
      "24/24 [==============================] - 0s 4ms/step - loss: 0.0016 - accuracy: 1.0000\n",
      "Epoch 13/20\n",
      "24/24 [==============================] - 0s 4ms/step - loss: 0.0013 - accuracy: 1.0000\n",
      "Epoch 14/20\n",
      "24/24 [==============================] - 0s 4ms/step - loss: 0.0011 - accuracy: 1.0000\n",
      "Epoch 15/20\n",
      "24/24 [==============================] - 0s 4ms/step - loss: 9.5098e-04 - accuracy: 1.0000\n",
      "Epoch 16/20\n",
      "24/24 [==============================] - 0s 4ms/step - loss: 8.0597e-04 - accuracy: 1.0000\n",
      "Epoch 17/20\n",
      "24/24 [==============================] - 0s 4ms/step - loss: 6.9876e-04 - accuracy: 1.0000\n",
      "Epoch 18/20\n",
      "24/24 [==============================] - 0s 4ms/step - loss: 6.4220e-04 - accuracy: 1.0000\n",
      "Epoch 19/20\n",
      "24/24 [==============================] - 0s 4ms/step - loss: 5.5904e-04 - accuracy: 1.0000\n",
      "Epoch 20/20\n",
      "24/24 [==============================] - 0s 4ms/step - loss: 4.9766e-04 - accuracy: 1.0000\n"
     ]
    },
    {
     "data": {
      "text/plain": [
       "<keras.callbacks.History at 0x238904b60a0>"
      ]
     },
     "execution_count": 14,
     "metadata": {},
     "output_type": "execute_result"
    }
   ],
   "source": [
    "model.fit(X_train, y_train, epochs=20)"
   ]
  },
  {
   "cell_type": "code",
   "execution_count": 15,
   "metadata": {},
   "outputs": [
    {
     "name": "stdout",
     "output_type": "stream",
     "text": [
      "Accuracy on training data: 1.0 \n",
      " Error on training data: 0.0\n",
      "Accuracy on test data: 0.9895833134651184 \n",
      " Error on test data: 0.010416686534881592\n"
     ]
    }
   ],
   "source": [
    "# let's predict on test data\n",
    "pred_train = model.predict(X_train)\n",
    "scores = model.evaluate(X_train, y_train, verbose=0)\n",
    "print('Accuracy on training data: {} \\n Error on training data: {}'.format(scores[1], 1 - scores[1]))   \n",
    " \n",
    "pred_test = model.predict(X_test)\n",
    "scores2 = model.evaluate(X_test, y_test, verbose=0)\n",
    "print('Accuracy on test data: {} \\n Error on test data: {}'.format(scores2[1], 1 - scores2[1]))  "
   ]
  },
  {
   "cell_type": "code",
   "execution_count": 16,
   "metadata": {},
   "outputs": [
    {
     "name": "stdout",
     "output_type": "stream",
     "text": [
      "INFO:tensorflow:Assets written to: tic-tac-toe\\assets\n"
     ]
    }
   ],
   "source": [
    "# save model\n",
    "model.save('tic-tac-toe')"
   ]
  },
  {
   "cell_type": "markdown",
   "metadata": {},
   "source": [
    "## Step 3: Make Predictions\n",
    "\n",
    "Now load your saved model and use it to make predictions on a few random rows in the test dataset. Check if the predictions are correct."
   ]
  },
  {
   "cell_type": "code",
   "execution_count": 17,
   "metadata": {},
   "outputs": [],
   "source": [
    "# load saved model\n",
    "remodel = keras.models.load_model('tic-tac-toe')"
   ]
  },
  {
   "cell_type": "code",
   "execution_count": 18,
   "metadata": {},
   "outputs": [
    {
     "data": {
      "text/plain": [
       "array([[1.6113194e-10, 1.0000000e+00],\n",
       "       [4.0891695e-12, 1.0000000e+00],\n",
       "       [4.0570405e-11, 1.0000000e+00],\n",
       "       [9.9999881e-01, 1.1808839e-06],\n",
       "       [9.9999630e-01, 3.6922540e-06],\n",
       "       [8.4552754e-11, 1.0000000e+00],\n",
       "       [2.7883709e-11, 1.0000000e+00],\n",
       "       [9.9999702e-01, 2.9580199e-06],\n",
       "       [1.2388353e-09, 1.0000000e+00],\n",
       "       [1.0000000e+00, 1.4833458e-08]], dtype=float32)"
      ]
     },
     "execution_count": 18,
     "metadata": {},
     "output_type": "execute_result"
    }
   ],
   "source": [
    "# slice 10 random rows to check prediction accuracy\n",
    "data_sample = data.sample(10)\n",
    "X_sample = data_sample.drop('class', axis=1)\n",
    "y_sample = data_sample['class']\n",
    "\n",
    "remodel.predict(X_sample)"
   ]
  },
  {
   "cell_type": "code",
   "execution_count": 19,
   "metadata": {},
   "outputs": [
    {
     "name": "stdout",
     "output_type": "stream",
     "text": [
      "24/24 [==============================] - 1s 4ms/step - loss: 0.0053 - accuracy: 0.9987\n"
     ]
    },
    {
     "data": {
      "text/plain": [
       "array([[2.3828238e-11, 1.0000000e+00],\n",
       "       [4.2789563e-14, 1.0000000e+00],\n",
       "       [1.3402719e-13, 1.0000000e+00],\n",
       "       [9.9998009e-01, 1.9880785e-05],\n",
       "       [9.9996448e-01, 3.5564157e-05],\n",
       "       [5.7398861e-13, 1.0000000e+00],\n",
       "       [7.9664553e-14, 1.0000000e+00],\n",
       "       [9.9850035e-01, 1.4996800e-03],\n",
       "       [2.4406469e-12, 1.0000000e+00],\n",
       "       [1.0000000e+00, 1.1939291e-08]], dtype=float32)"
      ]
     },
     "execution_count": 19,
     "metadata": {},
     "output_type": "execute_result"
    }
   ],
   "source": [
    "# remodel already has in mind all the parameters and fit from saved model\n",
    "remodel.fit(X_train, y_train)\n",
    "remodel.predict(X_sample)"
   ]
  },
  {
   "cell_type": "code",
   "execution_count": 20,
   "metadata": {},
   "outputs": [
    {
     "name": "stdout",
     "output_type": "stream",
     "text": [
      "Accuracy on training data: 1.0 \n",
      "   Error on training data: 0.0\n",
      "Accuracy on test data: 1.0 \n",
      "   Error on test data: 0.0\n"
     ]
    }
   ],
   "source": [
    "# compute scores\n",
    "pred_train = remodel.predict(X_train)\n",
    "scores3 = remodel.evaluate(X_train, y_train, verbose=0)\n",
    "print('Accuracy on training data: {} \\n   Error on training data: {}'.format(scores3[1], 1 - scores3[1]))   \n",
    " \n",
    "pred_sample = remodel.predict(X_sample)\n",
    "scores4 = remodel.evaluate(X_sample, y_sample, verbose=0)\n",
    "print('Accuracy on test data: {} \\n   Error on test data: {}'.format(scores4[1], 1 - scores4[1]))"
   ]
  },
  {
   "cell_type": "code",
   "execution_count": 21,
   "metadata": {
    "scrolled": true
   },
   "outputs": [
    {
     "name": "stdout",
     "output_type": "stream",
     "text": [
      "Training data loss and accuracy scores: [0.000448394741397351, 1.0] \n",
      "Testing data loss and accuracy scores: [0.024065839126706123, 0.9895833134651184]\n"
     ]
    }
   ],
   "source": [
    "print('Training data loss and accuracy scores: {} \\nTesting data loss and accuracy scores: {}'.format(scores, scores2))"
   ]
  },
  {
   "cell_type": "markdown",
   "metadata": {},
   "source": [
    "*On a smaller sample, the accuracy reaches 100%: this is because we already a pretty good accuracy score on the training and testing dataset.*"
   ]
  },
  {
   "cell_type": "markdown",
   "metadata": {},
   "source": [
    "## Step 4: Improve Your Model\n",
    "\n",
    "Did your model achieve low loss (<0.1) and high accuracy (>0.95)? If not, try to improve your model.\n",
    "\n",
    "But how? There are so many things you can play with in Tensorflow and in the next challenge you'll learn about these things. But in this challenge, let's just do a few things to see if they will help.\n",
    "\n",
    "* Add more layers to your model. If the data are complex you need more layers. But don't use more layers than you need. If adding more layers does not improve the model performance you don't need additional layers.\n",
    "* Adjust the learning rate when you compile the model. This means you will create a custom `tf.keras.optimizers.Adam` instance where you specify the learning rate you want. Then pass the instance to `model.compile` as the optimizer.\n",
    "    * `tf.keras.optimizers.Adam` [reference](https://www.tensorflow.org/api_docs/python/tf/keras/optimizers/Adam).\n",
    "    * Don't worry if you don't understand what the learning rate does. You'll learn about it in the next challenge.\n",
    "* Adjust the number of epochs when you fit the training data to the model. Your model performance continues to improve as you train more epochs. But eventually it will reach the ceiling and the performance will stay the same."
   ]
  },
  {
   "cell_type": "markdown",
   "metadata": {},
   "source": [
    "### Increasing learning rate"
   ]
  },
  {
   "cell_type": "code",
   "execution_count": 59,
   "metadata": {},
   "outputs": [
    {
     "name": "stdout",
     "output_type": "stream",
     "text": [
      "Epoch 1/15\n",
      "24/24 [==============================] - 1s 4ms/step - loss: 9.0414 - sparse_categorical_accuracy: 0.6253\n",
      "Epoch 2/15\n",
      "24/24 [==============================] - 0s 3ms/step - loss: 0.6388 - sparse_categorical_accuracy: 0.6632\n",
      "Epoch 3/15\n",
      "24/24 [==============================] - 0s 3ms/step - loss: 0.6417 - sparse_categorical_accuracy: 0.6632\n",
      "Epoch 4/15\n",
      "24/24 [==============================] - 0s 3ms/step - loss: 0.6396 - sparse_categorical_accuracy: 0.6632\n",
      "Epoch 5/15\n",
      "24/24 [==============================] - 0s 3ms/step - loss: 0.6407 - sparse_categorical_accuracy: 0.6632\n",
      "Epoch 6/15\n",
      "24/24 [==============================] - 0s 3ms/step - loss: 0.6407 - sparse_categorical_accuracy: 0.6632\n",
      "Epoch 7/15\n",
      "24/24 [==============================] - 0s 3ms/step - loss: 0.6419 - sparse_categorical_accuracy: 0.6632\n",
      "Epoch 8/15\n",
      "24/24 [==============================] - 0s 3ms/step - loss: 0.6410 - sparse_categorical_accuracy: 0.6632\n",
      "Epoch 9/15\n",
      "24/24 [==============================] - 0s 3ms/step - loss: 0.6416 - sparse_categorical_accuracy: 0.6632\n",
      "Epoch 10/15\n",
      "24/24 [==============================] - 0s 3ms/step - loss: 0.6502 - sparse_categorical_accuracy: 0.6632\n",
      "Epoch 11/15\n",
      "24/24 [==============================] - 0s 4ms/step - loss: 0.6414 - sparse_categorical_accuracy: 0.6632\n",
      "Epoch 12/15\n",
      "24/24 [==============================] - 0s 4ms/step - loss: 0.6434 - sparse_categorical_accuracy: 0.6632\n",
      "Epoch 13/15\n",
      "24/24 [==============================] - 0s 4ms/step - loss: 0.6447 - sparse_categorical_accuracy: 0.6632\n",
      "Epoch 14/15\n",
      "24/24 [==============================] - 0s 4ms/step - loss: 0.6444 - sparse_categorical_accuracy: 0.6632\n",
      "Epoch 15/15\n",
      "24/24 [==============================] - 0s 4ms/step - loss: 0.6443 - sparse_categorical_accuracy: 0.6632\n"
     ]
    },
    {
     "data": {
      "text/plain": [
       "<keras.callbacks.History at 0x2389ce78fa0>"
      ]
     },
     "execution_count": 59,
     "metadata": {},
     "output_type": "execute_result"
    }
   ],
   "source": [
    "# load saved model\n",
    "remodel = keras.models.load_model('tic-tac-toe')\n",
    "\n",
    "# adjusting learning rate\n",
    "import tensorflow as tf\n",
    "\n",
    "remodel.compile(optimizer=tf.keras.optimizers.Adam(learning_rate=0.1), \n",
    "                loss='sparse_categorical_crossentropy', \n",
    "                metrics=[keras.metrics.SparseCategoricalAccuracy()])\n",
    "remodel.fit(X_train,y_train,epochs=15)"
   ]
  },
  {
   "cell_type": "code",
   "execution_count": 60,
   "metadata": {},
   "outputs": [
    {
     "data": {
      "text/plain": [
       "4"
      ]
     },
     "execution_count": 60,
     "metadata": {},
     "output_type": "execute_result"
    }
   ],
   "source": [
    "# count layers\n",
    "len(remodel.layers)"
   ]
  },
  {
   "cell_type": "code",
   "execution_count": 61,
   "metadata": {},
   "outputs": [
    {
     "name": "stdout",
     "output_type": "stream",
     "text": [
      "Accuracy on training data: 0.6631853580474854 \n",
      "    Error on training data: 0.33681464195251465\n",
      "Accuracy on test data: 0.6145833134651184 \n",
      "     Error on test data: 0.3854166865348816\n"
     ]
    }
   ],
   "source": [
    "# check scores on test and train data\n",
    "scores5 = remodel.evaluate(X_train, y_train, verbose=0)\n",
    "print('Accuracy on training data: {} \\n    Error on training data: {}'.format(scores5[1], 1 - scores5[1]))\n",
    "\n",
    "scores6 = remodel.evaluate(X_test, y_test, verbose=0)\n",
    "print('Accuracy on test data: {} \\n     Error on test data: {}'.format(scores6[1], 1 - scores6[1]))"
   ]
  },
  {
   "cell_type": "code",
   "execution_count": 62,
   "metadata": {},
   "outputs": [
    {
     "name": "stdout",
     "output_type": "stream",
     "text": [
      "Training data loss and accuracy scores: [0.640025794506073, 0.6631853580474854] \n",
      "Testing data loss and accuracy scores: [0.6778621673583984, 0.6145833134651184]\n"
     ]
    }
   ],
   "source": [
    "# check loss score\n",
    "print('Training data loss and accuracy scores: {} \\nTesting data loss and accuracy scores: {}'.format(scores5, scores6))"
   ]
  },
  {
   "cell_type": "markdown",
   "metadata": {},
   "source": [
    "### Adding more layers"
   ]
  },
  {
   "cell_type": "code",
   "execution_count": 63,
   "metadata": {},
   "outputs": [
    {
     "name": "stdout",
     "output_type": "stream",
     "text": [
      "Epoch 1/15\n",
      "24/24 [==============================] - 1s 3ms/step - loss: 0.4872 - sparse_categorical_accuracy: 0.8016\n",
      "Epoch 2/15\n",
      "24/24 [==============================] - 0s 4ms/step - loss: 0.1334 - sparse_categorical_accuracy: 0.9595\n",
      "Epoch 3/15\n",
      "24/24 [==============================] - 0s 4ms/step - loss: 0.1648 - sparse_categorical_accuracy: 0.9491\n",
      "Epoch 4/15\n",
      "24/24 [==============================] - 0s 4ms/step - loss: 0.0564 - sparse_categorical_accuracy: 0.9883\n",
      "Epoch 5/15\n",
      "24/24 [==============================] - 0s 4ms/step - loss: 0.1689 - sparse_categorical_accuracy: 0.9426\n",
      "Epoch 6/15\n",
      "24/24 [==============================] - 0s 4ms/step - loss: 0.0731 - sparse_categorical_accuracy: 0.9713\n",
      "Epoch 7/15\n",
      "24/24 [==============================] - 0s 4ms/step - loss: 0.0196 - sparse_categorical_accuracy: 0.9909\n",
      "Epoch 8/15\n",
      "24/24 [==============================] - 0s 4ms/step - loss: 0.0036 - sparse_categorical_accuracy: 0.9987\n",
      "Epoch 9/15\n",
      "24/24 [==============================] - 0s 4ms/step - loss: 0.0139 - sparse_categorical_accuracy: 0.9948\n",
      "Epoch 10/15\n",
      "24/24 [==============================] - 0s 4ms/step - loss: 0.0525 - sparse_categorical_accuracy: 0.9830\n",
      "Epoch 11/15\n",
      "24/24 [==============================] - 0s 5ms/step - loss: 0.0089 - sparse_categorical_accuracy: 0.9974\n",
      "Epoch 12/15\n",
      "24/24 [==============================] - 0s 4ms/step - loss: 6.0805e-04 - sparse_categorical_accuracy: 1.0000\n",
      "Epoch 13/15\n",
      "24/24 [==============================] - 0s 4ms/step - loss: 5.5600e-05 - sparse_categorical_accuracy: 1.0000\n",
      "Epoch 14/15\n",
      "24/24 [==============================] - 0s 4ms/step - loss: 2.5868e-05 - sparse_categorical_accuracy: 1.0000\n",
      "Epoch 15/15\n",
      "24/24 [==============================] - 0s 4ms/step - loss: 2.0464e-05 - sparse_categorical_accuracy: 1.0000\n"
     ]
    },
    {
     "data": {
      "text/plain": [
       "<keras.callbacks.History at 0x2389e21c430>"
      ]
     },
     "execution_count": 63,
     "metadata": {},
     "output_type": "execute_result"
    }
   ],
   "source": [
    "# load saved model\n",
    "remodel = keras.models.load_model('tic-tac-toe')\n",
    "\n",
    "# pop last output layer\n",
    "remodel.pop()\n",
    "\n",
    "# sequentially add more layers to remodel\n",
    "remodel.add(Dense(100, activation='relu'))\n",
    "remodel.add(Dense(100, activation='relu'))\n",
    "remodel.add(Dense(2, activation='softmax'))\n",
    "\n",
    "# compile model\n",
    "remodel.compile(optimizer=tf.keras.optimizers.Adam(learning_rate=0.01), \n",
    "                loss='sparse_categorical_crossentropy',\n",
    "                metrics=[keras.metrics.SparseCategoricalAccuracy()])\n",
    "remodel.fit(X_train,y_train,epochs=15)"
   ]
  },
  {
   "cell_type": "code",
   "execution_count": 64,
   "metadata": {},
   "outputs": [
    {
     "data": {
      "text/plain": [
       "6"
      ]
     },
     "execution_count": 64,
     "metadata": {},
     "output_type": "execute_result"
    }
   ],
   "source": [
    "# count layers\n",
    "len(remodel.layers)"
   ]
  },
  {
   "cell_type": "code",
   "execution_count": 65,
   "metadata": {},
   "outputs": [
    {
     "name": "stdout",
     "output_type": "stream",
     "text": [
      "Accuracy on training data: 1.0 \n",
      " Error on training data: 0.0\n",
      "Accuracy on test data: 0.9895833134651184 \n",
      " Error on test data: 0.010416686534881592\n"
     ]
    }
   ],
   "source": [
    "# check scores\n",
    "scores7 = remodel.evaluate(X_train, y_train, verbose=0)\n",
    "print('Accuracy on training data: {} \\n Error on training data: {}'.format(scores[1], 1 - scores[1]))   \n",
    " \n",
    "scores8 = remodel.evaluate(X_test, y_test, verbose=0)\n",
    "print('Accuracy on test data: {} \\n Error on test data: {}'.format(scores2[1], 1 - scores2[1]))  "
   ]
  },
  {
   "cell_type": "code",
   "execution_count": 66,
   "metadata": {
    "scrolled": true
   },
   "outputs": [
    {
     "name": "stdout",
     "output_type": "stream",
     "text": [
      "Training data loss and accuracy scores: [0.000448394741397351, 1.0] \n",
      "Testing data loss and accuracy scores: [0.024065839126706123, 0.9895833134651184]\n"
     ]
    }
   ],
   "source": [
    "# check loss score\n",
    "print('Training data loss and accuracy scores: {} \\nTesting data loss and accuracy scores: {}'.format(scores, scores2))"
   ]
  },
  {
   "cell_type": "markdown",
   "metadata": {},
   "source": [
    "### Increasing epochs"
   ]
  },
  {
   "cell_type": "code",
   "execution_count": 67,
   "metadata": {},
   "outputs": [
    {
     "name": "stdout",
     "output_type": "stream",
     "text": [
      "Epoch 1/30\n",
      "24/24 [==============================] - 1s 3ms/step - loss: 0.7959 - sparse_categorical_accuracy: 0.7859\n",
      "Epoch 2/30\n",
      "24/24 [==============================] - 0s 3ms/step - loss: 0.2455 - sparse_categorical_accuracy: 0.8956\n",
      "Epoch 3/30\n",
      "24/24 [==============================] - 0s 4ms/step - loss: 0.0549 - sparse_categorical_accuracy: 0.9843\n",
      "Epoch 4/30\n",
      "24/24 [==============================] - 0s 4ms/step - loss: 0.0165 - sparse_categorical_accuracy: 0.9948\n",
      "Epoch 5/30\n",
      "24/24 [==============================] - 0s 4ms/step - loss: 0.0730 - sparse_categorical_accuracy: 0.9687\n",
      "Epoch 6/30\n",
      "24/24 [==============================] - 0s 4ms/step - loss: 0.0831 - sparse_categorical_accuracy: 0.9726\n",
      "Epoch 7/30\n",
      "24/24 [==============================] - 0s 4ms/step - loss: 0.0304 - sparse_categorical_accuracy: 0.9909\n",
      "Epoch 8/30\n",
      "24/24 [==============================] - 0s 4ms/step - loss: 0.0166 - sparse_categorical_accuracy: 0.9961\n",
      "Epoch 9/30\n",
      "24/24 [==============================] - 0s 3ms/step - loss: 0.0012 - sparse_categorical_accuracy: 1.0000\n",
      "Epoch 10/30\n",
      "24/24 [==============================] - 0s 4ms/step - loss: 6.4099e-04 - sparse_categorical_accuracy: 1.0000\n",
      "Epoch 11/30\n",
      "24/24 [==============================] - 0s 4ms/step - loss: 3.6424e-04 - sparse_categorical_accuracy: 1.0000\n",
      "Epoch 12/30\n",
      "24/24 [==============================] - 0s 4ms/step - loss: 2.5437e-04 - sparse_categorical_accuracy: 1.0000\n",
      "Epoch 13/30\n",
      "24/24 [==============================] - 0s 4ms/step - loss: 1.9392e-04 - sparse_categorical_accuracy: 1.0000\n",
      "Epoch 14/30\n",
      "24/24 [==============================] - 0s 4ms/step - loss: 1.5588e-04 - sparse_categorical_accuracy: 1.0000\n",
      "Epoch 15/30\n",
      "24/24 [==============================] - 0s 4ms/step - loss: 1.3033e-04 - sparse_categorical_accuracy: 1.0000\n",
      "Epoch 16/30\n",
      "24/24 [==============================] - 0s 4ms/step - loss: 1.1017e-04 - sparse_categorical_accuracy: 1.0000\n",
      "Epoch 17/30\n",
      "24/24 [==============================] - 0s 4ms/step - loss: 9.6172e-05 - sparse_categorical_accuracy: 1.0000\n",
      "Epoch 18/30\n",
      "24/24 [==============================] - 0s 4ms/step - loss: 8.4249e-05 - sparse_categorical_accuracy: 1.0000\n",
      "Epoch 19/30\n",
      "24/24 [==============================] - 0s 4ms/step - loss: 7.4686e-05 - sparse_categorical_accuracy: 1.0000\n",
      "Epoch 20/30\n",
      "24/24 [==============================] - 0s 4ms/step - loss: 6.6856e-05 - sparse_categorical_accuracy: 1.0000\n",
      "Epoch 21/30\n",
      "24/24 [==============================] - 0s 4ms/step - loss: 6.0152e-05 - sparse_categorical_accuracy: 1.0000\n",
      "Epoch 22/30\n",
      "24/24 [==============================] - 0s 4ms/step - loss: 5.4409e-05 - sparse_categorical_accuracy: 1.0000\n",
      "Epoch 23/30\n",
      "24/24 [==============================] - 0s 4ms/step - loss: 4.9718e-05 - sparse_categorical_accuracy: 1.0000\n",
      "Epoch 24/30\n",
      "24/24 [==============================] - 0s 4ms/step - loss: 4.5197e-05 - sparse_categorical_accuracy: 1.0000\n",
      "Epoch 25/30\n",
      "24/24 [==============================] - 0s 4ms/step - loss: 4.1841e-05 - sparse_categorical_accuracy: 1.0000\n",
      "Epoch 26/30\n",
      "24/24 [==============================] - 0s 4ms/step - loss: 3.8398e-05 - sparse_categorical_accuracy: 1.0000\n",
      "Epoch 27/30\n",
      "24/24 [==============================] - 0s 4ms/step - loss: 3.5458e-05 - sparse_categorical_accuracy: 1.0000\n",
      "Epoch 28/30\n",
      "24/24 [==============================] - 0s 4ms/step - loss: 3.2998e-05 - sparse_categorical_accuracy: 1.0000\n",
      "Epoch 29/30\n",
      "24/24 [==============================] - 0s 4ms/step - loss: 3.0755e-05 - sparse_categorical_accuracy: 1.0000\n",
      "Epoch 30/30\n",
      "24/24 [==============================] - 0s 4ms/step - loss: 2.8688e-05 - sparse_categorical_accuracy: 1.0000\n"
     ]
    },
    {
     "data": {
      "text/plain": [
       "<keras.callbacks.History at 0x238a049c910>"
      ]
     },
     "execution_count": 67,
     "metadata": {},
     "output_type": "execute_result"
    }
   ],
   "source": [
    "# load saved model\n",
    "remodel = keras.models.load_model('tic-tac-toe')\n",
    "\n",
    "# compile model\n",
    "remodel.compile(optimizer=tf.keras.optimizers.Adam(learning_rate=0.01), \n",
    "                loss='sparse_categorical_crossentropy',\n",
    "                metrics=[keras.metrics.SparseCategoricalAccuracy()])\n",
    "remodel.fit(X_train,y_train,epochs=30)"
   ]
  },
  {
   "cell_type": "code",
   "execution_count": 68,
   "metadata": {},
   "outputs": [
    {
     "data": {
      "text/plain": [
       "4"
      ]
     },
     "execution_count": 68,
     "metadata": {},
     "output_type": "execute_result"
    }
   ],
   "source": [
    "# count layers\n",
    "len(remodel.layers)"
   ]
  },
  {
   "cell_type": "code",
   "execution_count": 69,
   "metadata": {},
   "outputs": [
    {
     "name": "stdout",
     "output_type": "stream",
     "text": [
      "Accuracy on training data: 1.0 \n",
      " Error on training data: 0.0\n",
      "Accuracy on test data: 0.9895833134651184 \n",
      " Error on test data: 0.010416686534881592\n"
     ]
    }
   ],
   "source": [
    "# check scores\n",
    "scores7 = remodel.evaluate(X_train, y_train, verbose=0)\n",
    "print('Accuracy on training data: {} \\n Error on training data: {}'.format(scores[1], 1 - scores[1]))   \n",
    " \n",
    "scores8 = remodel.evaluate(X_test, y_test, verbose=0)\n",
    "print('Accuracy on test data: {} \\n Error on test data: {}'.format(scores2[1], 1 - scores2[1]))  "
   ]
  },
  {
   "cell_type": "code",
   "execution_count": 70,
   "metadata": {
    "scrolled": true
   },
   "outputs": [
    {
     "name": "stdout",
     "output_type": "stream",
     "text": [
      "Training data loss and accuracy scores: [0.000448394741397351, 1.0] \n",
      "Testing data loss and accuracy scores: [0.024065839126706123, 0.9895833134651184]\n"
     ]
    }
   ],
   "source": [
    "# check loss score\n",
    "print('Training data loss and accuracy scores: {} \\nTesting data loss and accuracy scores: {}'.format(scores, scores2))"
   ]
  },
  {
   "cell_type": "markdown",
   "metadata": {},
   "source": [
    "**Which approach(es) did you find helpful to improve your model performance?**"
   ]
  },
  {
   "cell_type": "markdown",
   "metadata": {},
   "source": [
    "*Increasing learning rate from .01 to .1 actually decreased the performance of my model; adding layers sequentially help to check the threashold above which layers actually decrease the average accuracy. With the right number of layers, adding more epochs does make the loss score go down.*"
   ]
  }
 ],
 "metadata": {
  "kernelspec": {
   "display_name": "Python 3 (ipykernel)",
   "language": "python",
   "name": "python3"
  },
  "language_info": {
   "codemirror_mode": {
    "name": "ipython",
    "version": 3
   },
   "file_extension": ".py",
   "mimetype": "text/x-python",
   "name": "python",
   "nbconvert_exporter": "python",
   "pygments_lexer": "ipython3",
   "version": "3.8.12"
  }
 },
 "nbformat": 4,
 "nbformat_minor": 2
}
