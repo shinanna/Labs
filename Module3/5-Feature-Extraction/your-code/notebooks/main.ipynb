{
 "cells": [
  {
   "cell_type": "markdown",
   "metadata": {
    "id": "2ZTc5VXDfhbh"
   },
   "source": [
    "# Before your start:\n",
    "- Read the README.md file\n",
    "- Comment as much as you can and use the resources in the README.md file\n",
    "- Happy learning!"
   ]
  },
  {
   "cell_type": "code",
   "execution_count": 1,
   "metadata": {
    "id": "i5noFtjbfhbs"
   },
   "outputs": [],
   "source": [
    "#Import your libraries\n",
    "\n",
    "import numpy as np\n",
    "import pandas as pd"
   ]
  },
  {
   "cell_type": "markdown",
   "metadata": {
    "id": "14Y2pxPxfhbv"
   },
   "source": [
    "# Introduction\n",
    "\n",
    "In this lab, we will use two datasets. Both datasets contain variables that describe apps from the Google Play Store. We will use our knowledge in feature extraction to process these datasets and prepare them for the use of a ML algorithm."
   ]
  },
  {
   "cell_type": "markdown",
   "metadata": {
    "id": "hwvi18ARfhbx"
   },
   "source": [
    "# Challenge 1 - Loading and Extracting Features from the First Dataset"
   ]
  },
  {
   "cell_type": "markdown",
   "metadata": {
    "id": "xDmBR6W3fhby"
   },
   "source": [
    "#### In this challenge, our goals are: \n",
    "\n",
    "* Exploring the dataset.\n",
    "* Identify the columns with missing values.\n",
    "* Either replacing the missing values in each column or drop the columns.\n",
    "* Conver each column to the appropriate type."
   ]
  },
  {
   "cell_type": "markdown",
   "metadata": {
    "id": "3C6aY7wzfhbz"
   },
   "source": [
    "#### The first dataset contains different information describing the apps. \n",
    "\n",
    "Load the dataset into the variable `google_play` in the cell below. The dataset is in the file `googleplaystore.csv`"
   ]
  },
  {
   "cell_type": "code",
   "execution_count": 2,
   "metadata": {
    "id": "mdOKsqcwfhb0"
   },
   "outputs": [],
   "source": [
    "# Your code here:\n",
    "google_play = pd.read_csv(r\"C:\\Users\\Shinemet\\Ironhack\\Labs\\Module3\\5. Feature-Extraction\\data\\googleplaystore.csv\")\n",
    "gp = google_play.copy()"
   ]
  },
  {
   "cell_type": "markdown",
   "metadata": {
    "id": "Gmuu6N0Vfhb2"
   },
   "source": [
    "#### Examine all variables and their types in the following cell"
   ]
  },
  {
   "cell_type": "code",
   "execution_count": 3,
   "metadata": {
    "id": "2BsicbPUfhb3"
   },
   "outputs": [
    {
     "name": "stdout",
     "output_type": "stream",
     "text": [
      "<class 'pandas.core.frame.DataFrame'>\n",
      "RangeIndex: 10841 entries, 0 to 10840\n",
      "Data columns (total 13 columns):\n",
      " #   Column          Non-Null Count  Dtype  \n",
      "---  ------          --------------  -----  \n",
      " 0   App             10841 non-null  object \n",
      " 1   Category        10841 non-null  object \n",
      " 2   Rating          9367 non-null   float64\n",
      " 3   Reviews         10841 non-null  object \n",
      " 4   Size            10841 non-null  object \n",
      " 5   Installs        10841 non-null  object \n",
      " 6   Type            10840 non-null  object \n",
      " 7   Price           10841 non-null  object \n",
      " 8   Content Rating  10840 non-null  object \n",
      " 9   Genres          10841 non-null  object \n",
      " 10  Last Updated    10841 non-null  object \n",
      " 11  Current Ver     10833 non-null  object \n",
      " 12  Android Ver     10838 non-null  object \n",
      "dtypes: float64(1), object(12)\n",
      "memory usage: 1.1+ MB\n"
     ]
    }
   ],
   "source": [
    "# Most features are categorical in my dataset\n",
    "gp.info()"
   ]
  },
  {
   "cell_type": "markdown",
   "metadata": {
    "id": "t6pMZohgfhb5"
   },
   "source": [
    "#### Since this dataset only contains one numeric column, let's skip the `describe()` function and look at the first 5 rows using the `head()` function"
   ]
  },
  {
   "cell_type": "code",
   "execution_count": 4,
   "metadata": {
    "id": "bwaLYF25fhb6"
   },
   "outputs": [
    {
     "data": {
      "text/html": [
       "<div>\n",
       "<style scoped>\n",
       "    .dataframe tbody tr th:only-of-type {\n",
       "        vertical-align: middle;\n",
       "    }\n",
       "\n",
       "    .dataframe tbody tr th {\n",
       "        vertical-align: top;\n",
       "    }\n",
       "\n",
       "    .dataframe thead th {\n",
       "        text-align: right;\n",
       "    }\n",
       "</style>\n",
       "<table border=\"1\" class=\"dataframe\">\n",
       "  <thead>\n",
       "    <tr style=\"text-align: right;\">\n",
       "      <th></th>\n",
       "      <th>App</th>\n",
       "      <th>Category</th>\n",
       "      <th>Rating</th>\n",
       "      <th>Reviews</th>\n",
       "      <th>Size</th>\n",
       "      <th>Installs</th>\n",
       "      <th>Type</th>\n",
       "      <th>Price</th>\n",
       "      <th>Content Rating</th>\n",
       "      <th>Genres</th>\n",
       "      <th>Last Updated</th>\n",
       "      <th>Current Ver</th>\n",
       "      <th>Android Ver</th>\n",
       "    </tr>\n",
       "  </thead>\n",
       "  <tbody>\n",
       "    <tr>\n",
       "      <th>0</th>\n",
       "      <td>Photo Editor &amp; Candy Camera &amp; Grid &amp; ScrapBook</td>\n",
       "      <td>ART_AND_DESIGN</td>\n",
       "      <td>4.1</td>\n",
       "      <td>159</td>\n",
       "      <td>19M</td>\n",
       "      <td>10,000+</td>\n",
       "      <td>Free</td>\n",
       "      <td>0</td>\n",
       "      <td>Everyone</td>\n",
       "      <td>Art &amp; Design</td>\n",
       "      <td>January 7, 2018</td>\n",
       "      <td>1.0.0</td>\n",
       "      <td>4.0.3 and up</td>\n",
       "    </tr>\n",
       "    <tr>\n",
       "      <th>1</th>\n",
       "      <td>Coloring book moana</td>\n",
       "      <td>ART_AND_DESIGN</td>\n",
       "      <td>3.9</td>\n",
       "      <td>967</td>\n",
       "      <td>14M</td>\n",
       "      <td>500,000+</td>\n",
       "      <td>Free</td>\n",
       "      <td>0</td>\n",
       "      <td>Everyone</td>\n",
       "      <td>Art &amp; Design;Pretend Play</td>\n",
       "      <td>January 15, 2018</td>\n",
       "      <td>2.0.0</td>\n",
       "      <td>4.0.3 and up</td>\n",
       "    </tr>\n",
       "    <tr>\n",
       "      <th>2</th>\n",
       "      <td>U Launcher Lite – FREE Live Cool Themes, Hide ...</td>\n",
       "      <td>ART_AND_DESIGN</td>\n",
       "      <td>4.7</td>\n",
       "      <td>87510</td>\n",
       "      <td>8.7M</td>\n",
       "      <td>5,000,000+</td>\n",
       "      <td>Free</td>\n",
       "      <td>0</td>\n",
       "      <td>Everyone</td>\n",
       "      <td>Art &amp; Design</td>\n",
       "      <td>August 1, 2018</td>\n",
       "      <td>1.2.4</td>\n",
       "      <td>4.0.3 and up</td>\n",
       "    </tr>\n",
       "    <tr>\n",
       "      <th>3</th>\n",
       "      <td>Sketch - Draw &amp; Paint</td>\n",
       "      <td>ART_AND_DESIGN</td>\n",
       "      <td>4.5</td>\n",
       "      <td>215644</td>\n",
       "      <td>25M</td>\n",
       "      <td>50,000,000+</td>\n",
       "      <td>Free</td>\n",
       "      <td>0</td>\n",
       "      <td>Teen</td>\n",
       "      <td>Art &amp; Design</td>\n",
       "      <td>June 8, 2018</td>\n",
       "      <td>Varies with device</td>\n",
       "      <td>4.2 and up</td>\n",
       "    </tr>\n",
       "    <tr>\n",
       "      <th>4</th>\n",
       "      <td>Pixel Draw - Number Art Coloring Book</td>\n",
       "      <td>ART_AND_DESIGN</td>\n",
       "      <td>4.3</td>\n",
       "      <td>967</td>\n",
       "      <td>2.8M</td>\n",
       "      <td>100,000+</td>\n",
       "      <td>Free</td>\n",
       "      <td>0</td>\n",
       "      <td>Everyone</td>\n",
       "      <td>Art &amp; Design;Creativity</td>\n",
       "      <td>June 20, 2018</td>\n",
       "      <td>1.1</td>\n",
       "      <td>4.4 and up</td>\n",
       "    </tr>\n",
       "  </tbody>\n",
       "</table>\n",
       "</div>"
      ],
      "text/plain": [
       "                                                 App        Category  Rating  \\\n",
       "0     Photo Editor & Candy Camera & Grid & ScrapBook  ART_AND_DESIGN     4.1   \n",
       "1                                Coloring book moana  ART_AND_DESIGN     3.9   \n",
       "2  U Launcher Lite – FREE Live Cool Themes, Hide ...  ART_AND_DESIGN     4.7   \n",
       "3                              Sketch - Draw & Paint  ART_AND_DESIGN     4.5   \n",
       "4              Pixel Draw - Number Art Coloring Book  ART_AND_DESIGN     4.3   \n",
       "\n",
       "  Reviews  Size     Installs  Type Price Content Rating  \\\n",
       "0     159   19M      10,000+  Free     0       Everyone   \n",
       "1     967   14M     500,000+  Free     0       Everyone   \n",
       "2   87510  8.7M   5,000,000+  Free     0       Everyone   \n",
       "3  215644   25M  50,000,000+  Free     0           Teen   \n",
       "4     967  2.8M     100,000+  Free     0       Everyone   \n",
       "\n",
       "                      Genres      Last Updated         Current Ver  \\\n",
       "0               Art & Design   January 7, 2018               1.0.0   \n",
       "1  Art & Design;Pretend Play  January 15, 2018               2.0.0   \n",
       "2               Art & Design    August 1, 2018               1.2.4   \n",
       "3               Art & Design      June 8, 2018  Varies with device   \n",
       "4    Art & Design;Creativity     June 20, 2018                 1.1   \n",
       "\n",
       "    Android Ver  \n",
       "0  4.0.3 and up  \n",
       "1  4.0.3 and up  \n",
       "2  4.0.3 and up  \n",
       "3    4.2 and up  \n",
       "4    4.4 and up  "
      ]
     },
     "execution_count": 4,
     "metadata": {},
     "output_type": "execute_result"
    }
   ],
   "source": [
    "gp.head(5)"
   ]
  },
  {
   "cell_type": "markdown",
   "metadata": {
    "id": "cCzO2eA-fhb7"
   },
   "source": [
    "#### We can see that there are a few columns that could be coerced to numeric.\n",
    "\n",
    "Start with the reviews column. We can evaluate what value is causing this column to be of object type finding the non-numeric values in this column. To do this, we recall the `to_numeric()` function. With this function, we are able to coerce all non-numeric data to null. We can then use the `isnull()` function to subset our dataframe using the True/False column that this function generates.\n",
    "\n",
    "In the cell below, transform the Reviews column to numeric and assign this new column to the variable `Reviews_numeric`. Make sure to coerce the errors."
   ]
  },
  {
   "cell_type": "code",
   "execution_count": 5,
   "metadata": {},
   "outputs": [
    {
     "data": {
      "text/plain": [
       "0           159\n",
       "1           967\n",
       "2         87510\n",
       "3        215644\n",
       "4           967\n",
       "          ...  \n",
       "10836        38\n",
       "10837         4\n",
       "10838         3\n",
       "10839       114\n",
       "10840    398307\n",
       "Name: Reviews, Length: 10841, dtype: object"
      ]
     },
     "execution_count": 5,
     "metadata": {},
     "output_type": "execute_result"
    }
   ],
   "source": [
    "gp['Reviews']"
   ]
  },
  {
   "cell_type": "code",
   "execution_count": 6,
   "metadata": {
    "id": "cInA2NE2fhb8"
   },
   "outputs": [
    {
     "data": {
      "text/plain": [
       "0           159.0\n",
       "1           967.0\n",
       "2         87510.0\n",
       "3        215644.0\n",
       "4           967.0\n",
       "           ...   \n",
       "10836        38.0\n",
       "10837         4.0\n",
       "10838         3.0\n",
       "10839       114.0\n",
       "10840    398307.0\n",
       "Name: Reviews, Length: 10841, dtype: float64"
      ]
     },
     "execution_count": 6,
     "metadata": {},
     "output_type": "execute_result"
    }
   ],
   "source": [
    "# Converting to numeric values\n",
    "Reviews_numeric = pd.to_numeric(gp['Reviews'], errors='coerce')\n",
    "Reviews_numeric"
   ]
  },
  {
   "cell_type": "markdown",
   "metadata": {
    "id": "j1W0fmqmfhb9"
   },
   "source": [
    "Next, create a column containing True/False values using the `isnull()` function. Assign this column to the `Reviews_isnull` variable."
   ]
  },
  {
   "cell_type": "code",
   "execution_count": 7,
   "metadata": {
    "id": "LGX4U6Pyfhb-"
   },
   "outputs": [
    {
     "data": {
      "text/plain": [
       "0        False\n",
       "1        False\n",
       "2        False\n",
       "3        False\n",
       "4        False\n",
       "         ...  \n",
       "10836    False\n",
       "10837    False\n",
       "10838    False\n",
       "10839    False\n",
       "10840    False\n",
       "Name: Reviews, Length: 10841, dtype: bool"
      ]
     },
     "execution_count": 7,
     "metadata": {},
     "output_type": "execute_result"
    }
   ],
   "source": [
    "# Creating a mask\n",
    "Reviews_isnull = Reviews_numeric.isnull()\n",
    "Reviews_isnull"
   ]
  },
  {
   "cell_type": "markdown",
   "metadata": {
    "id": "jHDPCdHVfhb-"
   },
   "source": [
    "Finally, subset the `google_play` with `Reviews_isnull`. This should give you all the rows that contain non-numeric characters.\n",
    "\n",
    "Your output should look like:\n",
    "\n",
    "![Reviews_bool.png](reviews-bool.png)"
   ]
  },
  {
   "cell_type": "code",
   "execution_count": 8,
   "metadata": {
    "id": "O3MrHRVXfhb_"
   },
   "outputs": [
    {
     "data": {
      "text/html": [
       "<div>\n",
       "<style scoped>\n",
       "    .dataframe tbody tr th:only-of-type {\n",
       "        vertical-align: middle;\n",
       "    }\n",
       "\n",
       "    .dataframe tbody tr th {\n",
       "        vertical-align: top;\n",
       "    }\n",
       "\n",
       "    .dataframe thead th {\n",
       "        text-align: right;\n",
       "    }\n",
       "</style>\n",
       "<table border=\"1\" class=\"dataframe\">\n",
       "  <thead>\n",
       "    <tr style=\"text-align: right;\">\n",
       "      <th></th>\n",
       "      <th>App</th>\n",
       "      <th>Category</th>\n",
       "      <th>Rating</th>\n",
       "      <th>Reviews</th>\n",
       "      <th>Size</th>\n",
       "      <th>Installs</th>\n",
       "      <th>Type</th>\n",
       "      <th>Price</th>\n",
       "      <th>Content Rating</th>\n",
       "      <th>Genres</th>\n",
       "      <th>Last Updated</th>\n",
       "      <th>Current Ver</th>\n",
       "      <th>Android Ver</th>\n",
       "    </tr>\n",
       "  </thead>\n",
       "  <tbody>\n",
       "    <tr>\n",
       "      <th>10472</th>\n",
       "      <td>Life Made WI-Fi Touchscreen Photo Frame</td>\n",
       "      <td>1.9</td>\n",
       "      <td>19.0</td>\n",
       "      <td>3.0M</td>\n",
       "      <td>1,000+</td>\n",
       "      <td>Free</td>\n",
       "      <td>0</td>\n",
       "      <td>Everyone</td>\n",
       "      <td>NaN</td>\n",
       "      <td>February 11, 2018</td>\n",
       "      <td>1.0.19</td>\n",
       "      <td>4.0 and up</td>\n",
       "      <td>NaN</td>\n",
       "    </tr>\n",
       "  </tbody>\n",
       "</table>\n",
       "</div>"
      ],
      "text/plain": [
       "                                           App Category  Rating Reviews  \\\n",
       "10472  Life Made WI-Fi Touchscreen Photo Frame      1.9    19.0    3.0M   \n",
       "\n",
       "         Size Installs Type     Price Content Rating             Genres  \\\n",
       "10472  1,000+     Free    0  Everyone            NaN  February 11, 2018   \n",
       "\n",
       "      Last Updated Current Ver Android Ver  \n",
       "10472       1.0.19  4.0 and up         NaN  "
      ]
     },
     "execution_count": 8,
     "metadata": {},
     "output_type": "execute_result"
    }
   ],
   "source": [
    "# Checking the non-numeric value\n",
    "gp[Reviews_isnull]"
   ]
  },
  {
   "cell_type": "markdown",
   "metadata": {
    "id": "gDkJXhN9fhcA"
   },
   "source": [
    "#### We see that Google Play is using a shorthand for millions. \n",
    "\n",
    "Let's write a function to transform this data.\n",
    "\n",
    "Steps:\n",
    "\n",
    "1. Create a function that returns the correct numeric values of *Reviews*.\n",
    "1. Define a test string with `M` in the last character.\n",
    "1. Test your function with the test string. Make sure your function works correctly. If not, modify your functions and test again."
   ]
  },
  {
   "cell_type": "code",
   "execution_count": 9,
   "metadata": {
    "id": "3DLRLUkYfhcA"
   },
   "outputs": [
    {
     "data": {
      "text/plain": [
       "True"
      ]
     },
     "execution_count": 9,
     "metadata": {},
     "output_type": "execute_result"
    }
   ],
   "source": [
    "# Defining a function\n",
    "\n",
    "def convert_string_to_numeric(s):\n",
    "    \"\"\"\n",
    "    Convert a string value to numeric. If the last character of the string is `M`, obtain the \n",
    "    numeric part of the string, multiply it with 1,000,000, then return the result. Otherwise, \n",
    "    convert the string to numeric value and return the result.\n",
    "    \n",
    "    Args:\n",
    "        s: The Reviews score in string format.\n",
    "\n",
    "    Returns:\n",
    "        The correct numeric value of the Reviews score.\n",
    "    \"\"\"\n",
    "    if s.endswith('M'):\n",
    "        s = float(s.strip('M'))*1000000\n",
    "    return int(s)\n",
    "    \n",
    "test_string = '4.0M'\n",
    "\n",
    "convert_string_to_numeric(test_string) == 4000000"
   ]
  },
  {
   "cell_type": "markdown",
   "metadata": {
    "id": "V5mvhSpafhcC"
   },
   "source": [
    "The last step is to apply the function to the `Reviews` column in the following cell:"
   ]
  },
  {
   "cell_type": "code",
   "execution_count": 10,
   "metadata": {
    "id": "cbmli9LAfhcC"
   },
   "outputs": [],
   "source": [
    "# Applying function\n",
    "gp['Reviews'] = gp['Reviews'].apply(convert_string_to_numeric)"
   ]
  },
  {
   "cell_type": "markdown",
   "metadata": {
    "id": "jL-H212YfhcD"
   },
   "source": [
    "Check the non-numeric `Reviews` row again. It should have been fixed now and you should see:\n",
    "\n",
    "![Reviews_bool_fixed.png](reviews-bool-fixed.png)"
   ]
  },
  {
   "cell_type": "code",
   "execution_count": 11,
   "metadata": {
    "id": "nYqLVVZpfhcD"
   },
   "outputs": [
    {
     "data": {
      "text/html": [
       "<div>\n",
       "<style scoped>\n",
       "    .dataframe tbody tr th:only-of-type {\n",
       "        vertical-align: middle;\n",
       "    }\n",
       "\n",
       "    .dataframe tbody tr th {\n",
       "        vertical-align: top;\n",
       "    }\n",
       "\n",
       "    .dataframe thead th {\n",
       "        text-align: right;\n",
       "    }\n",
       "</style>\n",
       "<table border=\"1\" class=\"dataframe\">\n",
       "  <thead>\n",
       "    <tr style=\"text-align: right;\">\n",
       "      <th></th>\n",
       "      <th>App</th>\n",
       "      <th>Category</th>\n",
       "      <th>Rating</th>\n",
       "      <th>Reviews</th>\n",
       "      <th>Size</th>\n",
       "      <th>Installs</th>\n",
       "      <th>Type</th>\n",
       "      <th>Price</th>\n",
       "      <th>Content Rating</th>\n",
       "      <th>Genres</th>\n",
       "      <th>Last Updated</th>\n",
       "      <th>Current Ver</th>\n",
       "      <th>Android Ver</th>\n",
       "    </tr>\n",
       "  </thead>\n",
       "  <tbody>\n",
       "    <tr>\n",
       "      <th>10472</th>\n",
       "      <td>Life Made WI-Fi Touchscreen Photo Frame</td>\n",
       "      <td>1.9</td>\n",
       "      <td>19.0</td>\n",
       "      <td>3000000</td>\n",
       "      <td>1,000+</td>\n",
       "      <td>Free</td>\n",
       "      <td>0</td>\n",
       "      <td>Everyone</td>\n",
       "      <td>NaN</td>\n",
       "      <td>February 11, 2018</td>\n",
       "      <td>1.0.19</td>\n",
       "      <td>4.0 and up</td>\n",
       "      <td>NaN</td>\n",
       "    </tr>\n",
       "  </tbody>\n",
       "</table>\n",
       "</div>"
      ],
      "text/plain": [
       "                                           App Category  Rating  Reviews  \\\n",
       "10472  Life Made WI-Fi Touchscreen Photo Frame      1.9    19.0  3000000   \n",
       "\n",
       "         Size Installs Type     Price Content Rating             Genres  \\\n",
       "10472  1,000+     Free    0  Everyone            NaN  February 11, 2018   \n",
       "\n",
       "      Last Updated Current Ver Android Ver  \n",
       "10472       1.0.19  4.0 and up         NaN  "
      ]
     },
     "execution_count": 11,
     "metadata": {},
     "output_type": "execute_result"
    }
   ],
   "source": [
    "# Checking where NaN == True\n",
    "gp[Reviews_isnull]"
   ]
  },
  {
   "cell_type": "markdown",
   "metadata": {
    "id": "MK3E33YAfhcE"
   },
   "source": [
    "Also check the variable types of `google_play`. The `Reviews` column should be a `float64` type now."
   ]
  },
  {
   "cell_type": "code",
   "execution_count": 12,
   "metadata": {
    "id": "Y7Tw2lX8fhcF"
   },
   "outputs": [
    {
     "data": {
      "text/plain": [
       "dtype('int64')"
      ]
     },
     "execution_count": 12,
     "metadata": {},
     "output_type": "execute_result"
    }
   ],
   "source": [
    "# Checking type\n",
    "gp['Reviews'].dtype"
   ]
  },
  {
   "cell_type": "markdown",
   "metadata": {
    "id": "49TTLiq7fhcF"
   },
   "source": [
    "#### The next column we will look at is `Size`. We start by looking at all unique values in `Size`:\n",
    "\n",
    "*Hint: use `unique()` ([documentation](https://pandas.pydata.org/pandas-docs/stable/generated/pandas.Series.unique.html))*."
   ]
  },
  {
   "cell_type": "code",
   "execution_count": 13,
   "metadata": {
    "id": "LOSnt7fMfhcF"
   },
   "outputs": [
    {
     "data": {
      "text/plain": [
       "array(['19M', '14M', '8.7M', '25M', '2.8M', '5.6M', '29M', '33M', '3.1M',\n",
       "       '28M', '12M', '20M', '21M', '37M', '2.7M', '5.5M', '17M', '39M',\n",
       "       '31M', '4.2M', '7.0M', '23M', '6.0M', '6.1M', '4.6M', '9.2M',\n",
       "       '5.2M', '11M', '24M', 'Varies with device', '9.4M', '15M', '10M',\n",
       "       '1.2M', '26M', '8.0M', '7.9M', '56M', '57M', '35M', '54M', '201k',\n",
       "       '3.6M', '5.7M', '8.6M', '2.4M', '27M', '2.5M', '16M', '3.4M',\n",
       "       '8.9M', '3.9M', '2.9M', '38M', '32M', '5.4M', '18M', '1.1M',\n",
       "       '2.2M', '4.5M', '9.8M', '52M', '9.0M', '6.7M', '30M', '2.6M',\n",
       "       '7.1M', '3.7M', '22M', '7.4M', '6.4M', '3.2M', '8.2M', '9.9M',\n",
       "       '4.9M', '9.5M', '5.0M', '5.9M', '13M', '73M', '6.8M', '3.5M',\n",
       "       '4.0M', '2.3M', '7.2M', '2.1M', '42M', '7.3M', '9.1M', '55M',\n",
       "       '23k', '6.5M', '1.5M', '7.5M', '51M', '41M', '48M', '8.5M', '46M',\n",
       "       '8.3M', '4.3M', '4.7M', '3.3M', '40M', '7.8M', '8.8M', '6.6M',\n",
       "       '5.1M', '61M', '66M', '79k', '8.4M', '118k', '44M', '695k', '1.6M',\n",
       "       '6.2M', '18k', '53M', '1.4M', '3.0M', '5.8M', '3.8M', '9.6M',\n",
       "       '45M', '63M', '49M', '77M', '4.4M', '4.8M', '70M', '6.9M', '9.3M',\n",
       "       '10.0M', '8.1M', '36M', '84M', '97M', '2.0M', '1.9M', '1.8M',\n",
       "       '5.3M', '47M', '556k', '526k', '76M', '7.6M', '59M', '9.7M', '78M',\n",
       "       '72M', '43M', '7.7M', '6.3M', '334k', '34M', '93M', '65M', '79M',\n",
       "       '100M', '58M', '50M', '68M', '64M', '67M', '60M', '94M', '232k',\n",
       "       '99M', '624k', '95M', '8.5k', '41k', '292k', '11k', '80M', '1.7M',\n",
       "       '74M', '62M', '69M', '75M', '98M', '85M', '82M', '96M', '87M',\n",
       "       '71M', '86M', '91M', '81M', '92M', '83M', '88M', '704k', '862k',\n",
       "       '899k', '378k', '266k', '375k', '1.3M', '975k', '980k', '4.1M',\n",
       "       '89M', '696k', '544k', '525k', '920k', '779k', '853k', '720k',\n",
       "       '713k', '772k', '318k', '58k', '241k', '196k', '857k', '51k',\n",
       "       '953k', '865k', '251k', '930k', '540k', '313k', '746k', '203k',\n",
       "       '26k', '314k', '239k', '371k', '220k', '730k', '756k', '91k',\n",
       "       '293k', '17k', '74k', '14k', '317k', '78k', '924k', '902k', '818k',\n",
       "       '81k', '939k', '169k', '45k', '475k', '965k', '90M', '545k', '61k',\n",
       "       '283k', '655k', '714k', '93k', '872k', '121k', '322k', '1.0M',\n",
       "       '976k', '172k', '238k', '549k', '206k', '954k', '444k', '717k',\n",
       "       '210k', '609k', '308k', '705k', '306k', '904k', '473k', '175k',\n",
       "       '350k', '383k', '454k', '421k', '70k', '812k', '442k', '842k',\n",
       "       '417k', '412k', '459k', '478k', '335k', '782k', '721k', '430k',\n",
       "       '429k', '192k', '200k', '460k', '728k', '496k', '816k', '414k',\n",
       "       '506k', '887k', '613k', '243k', '569k', '778k', '683k', '592k',\n",
       "       '319k', '186k', '840k', '647k', '191k', '373k', '437k', '598k',\n",
       "       '716k', '585k', '982k', '222k', '219k', '55k', '948k', '323k',\n",
       "       '691k', '511k', '951k', '963k', '25k', '554k', '351k', '27k',\n",
       "       '82k', '208k', '913k', '514k', '551k', '29k', '103k', '898k',\n",
       "       '743k', '116k', '153k', '209k', '353k', '499k', '173k', '597k',\n",
       "       '809k', '122k', '411k', '400k', '801k', '787k', '237k', '50k',\n",
       "       '643k', '986k', '97k', '516k', '837k', '780k', '961k', '269k',\n",
       "       '20k', '498k', '600k', '749k', '642k', '881k', '72k', '656k',\n",
       "       '601k', '221k', '228k', '108k', '940k', '176k', '33k', '663k',\n",
       "       '34k', '942k', '259k', '164k', '458k', '245k', '629k', '28k',\n",
       "       '288k', '775k', '785k', '636k', '916k', '994k', '309k', '485k',\n",
       "       '914k', '903k', '608k', '500k', '54k', '562k', '847k', '957k',\n",
       "       '688k', '811k', '270k', '48k', '329k', '523k', '921k', '874k',\n",
       "       '981k', '784k', '280k', '24k', '518k', '754k', '892k', '154k',\n",
       "       '860k', '364k', '387k', '626k', '161k', '879k', '39k', '970k',\n",
       "       '170k', '141k', '160k', '144k', '143k', '190k', '376k', '193k',\n",
       "       '246k', '73k', '658k', '992k', '253k', '420k', '404k', '1,000+',\n",
       "       '470k', '226k', '240k', '89k', '234k', '257k', '861k', '467k',\n",
       "       '157k', '44k', '676k', '67k', '552k', '885k', '1020k', '582k',\n",
       "       '619k'], dtype=object)"
      ]
     },
     "execution_count": 13,
     "metadata": {},
     "output_type": "execute_result"
    }
   ],
   "source": [
    "# Viewing\n",
    "gp['Size'].unique()"
   ]
  },
  {
   "cell_type": "markdown",
   "metadata": {
    "id": "TciEBCyXfhcG"
   },
   "source": [
    "You should have seen lots of unique values of the app sizes.\n",
    "\n",
    "#### While we can convert most of the `Size` values to numeric in the same way we converted the `Reviews` values, there is one value that is impossible to convert.\n",
    "\n",
    "What is that badass value? Enter it in the next cell and calculate the proportion of its occurence to the total number of records of `google_play`."
   ]
  },
  {
   "cell_type": "code",
   "execution_count": 14,
   "metadata": {
    "id": "-BCYOWiYfhcG"
   },
   "outputs": [
    {
     "data": {
      "text/plain": [
       "0.15635089013928605"
      ]
     },
     "execution_count": 14,
     "metadata": {},
     "output_type": "execute_result"
    }
   ],
   "source": [
    "# There is a value with no numeric info 'Varies with device' with occurence\n",
    "len(gp[gp['Size']=='Varies with device'])/len(gp)"
   ]
  },
  {
   "cell_type": "markdown",
   "metadata": {
    "id": "memkwXoPfhcH"
   },
   "source": [
    "#### While this column may be useful for other types of analysis, we opt to drop it from our dataset. \n",
    "\n",
    "There are two reasons. First, the majority of the data are ordinal but a sizeable proportion are missing because we cannot convert them to numerical values. Ordinal data are both numerical and categorical, and they usually can be ranked (e.g. 82k is smaller than 91M). In contrast, non-ordinal categorical data such as blood type and eye color cannot be ranked. The second reason is as a categorical column, it has too many unique values to produce meaningful insights. Therefore, in our case the simplest strategy would be to drop the column.\n",
    "\n",
    "Drop the column in the cell below (use `inplace=True`)"
   ]
  },
  {
   "cell_type": "code",
   "execution_count": 15,
   "metadata": {
    "id": "UH5vyr6WfhcH"
   },
   "outputs": [],
   "source": [
    "# Drop one column with too many irreplaceable values\n",
    "gp.drop(['Size'], axis=1, inplace=True)"
   ]
  },
  {
   "cell_type": "markdown",
   "metadata": {
    "id": "t5SyM4bTfhcH"
   },
   "source": [
    "#### Now let's look at how many missing values are in each column. \n",
    "\n",
    "This will give us an idea of whether we should come up with a missing data strategy or give up on the column all together. In the next column, find the number of missing values in each column: \n",
    "\n",
    "*Hint: use the `isna()` and `sum()` functions.*"
   ]
  },
  {
   "cell_type": "code",
   "execution_count": 16,
   "metadata": {
    "id": "u-esah2afhcI"
   },
   "outputs": [
    {
     "data": {
      "text/plain": [
       "App                  0\n",
       "Category             0\n",
       "Rating            1474\n",
       "Reviews              0\n",
       "Installs             0\n",
       "Type                 1\n",
       "Price                0\n",
       "Content Rating       1\n",
       "Genres               0\n",
       "Last Updated         0\n",
       "Current Ver          8\n",
       "Android Ver          3\n",
       "dtype: int64"
      ]
     },
     "execution_count": 16,
     "metadata": {},
     "output_type": "execute_result"
    }
   ],
   "source": [
    "# Count missing values\n",
    "gp.isna().sum()"
   ]
  },
  {
   "cell_type": "markdown",
   "metadata": {
    "id": "SufgsNC1fhcI"
   },
   "source": [
    "You should find the column with the most missing values is now `Rating`.\n",
    "\n",
    "#### What is the proportion of the missing values in `Rating` to the total number of records?\n",
    "\n",
    "Enter your answer in the cell below."
   ]
  },
  {
   "cell_type": "code",
   "execution_count": 17,
   "metadata": {
    "id": "7xauADUjfhcJ"
   },
   "outputs": [
    {
     "data": {
      "text/plain": [
       "0.13596531685268887"
      ]
     },
     "execution_count": 17,
     "metadata": {},
     "output_type": "execute_result"
    }
   ],
   "source": [
    "# There is a relatively high proportion of mv in this column\n",
    "len(gp[gp['Rating'].isna()])/len(gp)"
   ]
  },
  {
   "cell_type": "markdown",
   "metadata": {
    "id": "6nbSfbWWfhcJ"
   },
   "source": [
    "A sizeable proportion of the `Rating` column is missing. A few other columns also contain several missing values.\n",
    "\n",
    "#### We opt to preserve these columns and remove the rows containing missing data.\n",
    "\n",
    "In particular, we don't want to drop the `Rating` column because:\n",
    "\n",
    "* It is one of the most important columns in our dataset. \n",
    "\n",
    "* Since the dataset is not a time series, the loss of these rows will not have a negative impact on our ability to analyze the data. It will, however, cause us to lose some meaningful observations. But the loss is limited compared to the gain we receive by preserving these columns.\n",
    "\n",
    "In the cell below, remove all rows containing at least one missing value. Use the `dropna()` function ([documentation](https://pandas.pydata.org/pandas-docs/stable/generated/pandas.DataFrame.dropna.html)). Assign the new dataframe to the variable `google_missing_removed`."
   ]
  },
  {
   "cell_type": "code",
   "execution_count": 18,
   "metadata": {
    "id": "Tlk9qbEhfhcK"
   },
   "outputs": [],
   "source": [
    "# Clean dataset:\n",
    "gmr = gp.dropna()"
   ]
  },
  {
   "cell_type": "markdown",
   "metadata": {
    "id": "tbCazUjNfhcK"
   },
   "source": [
    "From now on, we use the `google_missing_removed` variable instead of `google_play`.\n",
    "\n",
    "#### Next, we look at the `Last Updated` column.\n",
    "\n",
    "The `Last Updated` column seems to contain a date, though it is classified as an object type. Let's convert this column using the `pd.to_datetime` function ([documentation](https://pandas.pydata.org/pandas-docs/stable/generated/pandas.to_datetime.html))."
   ]
  },
  {
   "cell_type": "code",
   "execution_count": 19,
   "metadata": {
    "id": "ZV8lxE2JfhcL"
   },
   "outputs": [
    {
     "data": {
      "text/plain": [
       "0       2018-01-07\n",
       "1       2018-01-15\n",
       "2       2018-08-01\n",
       "3       2018-06-08\n",
       "4       2018-06-20\n",
       "           ...    \n",
       "10834   2017-06-18\n",
       "10836   2017-07-25\n",
       "10837   2018-07-06\n",
       "10839   2015-01-19\n",
       "10840   2018-07-25\n",
       "Name: Last Updated, Length: 9360, dtype: datetime64[ns]"
      ]
     },
     "execution_count": 19,
     "metadata": {},
     "output_type": "execute_result"
    }
   ],
   "source": [
    "# Converting to datetime format\n",
    "pd.to_datetime(gmr['Last Updated'])"
   ]
  },
  {
   "cell_type": "markdown",
   "metadata": {
    "id": "8ctUrk4DfhcL"
   },
   "source": [
    "#### The last column we will transform is `Price`. \n",
    "\n",
    "We start by looking at the unique values of this column."
   ]
  },
  {
   "cell_type": "code",
   "execution_count": 20,
   "metadata": {
    "id": "Y1GAvf7sfhcL"
   },
   "outputs": [
    {
     "data": {
      "text/plain": [
       "array(['0', '$4.99', '$3.99', '$6.99', '$7.99', '$5.99', '$2.99', '$3.49',\n",
       "       '$1.99', '$9.99', '$7.49', '$0.99', '$9.00', '$5.49', '$10.00',\n",
       "       '$24.99', '$11.99', '$79.99', '$16.99', '$14.99', '$29.99',\n",
       "       '$12.99', '$2.49', '$10.99', '$1.50', '$19.99', '$15.99', '$33.99',\n",
       "       '$39.99', '$3.95', '$4.49', '$1.70', '$8.99', '$1.49', '$3.88',\n",
       "       '$399.99', '$17.99', '$400.00', '$3.02', '$1.76', '$4.84', '$4.77',\n",
       "       '$1.61', '$2.50', '$1.59', '$6.49', '$1.29', '$299.99', '$379.99',\n",
       "       '$37.99', '$18.99', '$389.99', '$8.49', '$1.75', '$14.00', '$2.00',\n",
       "       '$3.08', '$2.59', '$19.40', '$3.90', '$4.59', '$15.46', '$3.04',\n",
       "       '$13.99', '$4.29', '$3.28', '$4.60', '$1.00', '$2.95', '$2.90',\n",
       "       '$1.97', '$2.56', '$1.20'], dtype=object)"
      ]
     },
     "execution_count": 20,
     "metadata": {},
     "output_type": "execute_result"
    }
   ],
   "source": [
    "# Checking the column unique values\n",
    "gmr['Price'].unique()"
   ]
  },
  {
   "cell_type": "markdown",
   "metadata": {
    "id": "UfPYpqjHfhcM"
   },
   "source": [
    "Since all prices are ordinal data without exceptions, we can tranform this column by removing the dollar sign and converting to numeric. We can create a new column called `Price Numerical` and drop the original column.\n",
    "\n",
    "We will achieve our goal in three steps. Follow the instructions of each step below.\n",
    "\n",
    "#### First we remove the dollar sign. Do this in the next cell by applying the `str.replace` function to the column to replace `$` with an empty string (`''`)."
   ]
  },
  {
   "cell_type": "code",
   "execution_count": 21,
   "metadata": {
    "id": "l42htAspfhcM"
   },
   "outputs": [
    {
     "name": "stderr",
     "output_type": "stream",
     "text": [
      "C:\\Users\\Shinemet\\AppData\\Local\\Temp/ipykernel_8228/4167013762.py:2: SettingWithCopyWarning: \n",
      "A value is trying to be set on a copy of a slice from a DataFrame.\n",
      "Try using .loc[row_indexer,col_indexer] = value instead\n",
      "\n",
      "See the caveats in the documentation: https://pandas.pydata.org/pandas-docs/stable/user_guide/indexing.html#returning-a-view-versus-a-copy\n",
      "  gmr['Price numerical'] = gmr['Price'].str.replace('$', '', regex=True)\n"
     ]
    }
   ],
   "source": [
    "# Remove $ sign\n",
    "gmr['Price numerical'] = gmr['Price'].str.replace('$', '', regex=True)"
   ]
  },
  {
   "cell_type": "code",
   "execution_count": 22,
   "metadata": {},
   "outputs": [
    {
     "data": {
      "text/plain": [
       "array(['0', '4.99', '3.99', '6.99', '7.99', '5.99', '2.99', '3.49',\n",
       "       '1.99', '9.99', '7.49', '0.99', '9.00', '5.49', '10.00', '24.99',\n",
       "       '11.99', '79.99', '16.99', '14.99', '29.99', '12.99', '2.49',\n",
       "       '10.99', '1.50', '19.99', '15.99', '33.99', '39.99', '3.95',\n",
       "       '4.49', '1.70', '8.99', '1.49', '3.88', '399.99', '17.99',\n",
       "       '400.00', '3.02', '1.76', '4.84', '4.77', '1.61', '2.50', '1.59',\n",
       "       '6.49', '1.29', '299.99', '379.99', '37.99', '18.99', '389.99',\n",
       "       '8.49', '1.75', '14.00', '2.00', '3.08', '2.59', '19.40', '3.90',\n",
       "       '4.59', '15.46', '3.04', '13.99', '4.29', '3.28', '4.60', '1.00',\n",
       "       '2.95', '2.90', '1.97', '2.56', '1.20'], dtype=object)"
      ]
     },
     "execution_count": 22,
     "metadata": {},
     "output_type": "execute_result"
    }
   ],
   "source": [
    "gmr['Price numerical'].unique()"
   ]
  },
  {
   "cell_type": "markdown",
   "metadata": {
    "id": "oDMV_zHffhcM"
   },
   "source": [
    "#### Second step, coerce the `Price Numerical` column to numeric."
   ]
  },
  {
   "cell_type": "code",
   "execution_count": 23,
   "metadata": {
    "id": "IXq9POEtfhcN"
   },
   "outputs": [
    {
     "name": "stderr",
     "output_type": "stream",
     "text": [
      "C:\\Users\\Shinemet\\AppData\\Local\\Temp/ipykernel_8228/1533583456.py:1: SettingWithCopyWarning: \n",
      "A value is trying to be set on a copy of a slice from a DataFrame.\n",
      "Try using .loc[row_indexer,col_indexer] = value instead\n",
      "\n",
      "See the caveats in the documentation: https://pandas.pydata.org/pandas-docs/stable/user_guide/indexing.html#returning-a-view-versus-a-copy\n",
      "  gmr['Price numerical'] = pd.to_numeric(gmr['Price numerical'], errors='coerce')\n"
     ]
    }
   ],
   "source": [
    "gmr['Price numerical'] = pd.to_numeric(gmr['Price numerical'], errors='coerce')"
   ]
  },
  {
   "cell_type": "code",
   "execution_count": 24,
   "metadata": {},
   "outputs": [
    {
     "data": {
      "text/plain": [
       "array([  0.  ,   4.99,   3.99,   6.99,   7.99,   5.99,   2.99,   3.49,\n",
       "         1.99,   9.99,   7.49,   0.99,   9.  ,   5.49,  10.  ,  24.99,\n",
       "        11.99,  79.99,  16.99,  14.99,  29.99,  12.99,   2.49,  10.99,\n",
       "         1.5 ,  19.99,  15.99,  33.99,  39.99,   3.95,   4.49,   1.7 ,\n",
       "         8.99,   1.49,   3.88, 399.99,  17.99, 400.  ,   3.02,   1.76,\n",
       "         4.84,   4.77,   1.61,   2.5 ,   1.59,   6.49,   1.29, 299.99,\n",
       "       379.99,  37.99,  18.99, 389.99,   8.49,   1.75,  14.  ,   2.  ,\n",
       "         3.08,   2.59,  19.4 ,   3.9 ,   4.59,  15.46,   3.04,  13.99,\n",
       "         4.29,   3.28,   4.6 ,   1.  ,   2.95,   2.9 ,   1.97,   2.56,\n",
       "         1.2 ])"
      ]
     },
     "execution_count": 24,
     "metadata": {},
     "output_type": "execute_result"
    }
   ],
   "source": [
    "gmr['Price numerical'].unique()"
   ]
  },
  {
   "cell_type": "markdown",
   "metadata": {
    "id": "GjHJN5jIfhcN"
   },
   "source": [
    "**Finally, drop the original `Price` column.**"
   ]
  },
  {
   "cell_type": "code",
   "execution_count": 25,
   "metadata": {
    "id": "uMHBFe_1fhcN"
   },
   "outputs": [
    {
     "name": "stderr",
     "output_type": "stream",
     "text": [
      "C:\\Users\\Shinemet\\anaconda3\\lib\\site-packages\\pandas\\core\\frame.py:4906: SettingWithCopyWarning: \n",
      "A value is trying to be set on a copy of a slice from a DataFrame\n",
      "\n",
      "See the caveats in the documentation: https://pandas.pydata.org/pandas-docs/stable/user_guide/indexing.html#returning-a-view-versus-a-copy\n",
      "  return super().drop(\n"
     ]
    }
   ],
   "source": [
    "gmr.drop('Price', axis=1, inplace=True)"
   ]
  },
  {
   "cell_type": "markdown",
   "metadata": {
    "id": "VQdgVdxEfhcO"
   },
   "source": [
    "Now check the variable types of `google_missing_removed`. Make sure:\n",
    "\n",
    "* `Size` and `Price` columns have been removed.\n",
    "* `Rating`, `Reviews`, and `Price Numerical` have the type of `float64`.\n",
    "* `Last Updated` has the type of `datetime64`."
   ]
  },
  {
   "cell_type": "code",
   "execution_count": 26,
   "metadata": {
    "id": "2Z0K5PNZfhcO"
   },
   "outputs": [
    {
     "name": "stdout",
     "output_type": "stream",
     "text": [
      "<class 'pandas.core.frame.DataFrame'>\n",
      "Int64Index: 9360 entries, 0 to 10840\n",
      "Data columns (total 12 columns):\n",
      " #   Column           Non-Null Count  Dtype  \n",
      "---  ------           --------------  -----  \n",
      " 0   App              9360 non-null   object \n",
      " 1   Category         9360 non-null   object \n",
      " 2   Rating           9360 non-null   float64\n",
      " 3   Reviews          9360 non-null   int64  \n",
      " 4   Installs         9360 non-null   object \n",
      " 5   Type             9360 non-null   object \n",
      " 6   Content Rating   9360 non-null   object \n",
      " 7   Genres           9360 non-null   object \n",
      " 8   Last Updated     9360 non-null   object \n",
      " 9   Current Ver      9360 non-null   object \n",
      " 10  Android Ver      9360 non-null   object \n",
      " 11  Price numerical  9360 non-null   float64\n",
      "dtypes: float64(2), int64(1), object(9)\n",
      "memory usage: 950.6+ KB\n"
     ]
    }
   ],
   "source": [
    "gmr.info()"
   ]
  },
  {
   "cell_type": "markdown",
   "metadata": {
    "id": "QcYL2Zh7fhcO"
   },
   "source": [
    "# Challenge 2 - Loading and Extracting Features from the Second Dataset"
   ]
  },
  {
   "cell_type": "markdown",
   "metadata": {
    "id": "prHjUxNofhcP"
   },
   "source": [
    "Load the second dataset to the variable `google_reviews`. The data is in the file `googleplaystore_user_reviews.csv`."
   ]
  },
  {
   "cell_type": "code",
   "execution_count": 27,
   "metadata": {
    "id": "K6Byv70wfhcP"
   },
   "outputs": [],
   "source": [
    "gr = pd.read_csv(r\"C:\\Users\\Shinemet\\Ironhack\\Labs\\Module3\\5. Feature-Extraction\\data\\googleplaystore_user_reviews.csv\")"
   ]
  },
  {
   "cell_type": "markdown",
   "metadata": {
    "id": "128J08eFfhcP"
   },
   "source": [
    "#### This dataset contains the top 100 reviews for each app. \n",
    "\n",
    "Let's examine this dataset using the `head` function"
   ]
  },
  {
   "cell_type": "code",
   "execution_count": 28,
   "metadata": {
    "id": "Ler-taRKfhcQ"
   },
   "outputs": [
    {
     "data": {
      "text/html": [
       "<div>\n",
       "<style scoped>\n",
       "    .dataframe tbody tr th:only-of-type {\n",
       "        vertical-align: middle;\n",
       "    }\n",
       "\n",
       "    .dataframe tbody tr th {\n",
       "        vertical-align: top;\n",
       "    }\n",
       "\n",
       "    .dataframe thead th {\n",
       "        text-align: right;\n",
       "    }\n",
       "</style>\n",
       "<table border=\"1\" class=\"dataframe\">\n",
       "  <thead>\n",
       "    <tr style=\"text-align: right;\">\n",
       "      <th></th>\n",
       "      <th>App</th>\n",
       "      <th>Translated_Review</th>\n",
       "      <th>Sentiment</th>\n",
       "      <th>Sentiment_Polarity</th>\n",
       "      <th>Sentiment_Subjectivity</th>\n",
       "    </tr>\n",
       "  </thead>\n",
       "  <tbody>\n",
       "    <tr>\n",
       "      <th>0</th>\n",
       "      <td>10 Best Foods for You</td>\n",
       "      <td>I like eat delicious food. That's I'm cooking ...</td>\n",
       "      <td>Positive</td>\n",
       "      <td>1.00</td>\n",
       "      <td>0.533333</td>\n",
       "    </tr>\n",
       "    <tr>\n",
       "      <th>1</th>\n",
       "      <td>10 Best Foods for You</td>\n",
       "      <td>This help eating healthy exercise regular basis</td>\n",
       "      <td>Positive</td>\n",
       "      <td>0.25</td>\n",
       "      <td>0.288462</td>\n",
       "    </tr>\n",
       "    <tr>\n",
       "      <th>2</th>\n",
       "      <td>10 Best Foods for You</td>\n",
       "      <td>NaN</td>\n",
       "      <td>NaN</td>\n",
       "      <td>NaN</td>\n",
       "      <td>NaN</td>\n",
       "    </tr>\n",
       "    <tr>\n",
       "      <th>3</th>\n",
       "      <td>10 Best Foods for You</td>\n",
       "      <td>Works great especially going grocery store</td>\n",
       "      <td>Positive</td>\n",
       "      <td>0.40</td>\n",
       "      <td>0.875000</td>\n",
       "    </tr>\n",
       "    <tr>\n",
       "      <th>4</th>\n",
       "      <td>10 Best Foods for You</td>\n",
       "      <td>Best idea us</td>\n",
       "      <td>Positive</td>\n",
       "      <td>1.00</td>\n",
       "      <td>0.300000</td>\n",
       "    </tr>\n",
       "  </tbody>\n",
       "</table>\n",
       "</div>"
      ],
      "text/plain": [
       "                     App                                  Translated_Review  \\\n",
       "0  10 Best Foods for You  I like eat delicious food. That's I'm cooking ...   \n",
       "1  10 Best Foods for You    This help eating healthy exercise regular basis   \n",
       "2  10 Best Foods for You                                                NaN   \n",
       "3  10 Best Foods for You         Works great especially going grocery store   \n",
       "4  10 Best Foods for You                                       Best idea us   \n",
       "\n",
       "  Sentiment  Sentiment_Polarity  Sentiment_Subjectivity  \n",
       "0  Positive                1.00                0.533333  \n",
       "1  Positive                0.25                0.288462  \n",
       "2       NaN                 NaN                     NaN  \n",
       "3  Positive                0.40                0.875000  \n",
       "4  Positive                1.00                0.300000  "
      ]
     },
     "execution_count": 28,
     "metadata": {},
     "output_type": "execute_result"
    }
   ],
   "source": [
    "gr.head()"
   ]
  },
  {
   "cell_type": "code",
   "execution_count": 29,
   "metadata": {},
   "outputs": [
    {
     "data": {
      "text/plain": [
       "App                           0\n",
       "Translated_Review         26868\n",
       "Sentiment                 26863\n",
       "Sentiment_Polarity        26863\n",
       "Sentiment_Subjectivity    26863\n",
       "dtype: int64"
      ]
     },
     "execution_count": 29,
     "metadata": {},
     "output_type": "execute_result"
    }
   ],
   "source": [
    "gr.isna().sum()"
   ]
  },
  {
   "cell_type": "markdown",
   "metadata": {
    "id": "auNRd2TjfhcQ"
   },
   "source": [
    "#### The main piece of information we would like to extract from this dataset is the proportion of positive reviews of each app. \n",
    "\n",
    "Columns like `Sentiment_Polarity` and `Sentiment_Subjectivity` are not to our interests because we have no clue how to use them. We do not care about `Translated_Review` because natural language processing is too complex for us at present (in fact the `Sentiment`, `Sentiment_Polarity`, and `Sentiment_Subjectivity` columns are derived from `Translated_Review` the data scientists). \n",
    "\n",
    "What we care about in this challenge is `Sentiment`. To be more precise, we care about **what is the proportion of *Positive* sentiment of each app**. This will require us to aggregate the `Sentiment` data by `App` in order to calculate the proportions.\n",
    "\n",
    "Now that you are clear about what we are trying to achieve, follow the steps below that will walk you through towards our goal."
   ]
  },
  {
   "cell_type": "markdown",
   "metadata": {
    "id": "x6NQcl_vfhcR"
   },
   "source": [
    "#### Our first step will be to remove all rows with missing sentiment. \n",
    "\n",
    "In the next cell, drop all rows with missing data using the `dropna()` function and assign this new dataframe to `review_missing_removed`."
   ]
  },
  {
   "cell_type": "code",
   "execution_count": 30,
   "metadata": {
    "id": "vECNpngxfhcR"
   },
   "outputs": [],
   "source": [
    "rmr = gr.dropna()"
   ]
  },
  {
   "cell_type": "markdown",
   "metadata": {
    "id": "m1cfmFmWfhcS"
   },
   "source": [
    "#### Now, use the `value_counts()` function ([documentation](https://pandas.pydata.org/pandas-docs/stable/generated/pandas.Series.value_counts.html)) to get a sense on how many apps are in this dataset and their review counts."
   ]
  },
  {
   "cell_type": "code",
   "execution_count": 31,
   "metadata": {
    "id": "ihd2E23NfhcS"
   },
   "outputs": [
    {
     "data": {
      "text/plain": [
       "App                                                 Translated_Review                                                                                                                                                                                                                                                                                                                                                                                                                                                                          Sentiment  Sentiment_Polarity  Sentiment_Subjectivity\n",
       "FastMeet: Chat, Dating, Love                        Good                                                                                                                                                                                                                                                                                                                                                                                                                                                                                       Positive    0.700000           0.600000                  8\n",
       "BestCam Selfie-selfie, beauty camera, photo editor  Good                                                                                                                                                                                                                                                                                                                                                                                                                                                                                       Positive    0.700000           0.600000                  7\n",
       "Bubble Shooter                                      Good                                                                                                                                                                                                                                                                                                                                                                                                                                                                                       Positive    0.700000           0.600000                  7\n",
       "Candy Crush Saga                                    I love game TOO many pop ups. I want open game play. But 7 notices first every time open game. Once daily enough. I level 2475 NEVER hit jackpot what's purpose wheel. What perks committed player can't hit jackpot there. The move suggestion Too fast.                                                                                                                                                                                                                                  Positive    0.022727           0.430303                  6\n",
       "Duolingo: Learn Languages Free                      Duolingo deserves place number 1 education apps. The problem really teach much pronounciation, rules exceptions words 'The'. Duolingo, could please add in, I think would possible contest position number 1. Also, I think would awesome really helpful could choose accent pronounciation words could in. Please consider request, and, need money this, I'm sure everyone would ok amount ads increased slightly whilst work this. Thanks duo, saved sanity whilst trying learn German  Positive    0.263333           0.435556                  6\n",
       "                                                                                                                                                                                                                                                                                                                                                                                                                                                                                                                                                                                                       ..\n",
       "Calorie Counter & Diet Tracker                      I've using weeks now. I My Fitness Pal user years. But I found I like now. I accurate serving counts log food whereas MFP seemingly lost feature decimals. It's interactive social. I gave 4 stars instead 5 food database comprehensive accurate I'd like.                                                                                                                                                                                                                                Positive    0.277778           0.444444                  1\n",
       "                                                    I've using days like far. Easy navigate scanner really handy. Would like take supplements consideration daily nutrition totals daily tally number fruit, vegetable, meat, grain, dairy, fat servings would help diets require track food groups, i.e. DASH. Something similar water tracker. But overall, I like app.                                                                                                                                                                      Positive    0.161905           0.447619                  1\n",
       "                                                    I've used Spark People web-based tool, back 2012 & 2013 gotten inconvenient foods still needed manually entered. With works phone, I've found food database become enormous; I enter single food, even brand names available!                                                                                                                                                                                                                                                              Negative   -0.034286           0.502857                  1\n",
       "                                                    I've tried several good ones best best! It's actually fun notifying things I committed gives much needed push.                                                                                                                                                                                                                                                                                                                                                                             Positive    0.533333           0.266667                  1\n",
       "Housing-Real Estate & Property                      Worst app. We get nothing Time waste . They update properties details. They delete sold properties. Both sellers buyers get time waste. Don't install waste                                                                                                                                                                                                                                                                                                                                Negative   -0.400000           0.250000                  1\n",
       "Length: 29692, dtype: int64"
      ]
     },
     "execution_count": 31,
     "metadata": {},
     "output_type": "execute_result"
    }
   ],
   "source": [
    "rmr.value_counts()"
   ]
  },
  {
   "cell_type": "markdown",
   "metadata": {
    "id": "eNxu-scifhcT"
   },
   "source": [
    "#### Now the tough part comes. Let's plan how we will achieve our goal:\n",
    "\n",
    "1. We will count the number of reviews that contain *Positive* in the `Sentiment` column.\n",
    "\n",
    "1. We will create a new dataframe to contain the `App` name, the number of positive reviews, and the total number of reviews of each app.\n",
    "\n",
    "1. We will then loop the new dataframe to calculate the postivie review portion of each app."
   ]
  },
  {
   "cell_type": "markdown",
   "metadata": {
    "id": "o0Llo0cNfhcT"
   },
   "source": [
    "#### Step 1: Count the number of positive reviews.\n",
    "\n",
    "In the following cell, write a function that takes a column and returns the number of times *Positive* appears in the column. \n",
    "\n",
    "*Hint: One option is to use the `np.where()` function ([documentation](https://docs.scipy.org/doc/numpy-1.13.0/reference/generated/numpy.where.html)).*"
   ]
  },
  {
   "cell_type": "code",
   "execution_count": 32,
   "metadata": {
    "id": "_sFFkhM1fhcT"
   },
   "outputs": [],
   "source": [
    "# Your code below\n",
    "\n",
    "def positive_function(x):\n",
    "    \"\"\"\n",
    "    Count how many times the string `Positive` appears in a column (exact string match).\n",
    "    \n",
    "    Args:\n",
    "        x: data column\n",
    "    \n",
    "    Returns:\n",
    "        The number of occurrences of `Positive` in the column data.\n",
    "    \"\"\"\n",
    "    df = np.where(x=='Positive')\n",
    "    return len(df[0])"
   ]
  },
  {
   "cell_type": "code",
   "execution_count": 33,
   "metadata": {},
   "outputs": [
    {
     "data": {
      "text/plain": [
       "23998"
      ]
     },
     "execution_count": 33,
     "metadata": {},
     "output_type": "execute_result"
    }
   ],
   "source": [
    "positive_function(rmr['Sentiment'])"
   ]
  },
  {
   "cell_type": "markdown",
   "metadata": {
    "id": "Aj0qu-_1fhcU"
   },
   "source": [
    "#### Step 2: Create a new dataframe to contain the `App` name, the number of positive reviews, and the total number of reviews of each app\n",
    "\n",
    "We will group `review_missing_removed` by the `App` column, then aggregate the grouped dataframe on the number of positive reviews and the total review counts of each app. The result will be assigned to a new variable `google_agg`. Here is the ([documentation on how to achieve it](https://pandas.pydata.org/pandas-docs/stable/generated/pandas.core.groupby.DataFrameGroupBy.agg.html)). Take a moment or two to read the documentation and google examples because it is pretty complex.\n",
    "\n",
    "When you obtain `google_agg`, check its values to make sure it has an `App` column as its index as well as a `Positive` column and a `Total` column. Your output should look like:\n",
    "\n",
    "![Positive Reviews Agg](positive-review-agg.png)\n",
    "\n",
    "*Hint: Use `positive_function` you created earlier as part of the param passed to the `agg()` function in order to aggregate the number of positive reviews.*\n",
    "\n",
    "#### Bonus:\n",
    "\n",
    "As of Pandas v0.23.4, you may opt to supply an array or an object to `agg()`. If you use the array param, you'll need to rename the columns so that their names are `Positive` and `Total`. Using the object param will allow you to create the aggregated columns with the desirable names without renaming them. However, you will probably encounter a warning indicating supplying an object to `agg()` will become outdated. It's up to you which way you will use. Try both ways out. Any way is fine as long as it works."
   ]
  },
  {
   "cell_type": "code",
   "execution_count": 34,
   "metadata": {
    "id": "9k496CGlfhcV"
   },
   "outputs": [],
   "source": [
    "ga = rmr.groupby('App')['Sentiment'].agg(Positive=positive_function, Total='count')"
   ]
  },
  {
   "cell_type": "markdown",
   "metadata": {
    "id": "r_MhV5N7fhcW"
   },
   "source": [
    "Print the first 5 rows of `google_agg` to check it."
   ]
  },
  {
   "cell_type": "code",
   "execution_count": 35,
   "metadata": {
    "id": "_eNSsiRVfhcW"
   },
   "outputs": [
    {
     "data": {
      "text/html": [
       "<div>\n",
       "<style scoped>\n",
       "    .dataframe tbody tr th:only-of-type {\n",
       "        vertical-align: middle;\n",
       "    }\n",
       "\n",
       "    .dataframe tbody tr th {\n",
       "        vertical-align: top;\n",
       "    }\n",
       "\n",
       "    .dataframe thead th {\n",
       "        text-align: right;\n",
       "    }\n",
       "</style>\n",
       "<table border=\"1\" class=\"dataframe\">\n",
       "  <thead>\n",
       "    <tr style=\"text-align: right;\">\n",
       "      <th></th>\n",
       "      <th>Positive</th>\n",
       "      <th>Total</th>\n",
       "    </tr>\n",
       "    <tr>\n",
       "      <th>App</th>\n",
       "      <th></th>\n",
       "      <th></th>\n",
       "    </tr>\n",
       "  </thead>\n",
       "  <tbody>\n",
       "    <tr>\n",
       "      <th>10 Best Foods for You</th>\n",
       "      <td>162</td>\n",
       "      <td>194</td>\n",
       "    </tr>\n",
       "    <tr>\n",
       "      <th>104 找工作 - 找工作 找打工 找兼職 履歷健檢 履歷診療室</th>\n",
       "      <td>31</td>\n",
       "      <td>40</td>\n",
       "    </tr>\n",
       "    <tr>\n",
       "      <th>11st</th>\n",
       "      <td>23</td>\n",
       "      <td>39</td>\n",
       "    </tr>\n",
       "    <tr>\n",
       "      <th>1800 Contacts - Lens Store</th>\n",
       "      <td>64</td>\n",
       "      <td>80</td>\n",
       "    </tr>\n",
       "    <tr>\n",
       "      <th>1LINE – One Line with One Touch</th>\n",
       "      <td>27</td>\n",
       "      <td>38</td>\n",
       "    </tr>\n",
       "  </tbody>\n",
       "</table>\n",
       "</div>"
      ],
      "text/plain": [
       "                                  Positive  Total\n",
       "App                                              \n",
       "10 Best Foods for You                  162    194\n",
       "104 找工作 - 找工作 找打工 找兼職 履歷健檢 履歷診療室        31     40\n",
       "11st                                    23     39\n",
       "1800 Contacts - Lens Store              64     80\n",
       "1LINE – One Line with One Touch         27     38"
      ]
     },
     "execution_count": 35,
     "metadata": {},
     "output_type": "execute_result"
    }
   ],
   "source": [
    "ga.head(5)"
   ]
  },
  {
   "cell_type": "markdown",
   "metadata": {
    "id": "aNZMlA9RfhcX"
   },
   "source": [
    "#### Add a derived column to `google_agg` that is the ratio of the `Positive` and the `Total` columns. Call this column `Positive Ratio`. \n",
    "\n",
    "Make sure to account for the case where the denominator is zero using the `np.where()` function."
   ]
  },
  {
   "cell_type": "code",
   "execution_count": 36,
   "metadata": {
    "id": "ATzCD8egfhcY"
   },
   "outputs": [],
   "source": [
    "ga['Positive Ratio'] = np.where(ga['Total']!=0, ga['Positive']/ga['Total'], 0)"
   ]
  },
  {
   "cell_type": "markdown",
   "metadata": {
    "id": "LTOHBfanfhcY"
   },
   "source": [
    "#### Now drop the `Positive` and `Total` columns. Do this with `inplace=True`."
   ]
  },
  {
   "cell_type": "code",
   "execution_count": 37,
   "metadata": {
    "id": "d4cPgxl0fhcZ"
   },
   "outputs": [],
   "source": [
    "ga.drop(['Positive', 'Total'], axis=1, inplace=True)"
   ]
  },
  {
   "cell_type": "markdown",
   "metadata": {
    "id": "dxlD7394fhcZ"
   },
   "source": [
    "Print the first 5 rows of `google_agg`. Your output should look like:\n",
    "\n",
    "![Positive Reviews Agg](positive-review-ratio.png)"
   ]
  },
  {
   "cell_type": "code",
   "execution_count": 38,
   "metadata": {
    "id": "xMpEUPm9fhca"
   },
   "outputs": [
    {
     "data": {
      "text/html": [
       "<div>\n",
       "<style scoped>\n",
       "    .dataframe tbody tr th:only-of-type {\n",
       "        vertical-align: middle;\n",
       "    }\n",
       "\n",
       "    .dataframe tbody tr th {\n",
       "        vertical-align: top;\n",
       "    }\n",
       "\n",
       "    .dataframe thead th {\n",
       "        text-align: right;\n",
       "    }\n",
       "</style>\n",
       "<table border=\"1\" class=\"dataframe\">\n",
       "  <thead>\n",
       "    <tr style=\"text-align: right;\">\n",
       "      <th></th>\n",
       "      <th>Positive Ratio</th>\n",
       "    </tr>\n",
       "    <tr>\n",
       "      <th>App</th>\n",
       "      <th></th>\n",
       "    </tr>\n",
       "  </thead>\n",
       "  <tbody>\n",
       "    <tr>\n",
       "      <th>10 Best Foods for You</th>\n",
       "      <td>0.835052</td>\n",
       "    </tr>\n",
       "    <tr>\n",
       "      <th>104 找工作 - 找工作 找打工 找兼職 履歷健檢 履歷診療室</th>\n",
       "      <td>0.775000</td>\n",
       "    </tr>\n",
       "    <tr>\n",
       "      <th>11st</th>\n",
       "      <td>0.589744</td>\n",
       "    </tr>\n",
       "    <tr>\n",
       "      <th>1800 Contacts - Lens Store</th>\n",
       "      <td>0.800000</td>\n",
       "    </tr>\n",
       "    <tr>\n",
       "      <th>1LINE – One Line with One Touch</th>\n",
       "      <td>0.710526</td>\n",
       "    </tr>\n",
       "  </tbody>\n",
       "</table>\n",
       "</div>"
      ],
      "text/plain": [
       "                                  Positive Ratio\n",
       "App                                             \n",
       "10 Best Foods for You                   0.835052\n",
       "104 找工作 - 找工作 找打工 找兼職 履歷健檢 履歷診療室        0.775000\n",
       "11st                                    0.589744\n",
       "1800 Contacts - Lens Store              0.800000\n",
       "1LINE – One Line with One Touch         0.710526"
      ]
     },
     "execution_count": 38,
     "metadata": {},
     "output_type": "execute_result"
    }
   ],
   "source": [
    "ga.head(5)"
   ]
  },
  {
   "cell_type": "markdown",
   "metadata": {
    "id": "ERLWPV5efhca"
   },
   "source": [
    "# Challenge 3 - Join the Dataframes\n",
    "\n",
    "In this part of the lab, we will join the two dataframes and obtain a dataframe that contains features we can use in our ML algorithm.\n",
    "\n",
    "In the next cell, join the `google_missing_removed` dataframe with the `google_agg` dataframe on the `App` column. Assign this dataframe to the variable `google`."
   ]
  },
  {
   "cell_type": "code",
   "execution_count": 39,
   "metadata": {
    "id": "7srN0WIzfhca"
   },
   "outputs": [],
   "source": [
    "google = pd.merge(gmr, ga, on='App')"
   ]
  },
  {
   "cell_type": "markdown",
   "metadata": {
    "id": "EXhmXFJifhcb"
   },
   "source": [
    "#### Let's look at the final result using the `head()` function. Your final product should look like:\n",
    "\n",
    "![Final Product](google-final-head.png)"
   ]
  },
  {
   "cell_type": "code",
   "execution_count": 40,
   "metadata": {
    "id": "-jgqbQsnfhcb"
   },
   "outputs": [
    {
     "data": {
      "text/html": [
       "<div>\n",
       "<style scoped>\n",
       "    .dataframe tbody tr th:only-of-type {\n",
       "        vertical-align: middle;\n",
       "    }\n",
       "\n",
       "    .dataframe tbody tr th {\n",
       "        vertical-align: top;\n",
       "    }\n",
       "\n",
       "    .dataframe thead th {\n",
       "        text-align: right;\n",
       "    }\n",
       "</style>\n",
       "<table border=\"1\" class=\"dataframe\">\n",
       "  <thead>\n",
       "    <tr style=\"text-align: right;\">\n",
       "      <th></th>\n",
       "      <th>App</th>\n",
       "      <th>Category</th>\n",
       "      <th>Rating</th>\n",
       "      <th>Reviews</th>\n",
       "      <th>Installs</th>\n",
       "      <th>Type</th>\n",
       "      <th>Content Rating</th>\n",
       "      <th>Genres</th>\n",
       "      <th>Last Updated</th>\n",
       "      <th>Current Ver</th>\n",
       "      <th>Android Ver</th>\n",
       "      <th>Price numerical</th>\n",
       "      <th>Positive Ratio</th>\n",
       "    </tr>\n",
       "  </thead>\n",
       "  <tbody>\n",
       "    <tr>\n",
       "      <th>0</th>\n",
       "      <td>Coloring book moana</td>\n",
       "      <td>ART_AND_DESIGN</td>\n",
       "      <td>3.9</td>\n",
       "      <td>967</td>\n",
       "      <td>500,000+</td>\n",
       "      <td>Free</td>\n",
       "      <td>Everyone</td>\n",
       "      <td>Art &amp; Design;Pretend Play</td>\n",
       "      <td>January 15, 2018</td>\n",
       "      <td>2.0.0</td>\n",
       "      <td>4.0.3 and up</td>\n",
       "      <td>0.0</td>\n",
       "      <td>0.590909</td>\n",
       "    </tr>\n",
       "    <tr>\n",
       "      <th>1</th>\n",
       "      <td>Coloring book moana</td>\n",
       "      <td>FAMILY</td>\n",
       "      <td>3.9</td>\n",
       "      <td>974</td>\n",
       "      <td>500,000+</td>\n",
       "      <td>Free</td>\n",
       "      <td>Everyone</td>\n",
       "      <td>Art &amp; Design;Pretend Play</td>\n",
       "      <td>January 15, 2018</td>\n",
       "      <td>2.0.0</td>\n",
       "      <td>4.0.3 and up</td>\n",
       "      <td>0.0</td>\n",
       "      <td>0.590909</td>\n",
       "    </tr>\n",
       "    <tr>\n",
       "      <th>2</th>\n",
       "      <td>Garden Coloring Book</td>\n",
       "      <td>ART_AND_DESIGN</td>\n",
       "      <td>4.4</td>\n",
       "      <td>13791</td>\n",
       "      <td>1,000,000+</td>\n",
       "      <td>Free</td>\n",
       "      <td>Everyone</td>\n",
       "      <td>Art &amp; Design</td>\n",
       "      <td>September 20, 2017</td>\n",
       "      <td>2.9.2</td>\n",
       "      <td>3.0 and up</td>\n",
       "      <td>0.0</td>\n",
       "      <td>0.711111</td>\n",
       "    </tr>\n",
       "    <tr>\n",
       "      <th>3</th>\n",
       "      <td>FlipaClip - Cartoon animation</td>\n",
       "      <td>ART_AND_DESIGN</td>\n",
       "      <td>4.3</td>\n",
       "      <td>194216</td>\n",
       "      <td>5,000,000+</td>\n",
       "      <td>Free</td>\n",
       "      <td>Everyone</td>\n",
       "      <td>Art &amp; Design</td>\n",
       "      <td>August 3, 2018</td>\n",
       "      <td>2.2.5</td>\n",
       "      <td>4.0.3 and up</td>\n",
       "      <td>0.0</td>\n",
       "      <td>1.000000</td>\n",
       "    </tr>\n",
       "    <tr>\n",
       "      <th>4</th>\n",
       "      <td>Boys Photo Editor - Six Pack &amp; Men's Suit</td>\n",
       "      <td>ART_AND_DESIGN</td>\n",
       "      <td>4.1</td>\n",
       "      <td>654</td>\n",
       "      <td>100,000+</td>\n",
       "      <td>Free</td>\n",
       "      <td>Everyone</td>\n",
       "      <td>Art &amp; Design</td>\n",
       "      <td>March 20, 2018</td>\n",
       "      <td>1.1</td>\n",
       "      <td>4.0.3 and up</td>\n",
       "      <td>0.0</td>\n",
       "      <td>0.605263</td>\n",
       "    </tr>\n",
       "  </tbody>\n",
       "</table>\n",
       "</div>"
      ],
      "text/plain": [
       "                                         App        Category  Rating  Reviews  \\\n",
       "0                        Coloring book moana  ART_AND_DESIGN     3.9      967   \n",
       "1                        Coloring book moana          FAMILY     3.9      974   \n",
       "2                       Garden Coloring Book  ART_AND_DESIGN     4.4    13791   \n",
       "3              FlipaClip - Cartoon animation  ART_AND_DESIGN     4.3   194216   \n",
       "4  Boys Photo Editor - Six Pack & Men's Suit  ART_AND_DESIGN     4.1      654   \n",
       "\n",
       "     Installs  Type Content Rating                     Genres  \\\n",
       "0    500,000+  Free       Everyone  Art & Design;Pretend Play   \n",
       "1    500,000+  Free       Everyone  Art & Design;Pretend Play   \n",
       "2  1,000,000+  Free       Everyone               Art & Design   \n",
       "3  5,000,000+  Free       Everyone               Art & Design   \n",
       "4    100,000+  Free       Everyone               Art & Design   \n",
       "\n",
       "         Last Updated Current Ver   Android Ver  Price numerical  \\\n",
       "0    January 15, 2018       2.0.0  4.0.3 and up              0.0   \n",
       "1    January 15, 2018       2.0.0  4.0.3 and up              0.0   \n",
       "2  September 20, 2017       2.9.2    3.0 and up              0.0   \n",
       "3      August 3, 2018       2.2.5  4.0.3 and up              0.0   \n",
       "4      March 20, 2018         1.1  4.0.3 and up              0.0   \n",
       "\n",
       "   Positive Ratio  \n",
       "0        0.590909  \n",
       "1        0.590909  \n",
       "2        0.711111  \n",
       "3        1.000000  \n",
       "4        0.605263  "
      ]
     },
     "execution_count": 40,
     "metadata": {},
     "output_type": "execute_result"
    }
   ],
   "source": [
    "google.head()"
   ]
  },
  {
   "cell_type": "markdown",
   "metadata": {
    "id": "gsmZvpwXf3tk"
   },
   "source": [
    " # Challenge 4- Feature selection and modelling"
   ]
  },
  {
   "cell_type": "markdown",
   "metadata": {
    "id": "8b860R3Mxv6Y"
   },
   "source": [
    "Let's work with data about bank marketing.  You can find the dataset and description in the data folder\n",
    "Please use RFE, RFECV and SelectFomModel  for selecting the features from your dataset."
   ]
  },
  {
   "cell_type": "markdown",
   "metadata": {
    "id": "gQ9wFo2LyFlz"
   },
   "source": [
    "Step 1. Check your data. Clean and encode them if necessary"
   ]
  },
  {
   "cell_type": "code",
   "execution_count": 41,
   "metadata": {
    "id": "cXlgWMx-yeid"
   },
   "outputs": [
    {
     "data": {
      "text/html": [
       "<div>\n",
       "<style scoped>\n",
       "    .dataframe tbody tr th:only-of-type {\n",
       "        vertical-align: middle;\n",
       "    }\n",
       "\n",
       "    .dataframe tbody tr th {\n",
       "        vertical-align: top;\n",
       "    }\n",
       "\n",
       "    .dataframe thead th {\n",
       "        text-align: right;\n",
       "    }\n",
       "</style>\n",
       "<table border=\"1\" class=\"dataframe\">\n",
       "  <thead>\n",
       "    <tr style=\"text-align: right;\">\n",
       "      <th></th>\n",
       "      <th>age</th>\n",
       "      <th>job</th>\n",
       "      <th>marital</th>\n",
       "      <th>education</th>\n",
       "      <th>default</th>\n",
       "      <th>housing</th>\n",
       "      <th>loan</th>\n",
       "      <th>contact</th>\n",
       "      <th>month</th>\n",
       "      <th>day_of_week</th>\n",
       "      <th>...</th>\n",
       "      <th>campaign</th>\n",
       "      <th>pdays</th>\n",
       "      <th>previous</th>\n",
       "      <th>poutcome</th>\n",
       "      <th>emp.var.rate</th>\n",
       "      <th>cons.price.idx</th>\n",
       "      <th>cons.conf.idx</th>\n",
       "      <th>euribor3m</th>\n",
       "      <th>nr.employed</th>\n",
       "      <th>y</th>\n",
       "    </tr>\n",
       "  </thead>\n",
       "  <tbody>\n",
       "    <tr>\n",
       "      <th>0</th>\n",
       "      <td>56</td>\n",
       "      <td>housemaid</td>\n",
       "      <td>married</td>\n",
       "      <td>basic.4y</td>\n",
       "      <td>no</td>\n",
       "      <td>no</td>\n",
       "      <td>no</td>\n",
       "      <td>telephone</td>\n",
       "      <td>may</td>\n",
       "      <td>mon</td>\n",
       "      <td>...</td>\n",
       "      <td>1</td>\n",
       "      <td>999</td>\n",
       "      <td>0</td>\n",
       "      <td>nonexistent</td>\n",
       "      <td>2022-01-01</td>\n",
       "      <td>93.994</td>\n",
       "      <td>-36.4</td>\n",
       "      <td>4.857</td>\n",
       "      <td>5191.0</td>\n",
       "      <td>no</td>\n",
       "    </tr>\n",
       "    <tr>\n",
       "      <th>1</th>\n",
       "      <td>57</td>\n",
       "      <td>services</td>\n",
       "      <td>married</td>\n",
       "      <td>high.school</td>\n",
       "      <td>unknown</td>\n",
       "      <td>no</td>\n",
       "      <td>no</td>\n",
       "      <td>telephone</td>\n",
       "      <td>may</td>\n",
       "      <td>mon</td>\n",
       "      <td>...</td>\n",
       "      <td>1</td>\n",
       "      <td>999</td>\n",
       "      <td>0</td>\n",
       "      <td>nonexistent</td>\n",
       "      <td>2022-01-01</td>\n",
       "      <td>93.994</td>\n",
       "      <td>-36.4</td>\n",
       "      <td>4.857</td>\n",
       "      <td>5191.0</td>\n",
       "      <td>no</td>\n",
       "    </tr>\n",
       "    <tr>\n",
       "      <th>2</th>\n",
       "      <td>37</td>\n",
       "      <td>services</td>\n",
       "      <td>married</td>\n",
       "      <td>high.school</td>\n",
       "      <td>no</td>\n",
       "      <td>yes</td>\n",
       "      <td>no</td>\n",
       "      <td>telephone</td>\n",
       "      <td>may</td>\n",
       "      <td>mon</td>\n",
       "      <td>...</td>\n",
       "      <td>1</td>\n",
       "      <td>999</td>\n",
       "      <td>0</td>\n",
       "      <td>nonexistent</td>\n",
       "      <td>2022-01-01</td>\n",
       "      <td>93.994</td>\n",
       "      <td>-36.4</td>\n",
       "      <td>4.857</td>\n",
       "      <td>5191.0</td>\n",
       "      <td>no</td>\n",
       "    </tr>\n",
       "    <tr>\n",
       "      <th>3</th>\n",
       "      <td>40</td>\n",
       "      <td>admin.</td>\n",
       "      <td>married</td>\n",
       "      <td>basic.6y</td>\n",
       "      <td>no</td>\n",
       "      <td>no</td>\n",
       "      <td>no</td>\n",
       "      <td>telephone</td>\n",
       "      <td>may</td>\n",
       "      <td>mon</td>\n",
       "      <td>...</td>\n",
       "      <td>1</td>\n",
       "      <td>999</td>\n",
       "      <td>0</td>\n",
       "      <td>nonexistent</td>\n",
       "      <td>2022-01-01</td>\n",
       "      <td>93.994</td>\n",
       "      <td>-36.4</td>\n",
       "      <td>4.857</td>\n",
       "      <td>5191.0</td>\n",
       "      <td>no</td>\n",
       "    </tr>\n",
       "    <tr>\n",
       "      <th>4</th>\n",
       "      <td>56</td>\n",
       "      <td>services</td>\n",
       "      <td>married</td>\n",
       "      <td>high.school</td>\n",
       "      <td>no</td>\n",
       "      <td>no</td>\n",
       "      <td>yes</td>\n",
       "      <td>telephone</td>\n",
       "      <td>may</td>\n",
       "      <td>mon</td>\n",
       "      <td>...</td>\n",
       "      <td>1</td>\n",
       "      <td>999</td>\n",
       "      <td>0</td>\n",
       "      <td>nonexistent</td>\n",
       "      <td>2022-01-01</td>\n",
       "      <td>93.994</td>\n",
       "      <td>-36.4</td>\n",
       "      <td>4.857</td>\n",
       "      <td>5191.0</td>\n",
       "      <td>no</td>\n",
       "    </tr>\n",
       "  </tbody>\n",
       "</table>\n",
       "<p>5 rows × 21 columns</p>\n",
       "</div>"
      ],
      "text/plain": [
       "   age        job  marital    education  default housing loan    contact  \\\n",
       "0   56  housemaid  married     basic.4y       no      no   no  telephone   \n",
       "1   57   services  married  high.school  unknown      no   no  telephone   \n",
       "2   37   services  married  high.school       no     yes   no  telephone   \n",
       "3   40     admin.  married     basic.6y       no      no   no  telephone   \n",
       "4   56   services  married  high.school       no      no  yes  telephone   \n",
       "\n",
       "  month day_of_week  ...  campaign  pdays  previous     poutcome emp.var.rate  \\\n",
       "0   may         mon  ...         1    999         0  nonexistent   2022-01-01   \n",
       "1   may         mon  ...         1    999         0  nonexistent   2022-01-01   \n",
       "2   may         mon  ...         1    999         0  nonexistent   2022-01-01   \n",
       "3   may         mon  ...         1    999         0  nonexistent   2022-01-01   \n",
       "4   may         mon  ...         1    999         0  nonexistent   2022-01-01   \n",
       "\n",
       "  cons.price.idx  cons.conf.idx  euribor3m  nr.employed   y  \n",
       "0         93.994          -36.4      4.857       5191.0  no  \n",
       "1         93.994          -36.4      4.857       5191.0  no  \n",
       "2         93.994          -36.4      4.857       5191.0  no  \n",
       "3         93.994          -36.4      4.857       5191.0  no  \n",
       "4         93.994          -36.4      4.857       5191.0  no  \n",
       "\n",
       "[5 rows x 21 columns]"
      ]
     },
     "execution_count": 41,
     "metadata": {},
     "output_type": "execute_result"
    }
   ],
   "source": [
    "# import and check dataset\n",
    "data = pd.read_excel(r\"C:\\Users\\Shinemet\\Ironhack\\Labs\\Module3\\5. Feature-Extraction\\data\\bank_marketing.xlsx\")\n",
    "data.head()"
   ]
  },
  {
   "cell_type": "code",
   "execution_count": 42,
   "metadata": {},
   "outputs": [
    {
     "name": "stdout",
     "output_type": "stream",
     "text": [
      "<class 'pandas.core.frame.DataFrame'>\n",
      "RangeIndex: 41188 entries, 0 to 41187\n",
      "Data columns (total 21 columns):\n",
      " #   Column          Non-Null Count  Dtype         \n",
      "---  ------          --------------  -----         \n",
      " 0   age             41188 non-null  int64         \n",
      " 1   job             41188 non-null  object        \n",
      " 2   marital         41188 non-null  object        \n",
      " 3   education       41188 non-null  object        \n",
      " 4   default         41188 non-null  object        \n",
      " 5   housing         41188 non-null  object        \n",
      " 6   loan            41188 non-null  object        \n",
      " 7   contact         41188 non-null  object        \n",
      " 8   month           41188 non-null  object        \n",
      " 9   day_of_week     41188 non-null  object        \n",
      " 10  duration        41188 non-null  int64         \n",
      " 11  campaign        41188 non-null  int64         \n",
      " 12  pdays           41188 non-null  int64         \n",
      " 13  previous        41188 non-null  int64         \n",
      " 14  poutcome        41188 non-null  object        \n",
      " 15  emp.var.rate    23997 non-null  datetime64[ns]\n",
      " 16  cons.price.idx  41188 non-null  float64       \n",
      " 17  cons.conf.idx   41188 non-null  float64       \n",
      " 18  euribor3m       41188 non-null  float64       \n",
      " 19  nr.employed     7763 non-null   float64       \n",
      " 20  y               41188 non-null  object        \n",
      "dtypes: datetime64[ns](1), float64(4), int64(5), object(11)\n",
      "memory usage: 6.6+ MB\n"
     ]
    }
   ],
   "source": [
    "data.info()"
   ]
  },
  {
   "cell_type": "code",
   "execution_count": 73,
   "metadata": {
    "scrolled": false
   },
   "outputs": [
    {
     "data": {
      "text/plain": [
       "age               0\n",
       "job               0\n",
       "marital           0\n",
       "education         0\n",
       "default           0\n",
       "housing           0\n",
       "loan              0\n",
       "contact           0\n",
       "month             0\n",
       "day_of_week       0\n",
       "duration          0\n",
       "campaign          0\n",
       "pdays             0\n",
       "previous          0\n",
       "poutcome          0\n",
       "cons.price.idx    0\n",
       "cons.conf.idx     0\n",
       "euribor3m         0\n",
       "y                 0\n",
       "dtype: int64"
      ]
     },
     "execution_count": 73,
     "metadata": {},
     "output_type": "execute_result"
    }
   ],
   "source": [
    "# check missing values\n",
    "data.isna().sum()"
   ]
  },
  {
   "cell_type": "code",
   "execution_count": 53,
   "metadata": {},
   "outputs": [],
   "source": [
    "# check unique values: column nr can be dropped\n",
    "data['nr.employed'].unique()\n",
    "data.drop('nr.employed', axis=1, inplace=True)"
   ]
  },
  {
   "cell_type": "code",
   "execution_count": 68,
   "metadata": {},
   "outputs": [],
   "source": [
    "# check unique values: column emp.var.rate can be dropped as there are other date indicators in the dataset\n",
    "data['emp.var.rate'].unique()\n",
    "data.drop('emp.var.rate', axis=1, inplace=True)"
   ]
  },
  {
   "cell_type": "code",
   "execution_count": 66,
   "metadata": {},
   "outputs": [
    {
     "data": {
      "text/html": [
       "<div>\n",
       "<style scoped>\n",
       "    .dataframe tbody tr th:only-of-type {\n",
       "        vertical-align: middle;\n",
       "    }\n",
       "\n",
       "    .dataframe tbody tr th {\n",
       "        vertical-align: top;\n",
       "    }\n",
       "\n",
       "    .dataframe thead th {\n",
       "        text-align: right;\n",
       "    }\n",
       "</style>\n",
       "<table border=\"1\" class=\"dataframe\">\n",
       "  <thead>\n",
       "    <tr style=\"text-align: right;\">\n",
       "      <th></th>\n",
       "      <th>age</th>\n",
       "      <th>job</th>\n",
       "      <th>marital</th>\n",
       "      <th>education</th>\n",
       "      <th>default</th>\n",
       "      <th>housing</th>\n",
       "      <th>loan</th>\n",
       "      <th>contact</th>\n",
       "      <th>month</th>\n",
       "      <th>day_of_week</th>\n",
       "      <th>duration</th>\n",
       "      <th>campaign</th>\n",
       "      <th>pdays</th>\n",
       "      <th>previous</th>\n",
       "      <th>poutcome</th>\n",
       "      <th>emp.var.rate</th>\n",
       "      <th>cons.price.idx</th>\n",
       "      <th>cons.conf.idx</th>\n",
       "      <th>euribor3m</th>\n",
       "      <th>y</th>\n",
       "    </tr>\n",
       "  </thead>\n",
       "  <tbody>\n",
       "    <tr>\n",
       "      <th>41183</th>\n",
       "      <td>73</td>\n",
       "      <td>retired</td>\n",
       "      <td>married</td>\n",
       "      <td>professional.course</td>\n",
       "      <td>no</td>\n",
       "      <td>yes</td>\n",
       "      <td>no</td>\n",
       "      <td>cellular</td>\n",
       "      <td>nov</td>\n",
       "      <td>fri</td>\n",
       "      <td>334</td>\n",
       "      <td>1</td>\n",
       "      <td>999</td>\n",
       "      <td>0</td>\n",
       "      <td>nonexistent</td>\n",
       "      <td>NaT</td>\n",
       "      <td>94.767</td>\n",
       "      <td>-50.8</td>\n",
       "      <td>1.028</td>\n",
       "      <td>yes</td>\n",
       "    </tr>\n",
       "    <tr>\n",
       "      <th>41184</th>\n",
       "      <td>46</td>\n",
       "      <td>blue-collar</td>\n",
       "      <td>married</td>\n",
       "      <td>professional.course</td>\n",
       "      <td>no</td>\n",
       "      <td>no</td>\n",
       "      <td>no</td>\n",
       "      <td>cellular</td>\n",
       "      <td>nov</td>\n",
       "      <td>fri</td>\n",
       "      <td>383</td>\n",
       "      <td>1</td>\n",
       "      <td>999</td>\n",
       "      <td>0</td>\n",
       "      <td>nonexistent</td>\n",
       "      <td>NaT</td>\n",
       "      <td>94.767</td>\n",
       "      <td>-50.8</td>\n",
       "      <td>1.028</td>\n",
       "      <td>no</td>\n",
       "    </tr>\n",
       "    <tr>\n",
       "      <th>41185</th>\n",
       "      <td>56</td>\n",
       "      <td>retired</td>\n",
       "      <td>married</td>\n",
       "      <td>university.degree</td>\n",
       "      <td>no</td>\n",
       "      <td>yes</td>\n",
       "      <td>no</td>\n",
       "      <td>cellular</td>\n",
       "      <td>nov</td>\n",
       "      <td>fri</td>\n",
       "      <td>189</td>\n",
       "      <td>2</td>\n",
       "      <td>999</td>\n",
       "      <td>0</td>\n",
       "      <td>nonexistent</td>\n",
       "      <td>NaT</td>\n",
       "      <td>94.767</td>\n",
       "      <td>-50.8</td>\n",
       "      <td>1.028</td>\n",
       "      <td>no</td>\n",
       "    </tr>\n",
       "    <tr>\n",
       "      <th>41186</th>\n",
       "      <td>44</td>\n",
       "      <td>technician</td>\n",
       "      <td>married</td>\n",
       "      <td>professional.course</td>\n",
       "      <td>no</td>\n",
       "      <td>no</td>\n",
       "      <td>no</td>\n",
       "      <td>cellular</td>\n",
       "      <td>nov</td>\n",
       "      <td>fri</td>\n",
       "      <td>442</td>\n",
       "      <td>1</td>\n",
       "      <td>999</td>\n",
       "      <td>0</td>\n",
       "      <td>nonexistent</td>\n",
       "      <td>NaT</td>\n",
       "      <td>94.767</td>\n",
       "      <td>-50.8</td>\n",
       "      <td>1.028</td>\n",
       "      <td>yes</td>\n",
       "    </tr>\n",
       "    <tr>\n",
       "      <th>41187</th>\n",
       "      <td>74</td>\n",
       "      <td>retired</td>\n",
       "      <td>married</td>\n",
       "      <td>professional.course</td>\n",
       "      <td>no</td>\n",
       "      <td>yes</td>\n",
       "      <td>no</td>\n",
       "      <td>cellular</td>\n",
       "      <td>nov</td>\n",
       "      <td>fri</td>\n",
       "      <td>239</td>\n",
       "      <td>3</td>\n",
       "      <td>999</td>\n",
       "      <td>1</td>\n",
       "      <td>failure</td>\n",
       "      <td>NaT</td>\n",
       "      <td>94.767</td>\n",
       "      <td>-50.8</td>\n",
       "      <td>1.028</td>\n",
       "      <td>no</td>\n",
       "    </tr>\n",
       "  </tbody>\n",
       "</table>\n",
       "</div>"
      ],
      "text/plain": [
       "       age          job  marital            education default housing loan  \\\n",
       "41183   73      retired  married  professional.course      no     yes   no   \n",
       "41184   46  blue-collar  married  professional.course      no      no   no   \n",
       "41185   56      retired  married    university.degree      no     yes   no   \n",
       "41186   44   technician  married  professional.course      no      no   no   \n",
       "41187   74      retired  married  professional.course      no     yes   no   \n",
       "\n",
       "        contact month day_of_week  duration  campaign  pdays  previous  \\\n",
       "41183  cellular   nov         fri       334         1    999         0   \n",
       "41184  cellular   nov         fri       383         1    999         0   \n",
       "41185  cellular   nov         fri       189         2    999         0   \n",
       "41186  cellular   nov         fri       442         1    999         0   \n",
       "41187  cellular   nov         fri       239         3    999         1   \n",
       "\n",
       "          poutcome emp.var.rate  cons.price.idx  cons.conf.idx  euribor3m    y  \n",
       "41183  nonexistent          NaT          94.767          -50.8      1.028  yes  \n",
       "41184  nonexistent          NaT          94.767          -50.8      1.028   no  \n",
       "41185  nonexistent          NaT          94.767          -50.8      1.028   no  \n",
       "41186  nonexistent          NaT          94.767          -50.8      1.028  yes  \n",
       "41187      failure          NaT          94.767          -50.8      1.028   no  "
      ]
     },
     "execution_count": 66,
     "metadata": {},
     "output_type": "execute_result"
    }
   ],
   "source": [
    "# dr\n",
    "data[data['emp.var.rate'].isna()]"
   ]
  },
  {
   "cell_type": "code",
   "execution_count": 69,
   "metadata": {},
   "outputs": [
    {
     "data": {
      "text/plain": [
       "age               0\n",
       "job               0\n",
       "marital           0\n",
       "education         0\n",
       "default           0\n",
       "housing           0\n",
       "loan              0\n",
       "contact           0\n",
       "month             0\n",
       "day_of_week       0\n",
       "duration          0\n",
       "campaign          0\n",
       "pdays             0\n",
       "previous          0\n",
       "poutcome          0\n",
       "cons.price.idx    0\n",
       "cons.conf.idx     0\n",
       "euribor3m         0\n",
       "y                 0\n",
       "dtype: int64"
      ]
     },
     "execution_count": 69,
     "metadata": {},
     "output_type": "execute_result"
    }
   ],
   "source": [
    "# checking missing values left\n",
    "data.isna().sum()"
   ]
  },
  {
   "cell_type": "code",
   "execution_count": 76,
   "metadata": {},
   "outputs": [
    {
     "name": "stdout",
     "output_type": "stream",
     "text": [
      "job\n",
      "marital\n",
      "education\n",
      "default\n",
      "housing\n",
      "loan\n",
      "contact\n",
      "month\n",
      "day_of_week\n",
      "poutcome\n",
      "y\n"
     ]
    },
    {
     "data": {
      "text/html": [
       "<div>\n",
       "<style scoped>\n",
       "    .dataframe tbody tr th:only-of-type {\n",
       "        vertical-align: middle;\n",
       "    }\n",
       "\n",
       "    .dataframe tbody tr th {\n",
       "        vertical-align: top;\n",
       "    }\n",
       "\n",
       "    .dataframe thead th {\n",
       "        text-align: right;\n",
       "    }\n",
       "</style>\n",
       "<table border=\"1\" class=\"dataframe\">\n",
       "  <thead>\n",
       "    <tr style=\"text-align: right;\">\n",
       "      <th></th>\n",
       "      <th>age</th>\n",
       "      <th>job</th>\n",
       "      <th>marital</th>\n",
       "      <th>education</th>\n",
       "      <th>default</th>\n",
       "      <th>housing</th>\n",
       "      <th>loan</th>\n",
       "      <th>contact</th>\n",
       "      <th>month</th>\n",
       "      <th>day_of_week</th>\n",
       "      <th>duration</th>\n",
       "      <th>campaign</th>\n",
       "      <th>pdays</th>\n",
       "      <th>previous</th>\n",
       "      <th>poutcome</th>\n",
       "      <th>cons.price.idx</th>\n",
       "      <th>cons.conf.idx</th>\n",
       "      <th>euribor3m</th>\n",
       "      <th>y</th>\n",
       "    </tr>\n",
       "  </thead>\n",
       "  <tbody>\n",
       "    <tr>\n",
       "      <th>0</th>\n",
       "      <td>56</td>\n",
       "      <td>3</td>\n",
       "      <td>1</td>\n",
       "      <td>0</td>\n",
       "      <td>0</td>\n",
       "      <td>0</td>\n",
       "      <td>0</td>\n",
       "      <td>1</td>\n",
       "      <td>6</td>\n",
       "      <td>1</td>\n",
       "      <td>261</td>\n",
       "      <td>1</td>\n",
       "      <td>999</td>\n",
       "      <td>0</td>\n",
       "      <td>1</td>\n",
       "      <td>93.994</td>\n",
       "      <td>-36.4</td>\n",
       "      <td>4.857</td>\n",
       "      <td>0</td>\n",
       "    </tr>\n",
       "    <tr>\n",
       "      <th>1</th>\n",
       "      <td>57</td>\n",
       "      <td>7</td>\n",
       "      <td>1</td>\n",
       "      <td>3</td>\n",
       "      <td>1</td>\n",
       "      <td>0</td>\n",
       "      <td>0</td>\n",
       "      <td>1</td>\n",
       "      <td>6</td>\n",
       "      <td>1</td>\n",
       "      <td>149</td>\n",
       "      <td>1</td>\n",
       "      <td>999</td>\n",
       "      <td>0</td>\n",
       "      <td>1</td>\n",
       "      <td>93.994</td>\n",
       "      <td>-36.4</td>\n",
       "      <td>4.857</td>\n",
       "      <td>0</td>\n",
       "    </tr>\n",
       "    <tr>\n",
       "      <th>2</th>\n",
       "      <td>37</td>\n",
       "      <td>7</td>\n",
       "      <td>1</td>\n",
       "      <td>3</td>\n",
       "      <td>0</td>\n",
       "      <td>2</td>\n",
       "      <td>0</td>\n",
       "      <td>1</td>\n",
       "      <td>6</td>\n",
       "      <td>1</td>\n",
       "      <td>226</td>\n",
       "      <td>1</td>\n",
       "      <td>999</td>\n",
       "      <td>0</td>\n",
       "      <td>1</td>\n",
       "      <td>93.994</td>\n",
       "      <td>-36.4</td>\n",
       "      <td>4.857</td>\n",
       "      <td>0</td>\n",
       "    </tr>\n",
       "    <tr>\n",
       "      <th>3</th>\n",
       "      <td>40</td>\n",
       "      <td>0</td>\n",
       "      <td>1</td>\n",
       "      <td>1</td>\n",
       "      <td>0</td>\n",
       "      <td>0</td>\n",
       "      <td>0</td>\n",
       "      <td>1</td>\n",
       "      <td>6</td>\n",
       "      <td>1</td>\n",
       "      <td>151</td>\n",
       "      <td>1</td>\n",
       "      <td>999</td>\n",
       "      <td>0</td>\n",
       "      <td>1</td>\n",
       "      <td>93.994</td>\n",
       "      <td>-36.4</td>\n",
       "      <td>4.857</td>\n",
       "      <td>0</td>\n",
       "    </tr>\n",
       "    <tr>\n",
       "      <th>4</th>\n",
       "      <td>56</td>\n",
       "      <td>7</td>\n",
       "      <td>1</td>\n",
       "      <td>3</td>\n",
       "      <td>0</td>\n",
       "      <td>0</td>\n",
       "      <td>2</td>\n",
       "      <td>1</td>\n",
       "      <td>6</td>\n",
       "      <td>1</td>\n",
       "      <td>307</td>\n",
       "      <td>1</td>\n",
       "      <td>999</td>\n",
       "      <td>0</td>\n",
       "      <td>1</td>\n",
       "      <td>93.994</td>\n",
       "      <td>-36.4</td>\n",
       "      <td>4.857</td>\n",
       "      <td>0</td>\n",
       "    </tr>\n",
       "    <tr>\n",
       "      <th>...</th>\n",
       "      <td>...</td>\n",
       "      <td>...</td>\n",
       "      <td>...</td>\n",
       "      <td>...</td>\n",
       "      <td>...</td>\n",
       "      <td>...</td>\n",
       "      <td>...</td>\n",
       "      <td>...</td>\n",
       "      <td>...</td>\n",
       "      <td>...</td>\n",
       "      <td>...</td>\n",
       "      <td>...</td>\n",
       "      <td>...</td>\n",
       "      <td>...</td>\n",
       "      <td>...</td>\n",
       "      <td>...</td>\n",
       "      <td>...</td>\n",
       "      <td>...</td>\n",
       "      <td>...</td>\n",
       "    </tr>\n",
       "    <tr>\n",
       "      <th>41183</th>\n",
       "      <td>73</td>\n",
       "      <td>5</td>\n",
       "      <td>1</td>\n",
       "      <td>5</td>\n",
       "      <td>0</td>\n",
       "      <td>2</td>\n",
       "      <td>0</td>\n",
       "      <td>0</td>\n",
       "      <td>7</td>\n",
       "      <td>0</td>\n",
       "      <td>334</td>\n",
       "      <td>1</td>\n",
       "      <td>999</td>\n",
       "      <td>0</td>\n",
       "      <td>1</td>\n",
       "      <td>94.767</td>\n",
       "      <td>-50.8</td>\n",
       "      <td>1.028</td>\n",
       "      <td>1</td>\n",
       "    </tr>\n",
       "    <tr>\n",
       "      <th>41184</th>\n",
       "      <td>46</td>\n",
       "      <td>1</td>\n",
       "      <td>1</td>\n",
       "      <td>5</td>\n",
       "      <td>0</td>\n",
       "      <td>0</td>\n",
       "      <td>0</td>\n",
       "      <td>0</td>\n",
       "      <td>7</td>\n",
       "      <td>0</td>\n",
       "      <td>383</td>\n",
       "      <td>1</td>\n",
       "      <td>999</td>\n",
       "      <td>0</td>\n",
       "      <td>1</td>\n",
       "      <td>94.767</td>\n",
       "      <td>-50.8</td>\n",
       "      <td>1.028</td>\n",
       "      <td>0</td>\n",
       "    </tr>\n",
       "    <tr>\n",
       "      <th>41185</th>\n",
       "      <td>56</td>\n",
       "      <td>5</td>\n",
       "      <td>1</td>\n",
       "      <td>6</td>\n",
       "      <td>0</td>\n",
       "      <td>2</td>\n",
       "      <td>0</td>\n",
       "      <td>0</td>\n",
       "      <td>7</td>\n",
       "      <td>0</td>\n",
       "      <td>189</td>\n",
       "      <td>2</td>\n",
       "      <td>999</td>\n",
       "      <td>0</td>\n",
       "      <td>1</td>\n",
       "      <td>94.767</td>\n",
       "      <td>-50.8</td>\n",
       "      <td>1.028</td>\n",
       "      <td>0</td>\n",
       "    </tr>\n",
       "    <tr>\n",
       "      <th>41186</th>\n",
       "      <td>44</td>\n",
       "      <td>9</td>\n",
       "      <td>1</td>\n",
       "      <td>5</td>\n",
       "      <td>0</td>\n",
       "      <td>0</td>\n",
       "      <td>0</td>\n",
       "      <td>0</td>\n",
       "      <td>7</td>\n",
       "      <td>0</td>\n",
       "      <td>442</td>\n",
       "      <td>1</td>\n",
       "      <td>999</td>\n",
       "      <td>0</td>\n",
       "      <td>1</td>\n",
       "      <td>94.767</td>\n",
       "      <td>-50.8</td>\n",
       "      <td>1.028</td>\n",
       "      <td>1</td>\n",
       "    </tr>\n",
       "    <tr>\n",
       "      <th>41187</th>\n",
       "      <td>74</td>\n",
       "      <td>5</td>\n",
       "      <td>1</td>\n",
       "      <td>5</td>\n",
       "      <td>0</td>\n",
       "      <td>2</td>\n",
       "      <td>0</td>\n",
       "      <td>0</td>\n",
       "      <td>7</td>\n",
       "      <td>0</td>\n",
       "      <td>239</td>\n",
       "      <td>3</td>\n",
       "      <td>999</td>\n",
       "      <td>1</td>\n",
       "      <td>0</td>\n",
       "      <td>94.767</td>\n",
       "      <td>-50.8</td>\n",
       "      <td>1.028</td>\n",
       "      <td>0</td>\n",
       "    </tr>\n",
       "  </tbody>\n",
       "</table>\n",
       "<p>41188 rows × 19 columns</p>\n",
       "</div>"
      ],
      "text/plain": [
       "       age  job  marital  education  default  housing  loan  contact  month  \\\n",
       "0       56    3        1          0        0        0     0        1      6   \n",
       "1       57    7        1          3        1        0     0        1      6   \n",
       "2       37    7        1          3        0        2     0        1      6   \n",
       "3       40    0        1          1        0        0     0        1      6   \n",
       "4       56    7        1          3        0        0     2        1      6   \n",
       "...    ...  ...      ...        ...      ...      ...   ...      ...    ...   \n",
       "41183   73    5        1          5        0        2     0        0      7   \n",
       "41184   46    1        1          5        0        0     0        0      7   \n",
       "41185   56    5        1          6        0        2     0        0      7   \n",
       "41186   44    9        1          5        0        0     0        0      7   \n",
       "41187   74    5        1          5        0        2     0        0      7   \n",
       "\n",
       "       day_of_week  duration  campaign  pdays  previous  poutcome  \\\n",
       "0                1       261         1    999         0         1   \n",
       "1                1       149         1    999         0         1   \n",
       "2                1       226         1    999         0         1   \n",
       "3                1       151         1    999         0         1   \n",
       "4                1       307         1    999         0         1   \n",
       "...            ...       ...       ...    ...       ...       ...   \n",
       "41183            0       334         1    999         0         1   \n",
       "41184            0       383         1    999         0         1   \n",
       "41185            0       189         2    999         0         1   \n",
       "41186            0       442         1    999         0         1   \n",
       "41187            0       239         3    999         1         0   \n",
       "\n",
       "       cons.price.idx  cons.conf.idx  euribor3m  y  \n",
       "0              93.994          -36.4      4.857  0  \n",
       "1              93.994          -36.4      4.857  0  \n",
       "2              93.994          -36.4      4.857  0  \n",
       "3              93.994          -36.4      4.857  0  \n",
       "4              93.994          -36.4      4.857  0  \n",
       "...               ...            ...        ... ..  \n",
       "41183          94.767          -50.8      1.028  1  \n",
       "41184          94.767          -50.8      1.028  0  \n",
       "41185          94.767          -50.8      1.028  0  \n",
       "41186          94.767          -50.8      1.028  1  \n",
       "41187          94.767          -50.8      1.028  0  \n",
       "\n",
       "[41188 rows x 19 columns]"
      ]
     },
     "execution_count": 76,
     "metadata": {},
     "output_type": "execute_result"
    }
   ],
   "source": [
    "# encoding my columns\n",
    "from sklearn.preprocessing import LabelEncoder\n",
    "\n",
    "for col in data:\n",
    "    if data[col].dtype==\"object\":\n",
    "        print(col)\n",
    "        data[col]=LabelEncoder().fit_transform(data[col])\n",
    "data"
   ]
  },
  {
   "cell_type": "markdown",
   "metadata": {
    "id": "MPrB6mNSyHg5"
   },
   "source": [
    "Step 2. List your features"
   ]
  },
  {
   "cell_type": "code",
   "execution_count": 77,
   "metadata": {
    "id": "178yrku5yfYc"
   },
   "outputs": [
    {
     "data": {
      "text/plain": [
       "Index(['age', 'job', 'marital', 'education', 'default', 'housing', 'loan',\n",
       "       'contact', 'month', 'day_of_week', 'duration', 'campaign', 'pdays',\n",
       "       'previous', 'poutcome', 'cons.price.idx', 'cons.conf.idx', 'euribor3m',\n",
       "       'y'],\n",
       "      dtype='object')"
      ]
     },
     "execution_count": 77,
     "metadata": {},
     "output_type": "execute_result"
    }
   ],
   "source": [
    "data.columns"
   ]
  },
  {
   "cell_type": "code",
   "execution_count": 79,
   "metadata": {},
   "outputs": [],
   "source": [
    "# assigning my features into independent variable and target variable\n",
    "x = data.drop('y', axis = 1)\n",
    "y = data['y']"
   ]
  },
  {
   "cell_type": "markdown",
   "metadata": {
    "id": "XoUOhvuiyNsc"
   },
   "source": [
    "Step 3. Apply the RandomForestClassifier and LogisticRegression model with default parameters to your data \n",
    "What is the accuracy for your models?"
   ]
  },
  {
   "cell_type": "code",
   "execution_count": 80,
   "metadata": {
    "id": "9lQmeMMNyf9i"
   },
   "outputs": [
    {
     "name": "stdout",
     "output_type": "stream",
     "text": [
      "(32950, 18)\n",
      "(32950,)\n",
      "(8238, 18)\n",
      "(8238,)\n"
     ]
    }
   ],
   "source": [
    "# split my dataset into train and test\n",
    "from sklearn.model_selection import train_test_split\n",
    "\n",
    "x_train, x_test, y_train, y_test = train_test_split(x, y, test_size = 0.2, random_state=42)\n",
    "\n",
    "print(x_train.shape)\n",
    "print(y_train.shape)\n",
    "print(x_test.shape)\n",
    "print(y_test.shape)"
   ]
  },
  {
   "cell_type": "code",
   "execution_count": 81,
   "metadata": {},
   "outputs": [
    {
     "name": "stdout",
     "output_type": "stream",
     "text": [
      "The accuracy of the Random Forest Classifier is 0.9162418062636563\n"
     ]
    }
   ],
   "source": [
    "# Fitting RFC\n",
    "from sklearn.ensemble import RandomForestClassifier\n",
    "\n",
    "rfc = RandomForestClassifier()\n",
    "rfc.fit(x_train, y_train)\n",
    "y_pred = rfc.predict(x_test)\n",
    "acc_rfc = rfc.score(x_test, y_test)\n",
    "\n",
    "print('The accuracy of the Random Forest Classifier is', acc_rfc)"
   ]
  },
  {
   "cell_type": "code",
   "execution_count": 96,
   "metadata": {},
   "outputs": [
    {
     "name": "stdout",
     "output_type": "stream",
     "text": [
      "The accuracy of the Logistic Regression is: 0.8988832240835154\n"
     ]
    }
   ],
   "source": [
    "# Fitting LR after SS\n",
    "from sklearn.preprocessing import StandardScaler\n",
    "sc = StandardScaler()\n",
    "x_train = sc.fit_transform(x_train)\n",
    "x_test = sc.transform(x_test)\n",
    "\n",
    "from sklearn.linear_model import LogisticRegression\n",
    "lr = LogisticRegression(random_state = 42, solver='lbfgs', multi_class='auto')\n",
    "lr.fit(x_train, y_train)\n",
    "\n",
    "y_pred = lr.predict(x_test)\n",
    "probs_y=lr.predict_proba(x_test)\n",
    "probs_y = np.round(probs_y, 2)\n",
    "\n",
    "print('The accuracy of the Logistic Regression is:', lr.score(x_test, y_test))"
   ]
  },
  {
   "cell_type": "markdown",
   "metadata": {},
   "source": [
    "*RFC provides a model with better accuracy to my dataset.*"
   ]
  },
  {
   "cell_type": "markdown",
   "metadata": {
    "id": "qIG-oSLKyR7v"
   },
   "source": [
    "\n",
    "Step 4. Select features using SelectFromModel method. Explain, how you define the optimal number of features\n"
   ]
  },
  {
   "cell_type": "code",
   "execution_count": 88,
   "metadata": {
    "id": "1gu17-s3ygub"
   },
   "outputs": [
    {
     "data": {
      "text/plain": [
       "3"
      ]
     },
     "execution_count": 88,
     "metadata": {},
     "output_type": "execute_result"
    }
   ],
   "source": [
    "# Find the optimal number of features with SFM\n",
    "from sklearn.ensemble import RandomForestClassifier\n",
    "from sklearn.feature_selection import SelectFromModel\n",
    "\n",
    "SFM = SelectFromModel(estimator=RandomForestClassifier())\n",
    "s=SFM.fit(x, y)\n",
    "\n",
    "n_features = s.transform(x).shape[1]\n",
    "n_features"
   ]
  },
  {
   "cell_type": "code",
   "execution_count": 86,
   "metadata": {},
   "outputs": [
    {
     "data": {
      "text/plain": [
       "Index(['age', 'duration', 'euribor3m'], dtype='object')"
      ]
     },
     "execution_count": 86,
     "metadata": {},
     "output_type": "execute_result"
    }
   ],
   "source": [
    "# Get the 3 feature names \n",
    "feature_idx = s.get_support()\n",
    "feature_name = x.columns[feature_idx]\n",
    "feature_name"
   ]
  },
  {
   "cell_type": "markdown",
   "metadata": {
    "id": "-bV-demNyVBQ"
   },
   "source": [
    "\n",
    "Step 5. Apply the RandomForestClassifier and LogisticRegression model with default parameters to your data (only selected features). What is the accuracy for your models?"
   ]
  },
  {
   "cell_type": "code",
   "execution_count": 92,
   "metadata": {},
   "outputs": [],
   "source": [
    "# Redefine train-test data only on the 3 features and run models again\n",
    "x = data[['age', 'duration', 'euribor3m']]\n",
    "y = data['y']\n",
    "\n",
    "x_train, x_test, y_train, y_test = train_test_split(x, y, test_size = 0.2, random_state=42)"
   ]
  },
  {
   "cell_type": "code",
   "execution_count": 93,
   "metadata": {
    "id": "19_2unWgyhgi"
   },
   "outputs": [
    {
     "name": "stdout",
     "output_type": "stream",
     "text": [
      "The accuracy of the Random Forest Classifier is 0.9050740470988103\n"
     ]
    }
   ],
   "source": [
    "# Fitting RFC\n",
    "rfc = RandomForestClassifier()\n",
    "rfc.fit(x_train, y_train)\n",
    "y_pred = rfc.predict(x_test)\n",
    "acc_rfc = rfc.score(x_test, y_test)\n",
    "\n",
    "print('The accuracy of the Random Forest Classifier is', acc_rfc)"
   ]
  },
  {
   "cell_type": "code",
   "execution_count": 95,
   "metadata": {},
   "outputs": [
    {
     "name": "stdout",
     "output_type": "stream",
     "text": [
      "The accuracy of the Logistic Regression is: 0.8988832240835154\n"
     ]
    }
   ],
   "source": [
    "# Fitting LR\n",
    "sc = StandardScaler()\n",
    "x_train = sc.fit_transform(x_train)\n",
    "x_test = sc.transform(x_test)\n",
    "\n",
    "lr = LogisticRegression(random_state = 42, solver='lbfgs', multi_class='auto')\n",
    "lr.fit(x_train, y_train)\n",
    "\n",
    "y_pred = lr.predict(x_test)\n",
    "probs_y=lr.predict_proba(x_test)\n",
    "probs_y = np.round(probs_y, 2)\n",
    "\n",
    "print('The accuracy of the Logistic Regression is:', lr.score(x_test, y_test))"
   ]
  },
  {
   "cell_type": "markdown",
   "metadata": {},
   "source": [
    "*The accuracy is a bit lower than on the full datset.*"
   ]
  },
  {
   "cell_type": "markdown",
   "metadata": {
    "id": "s_EcvHZEyYAj"
   },
   "source": [
    "\n",
    "Step 6. Select features using RFE and RFECV methods. Explain, how you define the optimal number of features for each of the cases."
   ]
  },
  {
   "cell_type": "code",
   "execution_count": 101,
   "metadata": {
    "id": "O3s1Abx9yiH0"
   },
   "outputs": [
    {
     "name": "stdout",
     "output_type": "stream",
     "text": [
      "Num Features: 3\n",
      "Selected Features: [ True  True  True]\n",
      "Feature Ranking: [1 1 1]\n"
     ]
    }
   ],
   "source": [
    "# Fitting RFE\n",
    "from sklearn.ensemble import RandomForestClassifier\n",
    "from sklearn.feature_selection import RFE\n",
    "\n",
    "rfe_selector = RFE(estimator=RandomForestClassifier(),n_features_to_select = 5, step = 1)\n",
    "m=rfe_selector.fit(x, y)\n",
    "x.columns[m.get_support()]\n",
    "print(\"Num Features: %s\" % (m.n_features_))\n",
    "print(\"Selected Features: %s\" % (m.support_))\n",
    "print(\"Feature Ranking: %s\" % (m.ranking_))"
   ]
  },
  {
   "cell_type": "code",
   "execution_count": 104,
   "metadata": {},
   "outputs": [
    {
     "name": "stderr",
     "output_type": "stream",
     "text": [
      "C:\\Users\\Shinemet\\anaconda3\\lib\\site-packages\\sklearn\\base.py:445: UserWarning: X does not have valid feature names, but RFECV was fitted with feature names\n",
      "  warnings.warn(\n"
     ]
    },
    {
     "data": {
      "text/plain": [
       "Index(['age', 'duration', 'euribor3m'], dtype='object')"
      ]
     },
     "execution_count": 104,
     "metadata": {},
     "output_type": "execute_result"
    }
   ],
   "source": [
    "# Fitting RFECV\n",
    "from sklearn.ensemble import RandomForestClassifier\n",
    "from sklearn.feature_selection import RFECV\n",
    "\n",
    "rfecv = RFECV(\n",
    "    estimator=RandomForestClassifier(),\n",
    "    min_features_to_select=2,\n",
    "    step=5,\n",
    "    n_jobs=-1,\n",
    "    scoring=\"r2\",\n",
    "    cv=5,\n",
    ")\n",
    "\n",
    "m = rfecv.fit(x, y)\n",
    "x.columns[rfecv.support_]"
   ]
  },
  {
   "cell_type": "markdown",
   "metadata": {},
   "source": [
    "*Both RFE and RFECV return 3 optimal features.*"
   ]
  },
  {
   "cell_type": "markdown",
   "metadata": {
    "id": "m9OmWQP5ybBw"
   },
   "source": [
    "Step 7. Apply the RandomForestClassifier and LogisticRegression model with default parameters to your data (you will have 4 models, taking into account two sets of features that you got). What is the accuracy for your models?\n"
   ]
  },
  {
   "cell_type": "code",
   "execution_count": 107,
   "metadata": {
    "id": "HU4cha-ryiqR"
   },
   "outputs": [
    {
     "name": "stdout",
     "output_type": "stream",
     "text": [
      "The accuracy of the Random Forest Classifier is 0.8974265598446225\n"
     ]
    }
   ],
   "source": [
    "# Fitting RFC\n",
    "rfc = RandomForestClassifier(3)\n",
    "rfc.fit(x_train, y_train)\n",
    "y_pred = rfc.predict(x_test)\n",
    "acc_rfc = rfc.score(x_test, y_test)\n",
    "\n",
    "print('The accuracy of the Random Forest Classifier is', acc_rfc)"
   ]
  },
  {
   "cell_type": "code",
   "execution_count": 106,
   "metadata": {},
   "outputs": [
    {
     "name": "stdout",
     "output_type": "stream",
     "text": [
      "The accuracy of the Logistic Regression is: 0.8988832240835154\n"
     ]
    }
   ],
   "source": [
    "# Fitting LR\n",
    "sc = StandardScaler()\n",
    "x_train = sc.fit_transform(x_train)\n",
    "x_test = sc.transform(x_test)\n",
    "\n",
    "lr = LogisticRegression(random_state = 42, solver='lbfgs', multi_class='auto')\n",
    "lr.fit(x_train, y_train)\n",
    "\n",
    "y_pred = lr.predict(x_test)\n",
    "probs_y=lr.predict_proba(x_test)\n",
    "probs_y = np.round(probs_y, 2)\n",
    "\n",
    "print('The accuracy of the Logistic Regression is:', lr.score(x_test, y_test))"
   ]
  },
  {
   "cell_type": "markdown",
   "metadata": {
    "id": "37SCDzF0yBZC"
   },
   "source": [
    "\n",
    "\n",
    "\n",
    "\n",
    "\n",
    "\n",
    "\n",
    "\n",
    "\n",
    "Step 8. Please make the conclusion about the utility of the feature selection"
   ]
  },
  {
   "cell_type": "markdown",
   "metadata": {
    "id": "xMG7-WLtx_kz"
   },
   "source": [
    "*My models visibly don't apply correctly because my accuracy score keeps decreasing!*"
   ]
  }
 ],
 "metadata": {
  "colab": {
   "collapsed_sections": [
    "gDkJXhN9fhcA",
    "49TTLiq7fhcF",
    "TciEBCyXfhcG",
    "memkwXoPfhcH",
    "t5SyM4bTfhcH",
    "SufgsNC1fhcI",
    "6nbSfbWWfhcJ",
    "tbCazUjNfhcK",
    "8ctUrk4DfhcL",
    "UfPYpqjHfhcM",
    "oDMV_zHffhcM",
    "128J08eFfhcP",
    "auNRd2TjfhcQ",
    "x6NQcl_vfhcR",
    "m1cfmFmWfhcS",
    "eNxu-scifhcT",
    "o0Llo0cNfhcT",
    "Aj0qu-_1fhcU",
    "aNZMlA9RfhcX",
    "LTOHBfanfhcY",
    "EXhmXFJifhcb"
   ],
   "name": "main.ipynb",
   "provenance": []
  },
  "kernelspec": {
   "display_name": "Python 3 (ipykernel)",
   "language": "python",
   "name": "python3"
  },
  "language_info": {
   "codemirror_mode": {
    "name": "ipython",
    "version": 3
   },
   "file_extension": ".py",
   "mimetype": "text/x-python",
   "name": "python",
   "nbconvert_exporter": "python",
   "pygments_lexer": "ipython3",
   "version": "3.8.12"
  }
 },
 "nbformat": 4,
 "nbformat_minor": 1
}
