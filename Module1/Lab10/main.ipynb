{
 "cells": [
  {
   "cell_type": "code",
   "execution_count": null,
   "id": "3f594f37",
   "metadata": {},
   "outputs": [],
   "source": [
    "# [Counting Sheeps]\n",
    "def count_sheeps(sheep):\n",
    "    return sheep.count(True)\n",
    "\n",
    "sheep = [\n",
    "  True,  True,  True,  False,\n",
    "  True,  True,  True,  True ,\n",
    "  True,  False, True,  False,\n",
    "  True,  False, False, True ,\n",
    "  True,  True,  True,  True ,\n",
    "  False, False, True,  True\n",
    "]\n",
    "\n",
    "count_sheeps(sheep)"
   ]
  },
  {
   "cell_type": "code",
   "execution_count": null,
   "id": "842de5fe",
   "metadata": {},
   "outputs": [],
   "source": [
    "# [Removing elements]\n",
    "def remove_every_other(my_list):\n",
    "    return my_list[0: :2]\n",
    "\n",
    "remove_every_other([\"Keep\", \"Remove\", \"Keep\", \"Remove\", \"Keep\", \"Remove\", \"Keep\"])"
   ]
  },
  {
   "cell_type": "code",
   "execution_count": null,
   "id": "ee1df7f1",
   "metadata": {},
   "outputs": [],
   "source": [
    "# Convert number to reversed array of digits\n",
    "def digitize(n):\n",
    "    return [int(i) for i in str(n)][::-1]\n",
    "\n",
    "digitize(465)"
   ]
  },
  {
   "cell_type": "code",
   "execution_count": null,
   "id": "5776a24c",
   "metadata": {},
   "outputs": [],
   "source": [
    "# [Square every digit]\n",
    "def square_digits(num):\n",
    "    s = ''.join((str(int(i)**2) for i in str(num)))\n",
    "    return int(s)\n",
    "\n",
    "square_digits(464)"
   ]
  },
  {
   "cell_type": "code",
   "execution_count": 2,
   "id": "e41d4920",
   "metadata": {},
   "outputs": [
    {
     "data": {
      "text/plain": [
       "[(1, 7), (8, 5), (4, 0)]"
      ]
     },
     "execution_count": 2,
     "metadata": {},
     "output_type": "execute_result"
    }
   ],
   "source": [
    "# Counting Total Occurence Of Specific Digits\n",
    "class List(object):\n",
    "    def count_spec_digits(self, integers_list, digits_list):\n",
    "        strings = [j for i in integers_list for j in str(i)]\n",
    "        lst = [(k, strings.count(str(k))) for k in digits_list]\n",
    "        return lst\n",
    "\n",
    "\n",
    "integers_list = [-18, -31, 81, -19, 111, -888]\n",
    "digits_list = [1, 8, 4]\n",
    "\n",
    "l = List()\n",
    "l.count_spec_digits(integers_list, digits_list)"
   ]
  }
 ],
 "metadata": {
  "kernelspec": {
   "display_name": "Python 3 (ipykernel)",
   "language": "python",
   "name": "python3"
  },
  "language_info": {
   "codemirror_mode": {
    "name": "ipython",
    "version": 3
   },
   "file_extension": ".py",
   "mimetype": "text/x-python",
   "name": "python",
   "nbconvert_exporter": "python",
   "pygments_lexer": "ipython3",
   "version": "3.8.12"
  }
 },
 "nbformat": 4,
 "nbformat_minor": 5
}
