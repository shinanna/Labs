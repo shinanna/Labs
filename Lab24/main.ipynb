{
 "cells": [
  {
   "cell_type": "markdown",
   "metadata": {},
   "source": [
    "# Intrduction to NumPy\n",
    "\n",
    "\n",
    "#### 1. Import NumPy under the name np."
   ]
  },
  {
   "cell_type": "code",
   "execution_count": 96,
   "metadata": {},
   "outputs": [],
   "source": [
    "import numpy as np"
   ]
  },
  {
   "cell_type": "markdown",
   "metadata": {},
   "source": [
    "#### 2. Print your NumPy version."
   ]
  },
  {
   "cell_type": "code",
   "execution_count": 97,
   "metadata": {},
   "outputs": [
    {
     "data": {
      "text/plain": [
       "<module 'numpy.version' from 'C:\\\\Users\\\\Shinemet\\\\anaconda3\\\\lib\\\\site-packages\\\\numpy\\\\version.py'>"
      ]
     },
     "execution_count": 97,
     "metadata": {},
     "output_type": "execute_result"
    }
   ],
   "source": [
    "np.version"
   ]
  },
  {
   "cell_type": "markdown",
   "metadata": {},
   "source": [
    "#### 3. Generate a 2x3x5 3-dimensional array with random values. Assign the array to variable *a*.\n",
    "**Challenge**: there are at least three easy ways that use numpy to generate random arrays. How many ways can you find?"
   ]
  },
  {
   "cell_type": "code",
   "execution_count": 98,
   "metadata": {},
   "outputs": [],
   "source": [
    "a = np.random.random((2, 3, 5))"
   ]
  },
  {
   "cell_type": "code",
   "execution_count": 99,
   "metadata": {},
   "outputs": [
    {
     "data": {
      "text/plain": [
       "array([[[0.08531957, 0.73334079, 0.26274373, 0.53571971, 0.06814764],\n",
       "        [0.17175014, 0.55174522, 0.73728917, 0.69216647, 0.84301663],\n",
       "        [0.37587191, 0.81963839, 0.00890718, 0.85994475, 0.75911419]],\n",
       "\n",
       "       [[0.23280741, 0.97723492, 0.52788517, 0.57878078, 0.41915797],\n",
       "        [0.49694988, 0.88722581, 0.42896389, 0.41240984, 0.207778  ],\n",
       "        [0.11003976, 0.12711582, 0.95288696, 0.84164869, 0.75163515]]])"
      ]
     },
     "execution_count": 99,
     "metadata": {},
     "output_type": "execute_result"
    }
   ],
   "source": [
    "np.random.rand(2, 3, 5)"
   ]
  },
  {
   "cell_type": "code",
   "execution_count": 100,
   "metadata": {},
   "outputs": [
    {
     "data": {
      "text/plain": [
       "array([[[0.51182162, 0.9504637 , 0.14415961, 0.94864945, 0.31183145],\n",
       "        [0.42332645, 0.82770259, 0.40919914, 0.54959369, 0.02755911],\n",
       "        [0.75351311, 0.53814331, 0.32973172, 0.7884287 , 0.30319483]],\n",
       "\n",
       "       [[0.45349789, 0.1340417 , 0.40311299, 0.20345524, 0.26231334],\n",
       "        [0.75036467, 0.28040876, 0.48519097, 0.9807372 , 0.96165719],\n",
       "        [0.72478994, 0.54122686, 0.2768912 , 0.16065201, 0.96992541]]])"
      ]
     },
     "execution_count": 100,
     "metadata": {},
     "output_type": "execute_result"
    }
   ],
   "source": [
    "np.random.default_rng(1).random((2, 3, 5))"
   ]
  },
  {
   "cell_type": "markdown",
   "metadata": {},
   "source": [
    "#### 4. Print *a*.\n"
   ]
  },
  {
   "cell_type": "code",
   "execution_count": 101,
   "metadata": {},
   "outputs": [
    {
     "data": {
      "text/plain": [
       "array([[[0.51671014, 0.49015418, 0.07626415, 0.05800046, 0.83340577],\n",
       "        [0.73930466, 0.0730032 , 0.88788472, 0.0195973 , 0.78885851],\n",
       "        [0.89879215, 0.2833878 , 0.70390365, 0.96515772, 0.68790475]],\n",
       "\n",
       "       [[0.88368058, 0.17907791, 0.93946567, 0.60805328, 0.87248123],\n",
       "        [0.22329691, 0.26529922, 0.11781177, 0.6523394 , 0.67438976],\n",
       "        [0.46924561, 0.36951907, 0.04213817, 0.6390918 , 0.43138973]]])"
      ]
     },
     "execution_count": 101,
     "metadata": {},
     "output_type": "execute_result"
    }
   ],
   "source": [
    "a"
   ]
  },
  {
   "cell_type": "markdown",
   "metadata": {},
   "source": [
    "#### 5. Create a 5x2x3 3-dimensional array with all values equaling 1. Assign the array to variable *b*."
   ]
  },
  {
   "cell_type": "code",
   "execution_count": 102,
   "metadata": {},
   "outputs": [],
   "source": [
    "b = np.ones((5, 2, 3), dtype=int)"
   ]
  },
  {
   "cell_type": "markdown",
   "metadata": {},
   "source": [
    "#### 6. Print *b*.\n"
   ]
  },
  {
   "cell_type": "code",
   "execution_count": 103,
   "metadata": {},
   "outputs": [
    {
     "data": {
      "text/plain": [
       "array([[[1, 1, 1],\n",
       "        [1, 1, 1]],\n",
       "\n",
       "       [[1, 1, 1],\n",
       "        [1, 1, 1]],\n",
       "\n",
       "       [[1, 1, 1],\n",
       "        [1, 1, 1]],\n",
       "\n",
       "       [[1, 1, 1],\n",
       "        [1, 1, 1]],\n",
       "\n",
       "       [[1, 1, 1],\n",
       "        [1, 1, 1]]])"
      ]
     },
     "execution_count": 103,
     "metadata": {},
     "output_type": "execute_result"
    }
   ],
   "source": [
    "b"
   ]
  },
  {
   "cell_type": "markdown",
   "metadata": {},
   "source": [
    "#### 7. Do *a* and *b* have the same size? How do you prove that in Python code?"
   ]
  },
  {
   "cell_type": "code",
   "execution_count": 104,
   "metadata": {},
   "outputs": [
    {
     "name": "stdout",
     "output_type": "stream",
     "text": [
      "(2, 3, 5)\n",
      "(5, 2, 3)\n",
      "False\n"
     ]
    }
   ],
   "source": [
    "# No\n",
    "print(a.shape)\n",
    "print(b.shape)\n",
    "print(a.shape==b.shape)"
   ]
  },
  {
   "cell_type": "markdown",
   "metadata": {},
   "source": [
    "#### 8. Are you able to add *a* and *b*? Why or why not?\n"
   ]
  },
  {
   "cell_type": "code",
   "execution_count": 105,
   "metadata": {},
   "outputs": [
    {
     "ename": "ValueError",
     "evalue": "operands could not be broadcast together with shapes (2,3,5) (5,2,3) ",
     "output_type": "error",
     "traceback": [
      "\u001b[1;31m---------------------------------------------------------------------------\u001b[0m",
      "\u001b[1;31mValueError\u001b[0m                                Traceback (most recent call last)",
      "\u001b[1;32m~\\AppData\\Local\\Temp/ipykernel_8160/1980283085.py\u001b[0m in \u001b[0;36m<module>\u001b[1;34m\u001b[0m\n\u001b[0;32m      1\u001b[0m \u001b[1;31m# No, it is possible since the 2 arrays do not have the same size:\u001b[0m\u001b[1;33m\u001b[0m\u001b[1;33m\u001b[0m\u001b[1;33m\u001b[0m\u001b[0m\n\u001b[1;32m----> 2\u001b[1;33m \u001b[0ma\u001b[0m \u001b[1;33m+\u001b[0m \u001b[0mb\u001b[0m\u001b[1;33m\u001b[0m\u001b[1;33m\u001b[0m\u001b[0m\n\u001b[0m",
      "\u001b[1;31mValueError\u001b[0m: operands could not be broadcast together with shapes (2,3,5) (5,2,3) "
     ]
    }
   ],
   "source": [
    "# No, it is possible since the 2 arrays do not have the same size:\n",
    "a + b"
   ]
  },
  {
   "cell_type": "markdown",
   "metadata": {},
   "source": [
    "#### 9. Transpose *b* so that it has the same structure of *a* (i.e. become a 2x3x5 array). Assign the transposed array to variable *c*."
   ]
  },
  {
   "cell_type": "code",
   "execution_count": 106,
   "metadata": {},
   "outputs": [],
   "source": [
    "c = b.reshape(2, 3, 5)"
   ]
  },
  {
   "cell_type": "markdown",
   "metadata": {},
   "source": [
    "#### 10. Try to add *a* and *c*. Now it should work. Assign the sum to variable *d*. But why does it work now?"
   ]
  },
  {
   "cell_type": "code",
   "execution_count": 107,
   "metadata": {},
   "outputs": [
    {
     "data": {
      "text/plain": [
       "array([[[1.51671014, 1.49015418, 1.07626415, 1.05800046, 1.83340577],\n",
       "        [1.73930466, 1.0730032 , 1.88788472, 1.0195973 , 1.78885851],\n",
       "        [1.89879215, 1.2833878 , 1.70390365, 1.96515772, 1.68790475]],\n",
       "\n",
       "       [[1.88368058, 1.17907791, 1.93946567, 1.60805328, 1.87248123],\n",
       "        [1.22329691, 1.26529922, 1.11781177, 1.6523394 , 1.67438976],\n",
       "        [1.46924561, 1.36951907, 1.04213817, 1.6390918 , 1.43138973]]])"
      ]
     },
     "execution_count": 107,
     "metadata": {},
     "output_type": "execute_result"
    }
   ],
   "source": [
    "# Now the 2 arrays have the same size (2, 3, 5)\n",
    "d = a + c\n",
    "d"
   ]
  },
  {
   "cell_type": "markdown",
   "metadata": {},
   "source": [
    "#### 11. Print *a* and *d*. Notice the difference and relation of the two array in terms of the values? Explain."
   ]
  },
  {
   "cell_type": "code",
   "execution_count": 108,
   "metadata": {},
   "outputs": [
    {
     "name": "stdout",
     "output_type": "stream",
     "text": [
      "[[[0.51671014 0.49015418 0.07626415 0.05800046 0.83340577]\n",
      "  [0.73930466 0.0730032  0.88788472 0.0195973  0.78885851]\n",
      "  [0.89879215 0.2833878  0.70390365 0.96515772 0.68790475]]\n",
      "\n",
      " [[0.88368058 0.17907791 0.93946567 0.60805328 0.87248123]\n",
      "  [0.22329691 0.26529922 0.11781177 0.6523394  0.67438976]\n",
      "  [0.46924561 0.36951907 0.04213817 0.6390918  0.43138973]]]\n",
      "\n",
      "\n",
      "[[[1.51671014 1.49015418 1.07626415 1.05800046 1.83340577]\n",
      "  [1.73930466 1.0730032  1.88788472 1.0195973  1.78885851]\n",
      "  [1.89879215 1.2833878  1.70390365 1.96515772 1.68790475]]\n",
      "\n",
      " [[1.88368058 1.17907791 1.93946567 1.60805328 1.87248123]\n",
      "  [1.22329691 1.26529922 1.11781177 1.6523394  1.67438976]\n",
      "  [1.46924561 1.36951907 1.04213817 1.6390918  1.43138973]]]\n"
     ]
    }
   ],
   "source": [
    "# The difference between each value of both arrays is 1 because d = a + c where all the values of c = all the values of b = 1\n",
    "print(a)\n",
    "print('\\n')\n",
    "print(d)"
   ]
  },
  {
   "cell_type": "markdown",
   "metadata": {},
   "source": [
    "#### 12. Multiply *a* and *c*. Assign the result to *e*."
   ]
  },
  {
   "cell_type": "code",
   "execution_count": 109,
   "metadata": {},
   "outputs": [],
   "source": [
    "e = a * c"
   ]
  },
  {
   "cell_type": "markdown",
   "metadata": {},
   "source": [
    "#### 13. Does *e* equal to *a*? Why or why not?\n"
   ]
  },
  {
   "cell_type": "code",
   "execution_count": 110,
   "metadata": {},
   "outputs": [
    {
     "name": "stdout",
     "output_type": "stream",
     "text": [
      "[[[0.51671014 0.49015418 0.07626415 0.05800046 0.83340577]\n",
      "  [0.73930466 0.0730032  0.88788472 0.0195973  0.78885851]\n",
      "  [0.89879215 0.2833878  0.70390365 0.96515772 0.68790475]]\n",
      "\n",
      " [[0.88368058 0.17907791 0.93946567 0.60805328 0.87248123]\n",
      "  [0.22329691 0.26529922 0.11781177 0.6523394  0.67438976]\n",
      "  [0.46924561 0.36951907 0.04213817 0.6390918  0.43138973]]]\n",
      "\n",
      "\n",
      "[[[0.51671014 0.49015418 0.07626415 0.05800046 0.83340577]\n",
      "  [0.73930466 0.0730032  0.88788472 0.0195973  0.78885851]\n",
      "  [0.89879215 0.2833878  0.70390365 0.96515772 0.68790475]]\n",
      "\n",
      " [[0.88368058 0.17907791 0.93946567 0.60805328 0.87248123]\n",
      "  [0.22329691 0.26529922 0.11781177 0.6523394  0.67438976]\n",
      "  [0.46924561 0.36951907 0.04213817 0.6390918  0.43138973]]]\n"
     ]
    }
   ],
   "source": [
    "# e = a because e = a * c where all the values of c = 1\n",
    "print(a)\n",
    "print('\\n')\n",
    "print(e)"
   ]
  },
  {
   "cell_type": "markdown",
   "metadata": {},
   "source": [
    "#### 14. Identify the max, min, and mean values in *d*. Assign those values to variables *d_max*, *d_min* and *d_mean*."
   ]
  },
  {
   "cell_type": "code",
   "execution_count": 111,
   "metadata": {},
   "outputs": [
    {
     "name": "stdout",
     "output_type": "stream",
     "text": [
      "1.9651577242854272 1.019597300574965\n"
     ]
    }
   ],
   "source": [
    "d_max = np.amax(d)\n",
    "d_min = np.amin(d)\n",
    "print(d_max, d_min)"
   ]
  },
  {
   "cell_type": "code",
   "execution_count": 112,
   "metadata": {},
   "outputs": [
    {
     "data": {
      "text/plain": [
       "1.5129869759177212"
      ]
     },
     "execution_count": 112,
     "metadata": {},
     "output_type": "execute_result"
    }
   ],
   "source": [
    "d_mean = np.mean(d)\n",
    "d_mean"
   ]
  },
  {
   "cell_type": "markdown",
   "metadata": {},
   "source": [
    "#### 15. Now we want to label the values in *d*. First create an empty array *f* with the same shape (i.e. 2x3x5) as *d* using `np.empty`.\n"
   ]
  },
  {
   "cell_type": "code",
   "execution_count": 113,
   "metadata": {},
   "outputs": [
    {
     "data": {
      "text/plain": [
       "array([[[0.51671014, 0.49015418, 0.07626415, 0.05800046, 0.83340577],\n",
       "        [0.73930466, 0.0730032 , 0.88788472, 0.0195973 , 0.78885851],\n",
       "        [0.89879215, 0.2833878 , 0.70390365, 0.96515772, 0.68790475]],\n",
       "\n",
       "       [[0.88368058, 0.17907791, 0.93946567, 0.60805328, 0.87248123],\n",
       "        [0.22329691, 0.26529922, 0.11781177, 0.6523394 , 0.67438976],\n",
       "        [0.46924561, 0.36951907, 0.04213817, 0.6390918 , 0.43138973]]])"
      ]
     },
     "execution_count": 113,
     "metadata": {},
     "output_type": "execute_result"
    }
   ],
   "source": [
    "f = np.empty((2, 3, 5))\n",
    "f"
   ]
  },
  {
   "cell_type": "markdown",
   "metadata": {},
   "source": [
    "#### 16. Populate the values in *f*. \n",
    "\n",
    "For each value in *d*, if it's larger than *d_min* but smaller than *d_mean*, assign 25 to the corresponding value in *f*. If a value in *d* is larger than *d_mean* but smaller than *d_max*, assign 75 to the corresponding value in *f*. If a value equals to *d_mean*, assign 50 to the corresponding value in *f*. Assign 0 to the corresponding value(s) in *f* for *d_min* in *d*. Assign 100 to the corresponding value(s) in *f* for *d_max* in *d*. In the end, f should have only the following values: 0, 25, 50, 75, and 100.\n",
    "\n",
    "**Note**: you don't have to use Numpy in this question."
   ]
  },
  {
   "cell_type": "code",
   "execution_count": 114,
   "metadata": {},
   "outputs": [
    {
     "data": {
      "text/plain": [
       "array([[[1.51671014, 1.49015418, 1.07626415, 1.05800046, 1.83340577],\n",
       "        [1.73930466, 1.0730032 , 1.88788472, 1.0195973 , 1.78885851],\n",
       "        [1.89879215, 1.2833878 , 1.70390365, 1.96515772, 1.68790475]],\n",
       "\n",
       "       [[1.88368058, 1.17907791, 1.93946567, 1.60805328, 1.87248123],\n",
       "        [1.22329691, 1.26529922, 1.11781177, 1.6523394 , 1.67438976],\n",
       "        [1.46924561, 1.36951907, 1.04213817, 1.6390918 , 1.43138973]]])"
      ]
     },
     "execution_count": 114,
     "metadata": {},
     "output_type": "execute_result"
    }
   ],
   "source": [
    "d"
   ]
  },
  {
   "cell_type": "code",
   "execution_count": 115,
   "metadata": {},
   "outputs": [
    {
     "data": {
      "text/plain": [
       "array([[[ 75.,  25.,  25.,  25.,  75.],\n",
       "        [ 75.,  25.,  75.,   0.,  75.],\n",
       "        [ 75.,  25.,  75., 100.,  75.]],\n",
       "\n",
       "       [[ 75.,  25.,  75.,  75.,  75.],\n",
       "        [ 25.,  25.,  25.,  75.,  75.],\n",
       "        [ 25.,  25.,  25.,  75.,  25.]]])"
      ]
     },
     "execution_count": 115,
     "metadata": {},
     "output_type": "execute_result"
    }
   ],
   "source": [
    "for x in range(2):\n",
    "    for y in range(3):\n",
    "        for z in range(5):\n",
    "            if d_min < d[x][y][z] < d_mean:\n",
    "                f[x][y][z] = 25\n",
    "            elif d_mean < d[x][y][z] < d_max:\n",
    "                f[x][y][z] = 75\n",
    "            elif d[x][y][z] == d_mean:\n",
    "                f[x][y][z] = 50\n",
    "            elif d[x][y][z] == d_min: \n",
    "                f[x][y][z] = 0\n",
    "            else: \n",
    "                f[x][y][z] = 100\n",
    "\n",
    "f"
   ]
  },
  {
   "cell_type": "code",
   "execution_count": 116,
   "metadata": {},
   "outputs": [
    {
     "name": "stdout",
     "output_type": "stream",
     "text": [
      "[[[ 75  25  25  25  75]\n",
      "  [ 75  25  75   0  75]\n",
      "  [ 75  25  75 100  75]]\n",
      "\n",
      " [[ 75  25  75  75  75]\n",
      "  [ 25  25  25  75  75]\n",
      "  [ 25  25  25  75  25]]]\n"
     ]
    }
   ],
   "source": [
    "# Another way to seed f called f2:\n",
    "f2 = []\n",
    "for x in np.nditer(d):\n",
    "    if d_min < x < d_mean:\n",
    "        f2 += [25]\n",
    "    if d_mean < x < d_max:\n",
    "        f2 += [75]\n",
    "    if x == d_mean:\n",
    "        f2 += [50]\n",
    "    if x == d_min:\n",
    "        f2 += [0]\n",
    "    if x == d_max:\n",
    "        f2 += [100]\n",
    "        \n",
    "f2 = np.reshape(f2, d.shape)\n",
    "print(f2)"
   ]
  },
  {
   "cell_type": "markdown",
   "metadata": {},
   "source": [
    "#### 17. Print *d* and *f*. Do you have your expected *f*?\n",
    "For instance, if your *d* is:\n",
    "```python\n",
    "[[[1.85836099, 1.67064465, 1.62576044, 1.40243961, 1.88454931],\n",
    "[1.75354326, 1.69403643, 1.36729252, 1.61415071, 1.12104981],\n",
    "[1.72201435, 1.1862918 , 1.87078449, 1.7726778 , 1.88180042]],\n",
    "[[1.44747908, 1.31673383, 1.02000951, 1.52218947, 1.97066381],\n",
    "[1.79129243, 1.74983003, 1.96028037, 1.85166831, 1.65450881],\n",
    "[1.18068344, 1.9587381 , 1.00656599, 1.93402165, 1.73514584]]]\n",
    "```\n",
    "Your *f* should be:\n",
    "```python\n",
    "[[[ 75.,  75.,  75.,  25.,  75.],\n",
    "[ 75.,  75.,  25.,  25.,  25.],\n",
    "[ 75.,  25.,  75.,  75.,  75.]],\n",
    "[[ 25.,  25.,  25.,  25., 100.],\n",
    "[ 75.,  75.,  75.,  75.,  75.],\n",
    "[ 25.,  75.,   0.,  75.,  75.]]]\n",
    "```"
   ]
  },
  {
   "cell_type": "code",
   "execution_count": 117,
   "metadata": {},
   "outputs": [
    {
     "name": "stdout",
     "output_type": "stream",
     "text": [
      "[[[1.51671014 1.49015418 1.07626415 1.05800046 1.83340577]\n",
      "  [1.73930466 1.0730032  1.88788472 1.0195973  1.78885851]\n",
      "  [1.89879215 1.2833878  1.70390365 1.96515772 1.68790475]]\n",
      "\n",
      " [[1.88368058 1.17907791 1.93946567 1.60805328 1.87248123]\n",
      "  [1.22329691 1.26529922 1.11781177 1.6523394  1.67438976]\n",
      "  [1.46924561 1.36951907 1.04213817 1.6390918  1.43138973]]] \n",
      "\n",
      " [[[ 75.  25.  25.  25.  75.]\n",
      "  [ 75.  25.  75.   0.  75.]\n",
      "  [ 75.  25.  75. 100.  75.]]\n",
      "\n",
      " [[ 75.  25.  75.  75.  75.]\n",
      "  [ 25.  25.  25.  75.  75.]\n",
      "  [ 25.  25.  25.  75.  25.]]]\n"
     ]
    }
   ],
   "source": [
    "print(d,'\\n\\n',f)"
   ]
  },
  {
   "cell_type": "markdown",
   "metadata": {},
   "source": [
    "#### 18. Bonus question: instead of using numbers (i.e. 0, 25, 50, 75, and 100), use string values  (\"A\", \"B\", \"C\", \"D\", and \"E\") to label the array elements. For the example above, the expected result is:\n",
    "\n",
    "```python\n",
    "[[[ 'D',  'D',  'D',  'B',  'D'],\n",
    "[ 'D',  'D',  'B',  'B',  'B'],\n",
    "[ 'D',  'B',  'D',  'D',  'D']],\n",
    "[[ 'B',  'B',  'B',  'B',  'E'],\n",
    "[ 'D',  'D',  'D',  'D',  'D'],\n",
    "[ 'B',  'D',   'A',  'D', 'D']]]\n",
    "```\n",
    "**Note**: you don't have to use Numpy in this question."
   ]
  },
  {
   "cell_type": "code",
   "execution_count": 118,
   "metadata": {},
   "outputs": [
    {
     "name": "stdout",
     "output_type": "stream",
     "text": [
      "[[['B' 'A' 'A' 'A' 'B']\n",
      "  ['B' 'A' 'B' 'D' 'B']\n",
      "  ['B' 'A' 'B' 'E' 'B']]\n",
      "\n",
      " [['B' 'A' 'B' 'B' 'B']\n",
      "  ['A' 'A' 'A' 'B' 'B']\n",
      "  ['A' 'A' 'A' 'B' 'A']]]\n"
     ]
    }
   ],
   "source": [
    "g = []\n",
    "for x in np.nditer(d):\n",
    "    if d_min < x < d_mean:\n",
    "        g += 'A'\n",
    "    if d_mean < x < d_max:\n",
    "        g += 'B'\n",
    "    if x == d_mean:\n",
    "        g += 'C'\n",
    "    if x == d_min:\n",
    "        g += 'D'\n",
    "    if x == d_max:\n",
    "        g += 'E'\n",
    "        \n",
    "g = np.reshape(g, d.shape)\n",
    "print(g)"
   ]
  }
 ],
 "metadata": {
  "kernelspec": {
   "display_name": "Python 3 (ipykernel)",
   "language": "python",
   "name": "python3"
  },
  "language_info": {
   "codemirror_mode": {
    "name": "ipython",
    "version": 3
   },
   "file_extension": ".py",
   "mimetype": "text/x-python",
   "name": "python",
   "nbconvert_exporter": "python",
   "pygments_lexer": "ipython3",
   "version": "3.8.12"
  }
 },
 "nbformat": 4,
 "nbformat_minor": 2
}
