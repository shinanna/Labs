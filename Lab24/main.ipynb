{
 "cells": [
  {
   "cell_type": "markdown",
   "metadata": {},
   "source": [
    "# Intrduction to NumPy\n",
    "\n",
    "\n",
    "#### 1. Import NumPy under the name np."
   ]
  },
  {
   "cell_type": "code",
   "execution_count": 27,
   "metadata": {},
   "outputs": [],
   "source": [
    "import numpy as np"
   ]
  },
  {
   "cell_type": "markdown",
   "metadata": {},
   "source": [
    "#### 2. Print your NumPy version."
   ]
  },
  {
   "cell_type": "code",
   "execution_count": 28,
   "metadata": {},
   "outputs": [
    {
     "data": {
      "text/plain": [
       "<module 'numpy.version' from 'C:\\\\Users\\\\Shinemet\\\\anaconda3\\\\lib\\\\site-packages\\\\numpy\\\\version.py'>"
      ]
     },
     "execution_count": 28,
     "metadata": {},
     "output_type": "execute_result"
    }
   ],
   "source": [
    "np.version"
   ]
  },
  {
   "cell_type": "markdown",
   "metadata": {},
   "source": [
    "#### 3. Generate a 2x3x5 3-dimensional array with random values. Assign the array to variable *a*.\n",
    "**Challenge**: there are at least three easy ways that use numpy to generate random arrays. How many ways can you find?"
   ]
  },
  {
   "cell_type": "code",
   "execution_count": 29,
   "metadata": {},
   "outputs": [],
   "source": [
    "a = np.random.random((2, 3, 5))"
   ]
  },
  {
   "cell_type": "code",
   "execution_count": 30,
   "metadata": {},
   "outputs": [
    {
     "data": {
      "text/plain": [
       "array([[[0.69799103, 0.74538837, 0.65978162, 0.55611802, 0.08539376],\n",
       "        [0.99586629, 0.56187497, 0.1191965 , 0.58866334, 0.44347563],\n",
       "        [0.64377966, 0.73517429, 0.26497278, 0.62208429, 0.90724547]],\n",
       "\n",
       "       [[0.28122527, 0.0899725 , 0.84273672, 0.76577566, 0.17563656],\n",
       "        [0.66479884, 0.73924233, 0.82394458, 0.81426099, 0.14834714],\n",
       "        [0.95157522, 0.76099798, 0.269267  , 0.01729692, 0.20307653]]])"
      ]
     },
     "execution_count": 30,
     "metadata": {},
     "output_type": "execute_result"
    }
   ],
   "source": [
    "np.random.rand(2, 3, 5)"
   ]
  },
  {
   "cell_type": "code",
   "execution_count": 31,
   "metadata": {},
   "outputs": [
    {
     "data": {
      "text/plain": [
       "array([[[0.51182162, 0.9504637 , 0.14415961, 0.94864945, 0.31183145],\n",
       "        [0.42332645, 0.82770259, 0.40919914, 0.54959369, 0.02755911],\n",
       "        [0.75351311, 0.53814331, 0.32973172, 0.7884287 , 0.30319483]],\n",
       "\n",
       "       [[0.45349789, 0.1340417 , 0.40311299, 0.20345524, 0.26231334],\n",
       "        [0.75036467, 0.28040876, 0.48519097, 0.9807372 , 0.96165719],\n",
       "        [0.72478994, 0.54122686, 0.2768912 , 0.16065201, 0.96992541]]])"
      ]
     },
     "execution_count": 31,
     "metadata": {},
     "output_type": "execute_result"
    }
   ],
   "source": [
    "np.random.default_rng(1).random((2, 3, 5))"
   ]
  },
  {
   "cell_type": "markdown",
   "metadata": {},
   "source": [
    "#### 4. Print *a*.\n"
   ]
  },
  {
   "cell_type": "code",
   "execution_count": 32,
   "metadata": {},
   "outputs": [
    {
     "data": {
      "text/plain": [
       "array([[[0.23961499, 0.89004999, 0.96958554, 0.23122863, 0.62414991],\n",
       "        [0.33582688, 0.45555704, 0.51001572, 0.5297189 , 0.27984537],\n",
       "        [0.79681667, 0.6412641 , 0.31606442, 0.14802545, 0.6023418 ]],\n",
       "\n",
       "       [[0.16993472, 0.20463933, 0.38600948, 0.77396261, 0.31844243],\n",
       "        [0.10979603, 0.92859586, 0.54845207, 0.05120103, 0.37759072],\n",
       "        [0.15955487, 0.56875758, 0.72298481, 0.04890055, 0.81644331]]])"
      ]
     },
     "execution_count": 32,
     "metadata": {},
     "output_type": "execute_result"
    }
   ],
   "source": [
    "a"
   ]
  },
  {
   "cell_type": "markdown",
   "metadata": {},
   "source": [
    "#### 5. Create a 5x2x3 3-dimensional array with all values equaling 1. Assign the array to variable *b*."
   ]
  },
  {
   "cell_type": "code",
   "execution_count": 33,
   "metadata": {},
   "outputs": [],
   "source": [
    "b = np.ones((5, 2, 3), dtype=int)"
   ]
  },
  {
   "cell_type": "markdown",
   "metadata": {},
   "source": [
    "#### 6. Print *b*.\n"
   ]
  },
  {
   "cell_type": "code",
   "execution_count": 34,
   "metadata": {},
   "outputs": [
    {
     "data": {
      "text/plain": [
       "array([[[1, 1, 1],\n",
       "        [1, 1, 1]],\n",
       "\n",
       "       [[1, 1, 1],\n",
       "        [1, 1, 1]],\n",
       "\n",
       "       [[1, 1, 1],\n",
       "        [1, 1, 1]],\n",
       "\n",
       "       [[1, 1, 1],\n",
       "        [1, 1, 1]],\n",
       "\n",
       "       [[1, 1, 1],\n",
       "        [1, 1, 1]]])"
      ]
     },
     "execution_count": 34,
     "metadata": {},
     "output_type": "execute_result"
    }
   ],
   "source": [
    "b"
   ]
  },
  {
   "cell_type": "markdown",
   "metadata": {},
   "source": [
    "#### 7. Do *a* and *b* have the same size? How do you prove that in Python code?"
   ]
  },
  {
   "cell_type": "code",
   "execution_count": 35,
   "metadata": {},
   "outputs": [
    {
     "name": "stdout",
     "output_type": "stream",
     "text": [
      "(2, 3, 5)\n",
      "(5, 2, 3)\n",
      "False\n"
     ]
    }
   ],
   "source": [
    "# No\n",
    "print(a.shape)\n",
    "print(b.shape)\n",
    "print(a.shape==b.shape)"
   ]
  },
  {
   "cell_type": "markdown",
   "metadata": {},
   "source": [
    "#### 8. Are you able to add *a* and *b*? Why or why not?\n"
   ]
  },
  {
   "cell_type": "code",
   "execution_count": 36,
   "metadata": {},
   "outputs": [
    {
     "ename": "ValueError",
     "evalue": "operands could not be broadcast together with shapes (2,3,5) (5,2,3) ",
     "output_type": "error",
     "traceback": [
      "\u001b[1;31m---------------------------------------------------------------------------\u001b[0m",
      "\u001b[1;31mValueError\u001b[0m                                Traceback (most recent call last)",
      "\u001b[1;32m~\\AppData\\Local\\Temp/ipykernel_8160/1980283085.py\u001b[0m in \u001b[0;36m<module>\u001b[1;34m\u001b[0m\n\u001b[0;32m      1\u001b[0m \u001b[1;31m# No, it is possible since the 2 arrays do not have the same size:\u001b[0m\u001b[1;33m\u001b[0m\u001b[1;33m\u001b[0m\u001b[1;33m\u001b[0m\u001b[0m\n\u001b[1;32m----> 2\u001b[1;33m \u001b[0ma\u001b[0m \u001b[1;33m+\u001b[0m \u001b[0mb\u001b[0m\u001b[1;33m\u001b[0m\u001b[1;33m\u001b[0m\u001b[0m\n\u001b[0m",
      "\u001b[1;31mValueError\u001b[0m: operands could not be broadcast together with shapes (2,3,5) (5,2,3) "
     ]
    }
   ],
   "source": [
    "# No, it is possible since the 2 arrays do not have the same size:\n",
    "a + b"
   ]
  },
  {
   "cell_type": "markdown",
   "metadata": {},
   "source": [
    "#### 9. Transpose *b* so that it has the same structure of *a* (i.e. become a 2x3x5 array). Assign the transposed array to variable *c*."
   ]
  },
  {
   "cell_type": "code",
   "execution_count": 37,
   "metadata": {},
   "outputs": [],
   "source": [
    "c = b.reshape(2, 3, 5)"
   ]
  },
  {
   "cell_type": "markdown",
   "metadata": {},
   "source": [
    "#### 10. Try to add *a* and *c*. Now it should work. Assign the sum to variable *d*. But why does it work now?"
   ]
  },
  {
   "cell_type": "code",
   "execution_count": 39,
   "metadata": {},
   "outputs": [
    {
     "data": {
      "text/plain": [
       "array([[[1.23961499, 1.89004999, 1.96958554, 1.23122863, 1.62414991],\n",
       "        [1.33582688, 1.45555704, 1.51001572, 1.5297189 , 1.27984537],\n",
       "        [1.79681667, 1.6412641 , 1.31606442, 1.14802545, 1.6023418 ]],\n",
       "\n",
       "       [[1.16993472, 1.20463933, 1.38600948, 1.77396261, 1.31844243],\n",
       "        [1.10979603, 1.92859586, 1.54845207, 1.05120103, 1.37759072],\n",
       "        [1.15955487, 1.56875758, 1.72298481, 1.04890055, 1.81644331]]])"
      ]
     },
     "execution_count": 39,
     "metadata": {},
     "output_type": "execute_result"
    }
   ],
   "source": [
    "# Now the 2 arrays have the same size (2, 3, 5)\n",
    "d = a + c\n",
    "d"
   ]
  },
  {
   "cell_type": "markdown",
   "metadata": {},
   "source": [
    "#### 11. Print *a* and *d*. Notice the difference and relation of the two array in terms of the values? Explain."
   ]
  },
  {
   "cell_type": "code",
   "execution_count": 44,
   "metadata": {},
   "outputs": [
    {
     "name": "stdout",
     "output_type": "stream",
     "text": [
      "[[[0.23961499 0.89004999 0.96958554 0.23122863 0.62414991]\n",
      "  [0.33582688 0.45555704 0.51001572 0.5297189  0.27984537]\n",
      "  [0.79681667 0.6412641  0.31606442 0.14802545 0.6023418 ]]\n",
      "\n",
      " [[0.16993472 0.20463933 0.38600948 0.77396261 0.31844243]\n",
      "  [0.10979603 0.92859586 0.54845207 0.05120103 0.37759072]\n",
      "  [0.15955487 0.56875758 0.72298481 0.04890055 0.81644331]]]\n",
      "\n",
      "\n",
      "[[[1.23961499 1.89004999 1.96958554 1.23122863 1.62414991]\n",
      "  [1.33582688 1.45555704 1.51001572 1.5297189  1.27984537]\n",
      "  [1.79681667 1.6412641  1.31606442 1.14802545 1.6023418 ]]\n",
      "\n",
      " [[1.16993472 1.20463933 1.38600948 1.77396261 1.31844243]\n",
      "  [1.10979603 1.92859586 1.54845207 1.05120103 1.37759072]\n",
      "  [1.15955487 1.56875758 1.72298481 1.04890055 1.81644331]]]\n"
     ]
    }
   ],
   "source": [
    "# The difference between each value of both arrays is 1 because d = a + c where all the values of c = all the values of b = 1\n",
    "print(a)\n",
    "print('\\n')\n",
    "print(d)"
   ]
  },
  {
   "cell_type": "markdown",
   "metadata": {},
   "source": [
    "#### 12. Multiply *a* and *c*. Assign the result to *e*."
   ]
  },
  {
   "cell_type": "code",
   "execution_count": 45,
   "metadata": {},
   "outputs": [],
   "source": [
    "e = a * c"
   ]
  },
  {
   "cell_type": "markdown",
   "metadata": {},
   "source": [
    "#### 13. Does *e* equal to *a*? Why or why not?\n"
   ]
  },
  {
   "cell_type": "code",
   "execution_count": 47,
   "metadata": {},
   "outputs": [
    {
     "name": "stdout",
     "output_type": "stream",
     "text": [
      "[[[0.23961499 0.89004999 0.96958554 0.23122863 0.62414991]\n",
      "  [0.33582688 0.45555704 0.51001572 0.5297189  0.27984537]\n",
      "  [0.79681667 0.6412641  0.31606442 0.14802545 0.6023418 ]]\n",
      "\n",
      " [[0.16993472 0.20463933 0.38600948 0.77396261 0.31844243]\n",
      "  [0.10979603 0.92859586 0.54845207 0.05120103 0.37759072]\n",
      "  [0.15955487 0.56875758 0.72298481 0.04890055 0.81644331]]]\n",
      "\n",
      "\n",
      "[[[0.23961499 0.89004999 0.96958554 0.23122863 0.62414991]\n",
      "  [0.33582688 0.45555704 0.51001572 0.5297189  0.27984537]\n",
      "  [0.79681667 0.6412641  0.31606442 0.14802545 0.6023418 ]]\n",
      "\n",
      " [[0.16993472 0.20463933 0.38600948 0.77396261 0.31844243]\n",
      "  [0.10979603 0.92859586 0.54845207 0.05120103 0.37759072]\n",
      "  [0.15955487 0.56875758 0.72298481 0.04890055 0.81644331]]]\n"
     ]
    }
   ],
   "source": [
    "# e = a because e = a * c where all the values of c = 1\n",
    "print(a)\n",
    "print('\\n')\n",
    "print(e)"
   ]
  },
  {
   "cell_type": "markdown",
   "metadata": {},
   "source": [
    "#### 14. Identify the max, min, and mean values in *d*. Assign those values to variables *d_max*, *d_min* and *d_mean*."
   ]
  },
  {
   "cell_type": "code",
   "execution_count": 54,
   "metadata": {},
   "outputs": [
    {
     "name": "stdout",
     "output_type": "stream",
     "text": [
      "1.9695855448655066 1.0489005457022036\n"
     ]
    }
   ],
   "source": [
    "d_max = np.amax(d)\n",
    "d_min = np.amin(d)\n",
    "print(d_max, d_min)"
   ]
  },
  {
   "cell_type": "code",
   "execution_count": 55,
   "metadata": {},
   "outputs": [
    {
     "data": {
      "text/plain": [
       "1.4585123610521762"
      ]
     },
     "execution_count": 55,
     "metadata": {},
     "output_type": "execute_result"
    }
   ],
   "source": [
    "d_mean = np.mean(d)\n",
    "d_mean"
   ]
  },
  {
   "cell_type": "markdown",
   "metadata": {},
   "source": [
    "#### 15. Now we want to label the values in *d*. First create an empty array *f* with the same shape (i.e. 2x3x5) as *d* using `np.empty`.\n"
   ]
  },
  {
   "cell_type": "code",
   "execution_count": 58,
   "metadata": {},
   "outputs": [
    {
     "data": {
      "text/plain": [
       "array([[[0.23961499, 0.89004999, 0.96958554, 0.23122863, 0.62414991],\n",
       "        [0.33582688, 0.45555704, 0.51001572, 0.5297189 , 0.27984537],\n",
       "        [0.79681667, 0.6412641 , 0.31606442, 0.14802545, 0.6023418 ]],\n",
       "\n",
       "       [[0.16993472, 0.20463933, 0.38600948, 0.77396261, 0.31844243],\n",
       "        [0.10979603, 0.92859586, 0.54845207, 0.05120103, 0.37759072],\n",
       "        [0.15955487, 0.56875758, 0.72298481, 0.04890055, 0.81644331]]])"
      ]
     },
     "execution_count": 58,
     "metadata": {},
     "output_type": "execute_result"
    }
   ],
   "source": [
    "f = np.empty((2, 3, 5))\n",
    "f"
   ]
  },
  {
   "cell_type": "markdown",
   "metadata": {},
   "source": [
    "#### 16. Populate the values in *f*. \n",
    "\n",
    "For each value in *d*, if it's larger than *d_min* but smaller than *d_mean*, assign 25 to the corresponding value in *f*. If a value in *d* is larger than *d_mean* but smaller than *d_max*, assign 75 to the corresponding value in *f*. If a value equals to *d_mean*, assign 50 to the corresponding value in *f*. Assign 0 to the corresponding value(s) in *f* for *d_min* in *d*. Assign 100 to the corresponding value(s) in *f* for *d_max* in *d*. In the end, f should have only the following values: 0, 25, 50, 75, and 100.\n",
    "\n",
    "**Note**: you don't have to use Numpy in this question."
   ]
  },
  {
   "cell_type": "code",
   "execution_count": 59,
   "metadata": {},
   "outputs": [
    {
     "data": {
      "text/plain": [
       "array([[[1.23961499, 1.89004999, 1.96958554, 1.23122863, 1.62414991],\n",
       "        [1.33582688, 1.45555704, 1.51001572, 1.5297189 , 1.27984537],\n",
       "        [1.79681667, 1.6412641 , 1.31606442, 1.14802545, 1.6023418 ]],\n",
       "\n",
       "       [[1.16993472, 1.20463933, 1.38600948, 1.77396261, 1.31844243],\n",
       "        [1.10979603, 1.92859586, 1.54845207, 1.05120103, 1.37759072],\n",
       "        [1.15955487, 1.56875758, 1.72298481, 1.04890055, 1.81644331]]])"
      ]
     },
     "execution_count": 59,
     "metadata": {},
     "output_type": "execute_result"
    }
   ],
   "source": [
    "d"
   ]
  },
  {
   "cell_type": "code",
   "execution_count": 67,
   "metadata": {},
   "outputs": [
    {
     "ename": "TypeError",
     "evalue": "cannot unpack non-iterable numpy.bool_ object",
     "output_type": "error",
     "traceback": [
      "\u001b[1;31m---------------------------------------------------------------------------\u001b[0m",
      "\u001b[1;31mTypeError\u001b[0m                                 Traceback (most recent call last)",
      "\u001b[1;32m~\\AppData\\Local\\Temp/ipykernel_8160/2987962567.py\u001b[0m in \u001b[0;36m<module>\u001b[1;34m\u001b[0m\n\u001b[1;32m----> 1\u001b[1;33m \u001b[1;32mfor\u001b[0m \u001b[0mx\u001b[0m\u001b[1;33m,\u001b[0m \u001b[0my\u001b[0m \u001b[1;32min\u001b[0m \u001b[0md\u001b[0m\u001b[1;33m.\u001b[0m\u001b[0mall\u001b[0m\u001b[1;33m(\u001b[0m\u001b[1;33m)\u001b[0m\u001b[1;33m,\u001b[0m \u001b[0mf\u001b[0m\u001b[1;33m.\u001b[0m\u001b[0mall\u001b[0m\u001b[1;33m(\u001b[0m\u001b[1;33m)\u001b[0m\u001b[1;33m:\u001b[0m\u001b[1;33m\u001b[0m\u001b[1;33m\u001b[0m\u001b[0m\n\u001b[0m\u001b[0;32m      2\u001b[0m     \u001b[1;32mif\u001b[0m \u001b[0md_min\u001b[0m \u001b[1;33m<\u001b[0m \u001b[0mx\u001b[0m \u001b[1;33m<\u001b[0m \u001b[0md_mean\u001b[0m\u001b[1;33m:\u001b[0m\u001b[1;33m\u001b[0m\u001b[1;33m\u001b[0m\u001b[0m\n\u001b[0;32m      3\u001b[0m         \u001b[0my\u001b[0m \u001b[1;33m=\u001b[0m \u001b[1;36m25\u001b[0m\u001b[1;33m\u001b[0m\u001b[1;33m\u001b[0m\u001b[0m\n\u001b[0;32m      4\u001b[0m     \u001b[1;32melif\u001b[0m \u001b[0md_mean\u001b[0m \u001b[1;33m<\u001b[0m \u001b[0mx\u001b[0m \u001b[1;33m<\u001b[0m \u001b[0md_max\u001b[0m\u001b[1;33m:\u001b[0m\u001b[1;33m\u001b[0m\u001b[1;33m\u001b[0m\u001b[0m\n\u001b[0;32m      5\u001b[0m         \u001b[0my\u001b[0m \u001b[1;33m=\u001b[0m \u001b[1;36m75\u001b[0m\u001b[1;33m\u001b[0m\u001b[1;33m\u001b[0m\u001b[0m\n",
      "\u001b[1;31mTypeError\u001b[0m: cannot unpack non-iterable numpy.bool_ object"
     ]
    }
   ],
   "source": [
    "for x, y in d, f:\n",
    "    if d_min < x < d_mean:\n",
    "        y = 25\n",
    "    elif d_mean < x < d_max:\n",
    "        y = 75\n",
    "    elif x == d_mean:\n",
    "        y = 50\n",
    "    elif x == d_min: \n",
    "        y = 0\n",
    "    else: \n",
    "        y = 100"
   ]
  },
  {
   "cell_type": "code",
   "execution_count": 70,
   "metadata": {},
   "outputs": [
    {
     "name": "stdout",
     "output_type": "stream",
     "text": [
      "[[[ 25  75 100  25  75]\n",
      "  [ 25  25  75  75  25]\n",
      "  [ 75  75  25  25  75]]\n",
      "\n",
      " [[ 25  25  25  75  25]\n",
      "  [ 25  75  75  25  25]\n",
      "  [ 25  75  75   0  75]]]\n"
     ]
    }
   ],
   "source": [
    "f = []\n",
    "for x in np.nditer(d):\n",
    "    if d_min < x < d_mean:\n",
    "        f += [25]\n",
    "    if d_mean < x < d_max:\n",
    "        f += [75]\n",
    "    if x == d_mean:\n",
    "        f += [50]\n",
    "    if x == d_min:\n",
    "        f += [0]\n",
    "    if x == d_max:\n",
    "        f += [100]\n",
    "        \n",
    "f = np.reshape(f, d.shape)\n",
    "print(f)"
   ]
  },
  {
   "cell_type": "markdown",
   "metadata": {},
   "source": [
    "#### 17. Print *d* and *f*. Do you have your expected *f*?\n",
    "For instance, if your *d* is:\n",
    "```python\n",
    "[[[1.85836099, 1.67064465, 1.62576044, 1.40243961, 1.88454931],\n",
    "[1.75354326, 1.69403643, 1.36729252, 1.61415071, 1.12104981],\n",
    "[1.72201435, 1.1862918 , 1.87078449, 1.7726778 , 1.88180042]],\n",
    "[[1.44747908, 1.31673383, 1.02000951, 1.52218947, 1.97066381],\n",
    "[1.79129243, 1.74983003, 1.96028037, 1.85166831, 1.65450881],\n",
    "[1.18068344, 1.9587381 , 1.00656599, 1.93402165, 1.73514584]]]\n",
    "```\n",
    "Your *f* should be:\n",
    "```python\n",
    "[[[ 75.,  75.,  75.,  25.,  75.],\n",
    "[ 75.,  75.,  25.,  25.,  25.],\n",
    "[ 75.,  25.,  75.,  75.,  75.]],\n",
    "[[ 25.,  25.,  25.,  25., 100.],\n",
    "[ 75.,  75.,  75.,  75.,  75.],\n",
    "[ 25.,  75.,   0.,  75.,  75.]]]\n",
    "```"
   ]
  },
  {
   "cell_type": "code",
   "execution_count": 73,
   "metadata": {},
   "outputs": [
    {
     "name": "stdout",
     "output_type": "stream",
     "text": [
      "[[[1.23961499 1.89004999 1.96958554 1.23122863 1.62414991]\n",
      "  [1.33582688 1.45555704 1.51001572 1.5297189  1.27984537]\n",
      "  [1.79681667 1.6412641  1.31606442 1.14802545 1.6023418 ]]\n",
      "\n",
      " [[1.16993472 1.20463933 1.38600948 1.77396261 1.31844243]\n",
      "  [1.10979603 1.92859586 1.54845207 1.05120103 1.37759072]\n",
      "  [1.15955487 1.56875758 1.72298481 1.04890055 1.81644331]]] \n",
      "\n",
      " [[[ 25  75 100  25  75]\n",
      "  [ 25  25  75  75  25]\n",
      "  [ 75  75  25  25  75]]\n",
      "\n",
      " [[ 25  25  25  75  25]\n",
      "  [ 25  75  75  25  25]\n",
      "  [ 25  75  75   0  75]]]\n"
     ]
    }
   ],
   "source": [
    "print(d,'\\n\\n',f)"
   ]
  },
  {
   "cell_type": "markdown",
   "metadata": {},
   "source": [
    "#### 18. Bonus question: instead of using numbers (i.e. 0, 25, 50, 75, and 100), use string values  (\"A\", \"B\", \"C\", \"D\", and \"E\") to label the array elements. For the example above, the expected result is:\n",
    "\n",
    "```python\n",
    "[[[ 'D',  'D',  'D',  'B',  'D'],\n",
    "[ 'D',  'D',  'B',  'B',  'B'],\n",
    "[ 'D',  'B',  'D',  'D',  'D']],\n",
    "[[ 'B',  'B',  'B',  'B',  'E'],\n",
    "[ 'D',  'D',  'D',  'D',  'D'],\n",
    "[ 'B',  'D',   'A',  'D', 'D']]]\n",
    "```\n",
    "**Note**: you don't have to use Numpy in this question."
   ]
  },
  {
   "cell_type": "code",
   "execution_count": 76,
   "metadata": {},
   "outputs": [
    {
     "name": "stdout",
     "output_type": "stream",
     "text": [
      "[[['A' 'B' 'E' 'A' 'B']\n",
      "  ['A' 'A' 'B' 'B' 'A']\n",
      "  ['B' 'B' 'A' 'A' 'B']]\n",
      "\n",
      " [['A' 'A' 'A' 'B' 'A']\n",
      "  ['A' 'B' 'B' 'A' 'A']\n",
      "  ['A' 'B' 'B' 'D' 'B']]]\n"
     ]
    }
   ],
   "source": [
    "g = []\n",
    "for x in np.nditer(d):\n",
    "    if d_min < x < d_mean:\n",
    "        g += 'A'\n",
    "    if d_mean < x < d_max:\n",
    "        g += 'B'\n",
    "    if x == d_mean:\n",
    "        g += 'C'\n",
    "    if x == d_min:\n",
    "        g += 'D'\n",
    "    if x == d_max:\n",
    "        g += 'E'\n",
    "        \n",
    "g = np.reshape(g, d.shape)\n",
    "print(g)"
   ]
  }
 ],
 "metadata": {
  "kernelspec": {
   "display_name": "Python 3 (ipykernel)",
   "language": "python",
   "name": "python3"
  },
  "language_info": {
   "codemirror_mode": {
    "name": "ipython",
    "version": 3
   },
   "file_extension": ".py",
   "mimetype": "text/x-python",
   "name": "python",
   "nbconvert_exporter": "python",
   "pygments_lexer": "ipython3",
   "version": "3.8.12"
  }
 },
 "nbformat": 4,
 "nbformat_minor": 2
}
