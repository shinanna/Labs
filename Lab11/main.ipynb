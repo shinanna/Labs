{
 "cells": [
  {
   "cell_type": "code",
   "execution_count": 8,
   "id": "b090e08c",
   "metadata": {},
   "outputs": [
    {
     "data": {
      "text/plain": [
       "[2, 2, 4]"
      ]
     },
     "execution_count": 8,
     "metadata": {},
     "output_type": "execute_result"
    }
   ],
   "source": [
    "# Remove All The Marked Elements of a List\n",
    "class List:\n",
    "    def remove_(self, integer_list, values_list):\n",
    "        lst = [i for i in integer_list if i not in values_list]\n",
    "        return lst\n",
    "\n",
    "l = List()\n",
    "\n",
    "integer_list =  [1, 1, 2 ,3 ,1 ,2 ,3 ,4]\n",
    "values_list = [1, 3]\n",
    "l.remove_(integer_list, values_list) #== [2, 2, 4]"
   ]
  },
  {
   "cell_type": "code",
   "execution_count": 10,
   "id": "33a0c41b",
   "metadata": {},
   "outputs": [
    {
     "data": {
      "text/plain": [
       "[(1, 3), (3, 2)]"
      ]
     },
     "execution_count": 10,
     "metadata": {},
     "output_type": "execute_result"
    }
   ],
   "source": [
    "# Method For Counting Total Occurence Of Specific Digits (alternative)\n",
    "class List(object):\n",
    "    def count_spec_digits(self, integers_list, digits_list):\n",
    "        strings = []\n",
    "        lst = []\n",
    "        \n",
    "        for i in integers_list:\n",
    "            for j in str(i):\n",
    "                strings.append(j)\n",
    "        \n",
    "        for k in digits_list:\n",
    "            lst.extend([(k, strings.count(str(k)))])\n",
    "       \n",
    "        return lst\n",
    "    \n",
    "l = List()\n",
    "\n",
    "integers_list =  [1, 1, 2 ,3 ,1 ,2 ,3 ,4]\n",
    "digits_list = [1, 3]\n",
    "l.count_spec_digits(integers_list, digits_list) #== [(1, 3), (3, 2)]"
   ]
  },
  {
   "cell_type": "code",
   "execution_count": 8,
   "id": "110c02e8",
   "metadata": {},
   "outputs": [
    {
     "data": {
      "text/plain": [
       "[('a', 5), ('b', 2), ('r', 2), ('c', 1), ('d', 1)]"
      ]
     },
     "execution_count": 8,
     "metadata": {},
     "output_type": "execute_result"
    }
   ],
   "source": [
    "# Ordered Count of Characters\n",
    "def ordered_count(inp):\n",
    "    dct = {i: str(inp).count(i) for i in inp}\n",
    "    return list(dct.items())\n",
    "\n",
    "ordered_count(\"abracadabra\") #== [('a', 5), ('b', 2), ('r', 2), ('c', 1), ('d', 1)]"
   ]
  }
 ],
 "metadata": {
  "kernelspec": {
   "display_name": "Python 3 (ipykernel)",
   "language": "python",
   "name": "python3"
  },
  "language_info": {
   "codemirror_mode": {
    "name": "ipython",
    "version": 3
   },
   "file_extension": ".py",
   "mimetype": "text/x-python",
   "name": "python",
   "nbconvert_exporter": "python",
   "pygments_lexer": "ipython3",
   "version": "3.8.12"
  }
 },
 "nbformat": 4,
 "nbformat_minor": 5
}
